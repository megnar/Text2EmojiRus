{
 "cells": [
  {
   "cell_type": "code",
   "execution_count": 27,
   "metadata": {},
   "outputs": [
    {
     "name": "stdout",
     "output_type": "stream",
     "text": [
      "(1000,)\n",
      "0        a.r.m.y664\n",
      "1             a2_9r\n",
      "2       ti.po.check\n",
      "3    nutrifersanort\n",
      "4            bhgdee\n",
      "Name: account_id, dtype: object\n"
     ]
    }
   ],
   "source": [
    "import pandas as pd\n",
    "\n",
    "file_path = \"/Users/evgeny/Desktop/study/Text2EmojiRus/data/raw/tiktok_data.csv\"\n",
    "\n",
    "df = pd.read_csv(file_path)[\"account_id\"]\n",
    "\n",
    "print(df.shape)\n",
    "print(df.head())\n"
   ]
  },
  {
   "cell_type": "code",
   "execution_count": 87,
   "metadata": {},
   "outputs": [
    {
     "name": "stdout",
     "output_type": "stream",
     "text": [
      "0            _loop\n",
      "1    Sos1skakiller\n",
      "2             Fexb\n",
      "3            Animq\n",
      "4             Ivoe\n",
      "Name: _Loo, dtype: object\n"
     ]
    }
   ],
   "source": [
    "file_path = \"/Users/evgeny/Desktop/study/Text2EmojiRus/data/raw/nicknames.txt\"\n",
    "\n",
    "df = pd.read_csv(file_path, sep=\"\\t\")  \n",
    "\n",
    "print(df[\"_Loo\"].head())\n"
   ]
  },
  {
   "cell_type": "code",
   "execution_count": 100,
   "metadata": {},
   "outputs": [],
   "source": [
    "lst = list(df.iterrows())\n",
    "lst = [el[1]['_Loo'] for el in lst]"
   ]
  },
  {
   "cell_type": "code",
   "execution_count": 101,
   "metadata": {},
   "outputs": [
    {
     "data": {
      "text/plain": [
       "['_loop',\n",
       " 'Sos1skakiller',\n",
       " 'Fexb',\n",
       " 'Animq',\n",
       " 'Ivoe',\n",
       " 'AeMeMoo',\n",
       " 'Plaksa',\n",
       " 'ad',\n",
       " 'nakochan',\n",
       " 'KingOfTheGods']"
      ]
     },
     "execution_count": 101,
     "metadata": {},
     "output_type": "execute_result"
    }
   ],
   "source": [
    "lst[:10]"
   ]
  },
  {
   "cell_type": "markdown",
   "metadata": {},
   "source": [
    "Используем этот датасет для поиска групп в телеграм"
   ]
  },
  {
   "cell_type": "code",
   "execution_count": 53,
   "metadata": {},
   "outputs": [
    {
     "name": "stdout",
     "output_type": "stream",
     "text": [
      "True\n"
     ]
    }
   ],
   "source": [
    "example = \"амо с днем рождения 🪐\"\n",
    "\n",
    "print(contains_emoji(example))"
   ]
  },
  {
   "cell_type": "code",
   "execution_count": 20,
   "metadata": {},
   "outputs": [
    {
     "ename": "ApiError",
     "evalue": "[5] User authorization failed: invalid access_token (4).",
     "output_type": "error",
     "traceback": [
      "\u001b[0;31m---------------------------------------------------------------------------\u001b[0m",
      "\u001b[0;31mApiError\u001b[0m                                  Traceback (most recent call last)",
      "Cell \u001b[0;32mIn[20], line 11\u001b[0m\n\u001b[1;32m      9\u001b[0m vk_session \u001b[38;5;241m=\u001b[39m vk_api\u001b[38;5;241m.\u001b[39mVkApi(token\u001b[38;5;241m=\u001b[39mtoken)\n\u001b[1;32m     10\u001b[0m vk \u001b[38;5;241m=\u001b[39m vk_session\u001b[38;5;241m.\u001b[39mget_api()\n\u001b[0;32m---> 11\u001b[0m \u001b[43mvk\u001b[49m\u001b[38;5;241;43m.\u001b[39;49m\u001b[43musers\u001b[49m\u001b[38;5;241;43m.\u001b[39;49m\u001b[43mget\u001b[49m\u001b[43m(\u001b[49m\u001b[43m)\u001b[49m\n\u001b[1;32m     13\u001b[0m \u001b[38;5;66;03m# try:\u001b[39;00m\n\u001b[1;32m     14\u001b[0m \u001b[38;5;66;03m#     vk_session.auth()\u001b[39;00m\n\u001b[1;32m     15\u001b[0m \u001b[38;5;66;03m#     return vk_session.get_api()\u001b[39;00m\n\u001b[1;32m     16\u001b[0m \u001b[38;5;66;03m# except vk_api.AuthError as error_msg:\u001b[39;00m\n\u001b[1;32m     17\u001b[0m \u001b[38;5;66;03m#     print(error_msg)\u001b[39;00m\n\u001b[1;32m     18\u001b[0m \u001b[38;5;66;03m#     return None\u001b[39;00m\n",
      "File \u001b[0;32m/Library/Frameworks/Python.framework/Versions/3.12/lib/python3.12/site-packages/vk_api/vk_api.py:737\u001b[0m, in \u001b[0;36mVkApiMethod.__call__\u001b[0;34m(self, **kwargs)\u001b[0m\n\u001b[1;32m    734\u001b[0m     \u001b[38;5;28;01mif\u001b[39;00m \u001b[38;5;28misinstance\u001b[39m(v, (\u001b[38;5;28mlist\u001b[39m, \u001b[38;5;28mtuple\u001b[39m)):\n\u001b[1;32m    735\u001b[0m         kwargs[k] \u001b[38;5;241m=\u001b[39m \u001b[38;5;124m'\u001b[39m\u001b[38;5;124m,\u001b[39m\u001b[38;5;124m'\u001b[39m\u001b[38;5;241m.\u001b[39mjoin(\u001b[38;5;28mstr\u001b[39m(x) \u001b[38;5;28;01mfor\u001b[39;00m x \u001b[38;5;129;01min\u001b[39;00m v)\n\u001b[0;32m--> 737\u001b[0m \u001b[38;5;28;01mreturn\u001b[39;00m \u001b[38;5;28;43mself\u001b[39;49m\u001b[38;5;241;43m.\u001b[39;49m\u001b[43m_vk\u001b[49m\u001b[38;5;241;43m.\u001b[39;49m\u001b[43mmethod\u001b[49m\u001b[43m(\u001b[49m\u001b[38;5;28;43mself\u001b[39;49m\u001b[38;5;241;43m.\u001b[39;49m\u001b[43m_method\u001b[49m\u001b[43m,\u001b[49m\u001b[43m \u001b[49m\u001b[43mkwargs\u001b[49m\u001b[43m)\u001b[49m\n",
      "File \u001b[0;32m/Library/Frameworks/Python.framework/Versions/3.12/lib/python3.12/site-packages/vk_api/vk_api.py:697\u001b[0m, in \u001b[0;36mVkApi.method\u001b[0;34m(self, method, values, captcha_sid, captcha_key, raw)\u001b[0m\n\u001b[1;32m    694\u001b[0m         \u001b[38;5;28;01mif\u001b[39;00m response \u001b[38;5;129;01mis\u001b[39;00m \u001b[38;5;129;01mnot\u001b[39;00m \u001b[38;5;28;01mNone\u001b[39;00m:\n\u001b[1;32m    695\u001b[0m             \u001b[38;5;28;01mreturn\u001b[39;00m response\n\u001b[0;32m--> 697\u001b[0m     \u001b[38;5;28;01mraise\u001b[39;00m error\n\u001b[1;32m    699\u001b[0m \u001b[38;5;28;01mreturn\u001b[39;00m response \u001b[38;5;28;01mif\u001b[39;00m raw \u001b[38;5;28;01melse\u001b[39;00m response[\u001b[38;5;124m'\u001b[39m\u001b[38;5;124mresponse\u001b[39m\u001b[38;5;124m'\u001b[39m]\n",
      "\u001b[0;31mApiError\u001b[0m: [5] User authorization failed: invalid access_token (4)."
     ]
    }
   ],
   "source": [
    "\n",
    "\n",
    "# try:\n",
    "#     vk_session.auth()\n",
    "#     return vk_session.get_api()\n",
    "# except vk_api.AuthError as error_msg:\n",
    "#     print(error_msg)\n",
    "#     return None"
   ]
  },
  {
   "cell_type": "code",
   "execution_count": 2,
   "metadata": {},
   "outputs": [
    {
     "name": "stderr",
     "output_type": "stream",
     "text": [
      "/var/folders/dt/y7wk4rzx3dsg1r6_m1tgxhwc0000gn/T/ipykernel_13134/4080736814.py:1: DeprecationWarning: \n",
      "Pyarrow will become a required dependency of pandas in the next major release of pandas (pandas 3.0),\n",
      "(to allow more performant data types, such as the Arrow string type, and better interoperability with other libraries)\n",
      "but was not found to be installed on your system.\n",
      "If this would cause problems for you,\n",
      "please provide us feedback at https://github.com/pandas-dev/pandas/issues/54466\n",
      "        \n",
      "  import pandas as pd\n"
     ]
    }
   ],
   "source": [
    "import pandas as pd"
   ]
  },
  {
   "cell_type": "code",
   "execution_count": 4,
   "metadata": {},
   "outputs": [
    {
     "data": {
      "text/plain": [
       "(10741, 1)"
      ]
     },
     "execution_count": 4,
     "metadata": {},
     "output_type": "execute_result"
    }
   ],
   "source": [
    "df = pd.read_csv(\"/Users/evgeny/Desktop/study/Text2EmojiRus/data/processed/text_and_emoji.csv\")\n",
    "df.shape"
   ]
  }
 ],
 "metadata": {
  "kernelspec": {
   "display_name": "Python 3",
   "language": "python",
   "name": "python3"
  },
  "language_info": {
   "codemirror_mode": {
    "name": "ipython",
    "version": 3
   },
   "file_extension": ".py",
   "mimetype": "text/x-python",
   "name": "python",
   "nbconvert_exporter": "python",
   "pygments_lexer": "ipython3",
   "version": "3.12.0"
  }
 },
 "nbformat": 4,
 "nbformat_minor": 2
}
