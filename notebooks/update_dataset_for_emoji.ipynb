{
 "cells": [
  {
   "cell_type": "markdown",
   "metadata": {},
   "source": [
    "Создадим датасет для обучения обработав emoji\n",
    "1: Ищем только emoji, которые встречаются адекватное число раз\n",
    "2: Упрощаем логику и не берем во внимание логическое сследствие некоторых emoji за другими. Если для текста несколько эмоджи, мы создаем несколько строк с одинаковым текстом\n",
    "3: Удаляем emoji из пункта 1 в нашем датасете\n",
    "\n",
    "Таким образом мы не будем обучаться на некоторых непопулярных emoji"
   ]
  },
  {
   "cell_type": "markdown",
   "metadata": {},
   "source": [
    "1: Ищем только emoji, которые встречаются адекватное число раз"
   ]
  },
  {
   "cell_type": "code",
   "execution_count": 4,
   "metadata": {},
   "outputs": [
    {
     "name": "stderr",
     "output_type": "stream",
     "text": [
      "/var/folders/dt/y7wk4rzx3dsg1r6_m1tgxhwc0000gn/T/ipykernel_87389/3581806878.py:1: DeprecationWarning: \n",
      "Pyarrow will become a required dependency of pandas in the next major release of pandas (pandas 3.0),\n",
      "(to allow more performant data types, such as the Arrow string type, and better interoperability with other libraries)\n",
      "but was not found to be installed on your system.\n",
      "If this would cause problems for you,\n",
      "please provide us feedback at https://github.com/pandas-dev/pandas/issues/54466\n",
      "        \n",
      "  import pandas as pd\n"
     ]
    }
   ],
   "source": [
    "import pandas as pd\n",
    "\n",
    "input_file = \"/Users/evgeny/Desktop/study/Text2EmojiRus/data/processed/scrapped_dataset_no_dubl.csv\"\n",
    "output_file = \"/Users/evgeny/Desktop/study/Text2EmojiRus/data/final/final_train.csv\"\n",
    "\n",
    "df = pd.read_csv(input_file)"
   ]
  },
  {
   "cell_type": "code",
   "execution_count": 5,
   "metadata": {},
   "outputs": [],
   "source": [
    "df = df.dropna()"
   ]
  },
  {
   "cell_type": "code",
   "execution_count": 6,
   "metadata": {},
   "outputs": [
    {
     "name": "stdout",
     "output_type": "stream",
     "text": [
      "1302\n",
      "1450\n"
     ]
    }
   ],
   "source": [
    "list_emoji = list(df.iterrows())\n",
    "map = {}\n",
    "for i in range(len(list_emoji)):\n",
    "    em = list_emoji[i][1][\"emoji\"]\n",
    "    try:\n",
    "        for j in em:\n",
    "            if j not in map:\n",
    "                map[j] = 1\n",
    "            else:\n",
    "                map[j] += 1\n",
    "    except Exception:\n",
    "        print(i, em)\n",
    "\n",
    "count = sum(1 for value in map.values() if value < 500)\n",
    "\n",
    "print(count)\n",
    "print(len(map))"
   ]
  },
  {
   "cell_type": "code",
   "execution_count": 7,
   "metadata": {},
   "outputs": [
    {
     "name": "stdout",
     "output_type": "stream",
     "text": [
      "148\n"
     ]
    }
   ],
   "source": [
    "all_allowed_emoji = set()\n",
    "for key, value in map.items():\n",
    "    if value >= 500:\n",
    "        all_allowed_emoji.update([key])\n",
    "print(len(all_allowed_emoji))"
   ]
  },
  {
   "cell_type": "code",
   "execution_count": 8,
   "metadata": {},
   "outputs": [
    {
     "data": {
      "text/plain": [
       "{'▫',\n",
       " '☀',\n",
       " '☝',\n",
       " '☹',\n",
       " '☺',\n",
       " '♥',\n",
       " '✅',\n",
       " '✊',\n",
       " '✌',\n",
       " '✍',\n",
       " '✨',\n",
       " '❗',\n",
       " '❤',\n",
       " '⠀',\n",
       " '🇦',\n",
       " '🇺',\n",
       " '🌚',\n",
       " '🌟',\n",
       " '🌷',\n",
       " '🌸',\n",
       " '🌹',\n",
       " '🌺',\n",
       " '🍓',\n",
       " '🎂',\n",
       " '🎄',\n",
       " '🎉',\n",
       " '🎵',\n",
       " '🏆',\n",
       " '🏳',\n",
       " '🏻',\n",
       " '🏼',\n",
       " '🏽',\n",
       " '🏿',\n",
       " '🐾',\n",
       " '👀',\n",
       " '👉',\n",
       " '👋',\n",
       " '👌',\n",
       " '👍',\n",
       " '👎',\n",
       " '👏',\n",
       " '💀',\n",
       " '💃',\n",
       " '💋',\n",
       " '💐',\n",
       " '💓',\n",
       " '💔',\n",
       " '💕',\n",
       " '💖',\n",
       " '💗',\n",
       " '💘',\n",
       " '💚',\n",
       " '💛',\n",
       " '💜',\n",
       " '💞',\n",
       " '💥',\n",
       " '💩',\n",
       " '💪',\n",
       " '💫',\n",
       " '💯',\n",
       " '📄',\n",
       " '🔥',\n",
       " '🖤',\n",
       " '🗿',\n",
       " '😀',\n",
       " '😁',\n",
       " '😂',\n",
       " '😃',\n",
       " '😄',\n",
       " '😅',\n",
       " '😆',\n",
       " '😇',\n",
       " '😈',\n",
       " '😉',\n",
       " '😊',\n",
       " '😋',\n",
       " '😌',\n",
       " '😍',\n",
       " '😎',\n",
       " '😏',\n",
       " '😐',\n",
       " '😑',\n",
       " '😒',\n",
       " '😓',\n",
       " '😔',\n",
       " '😕',\n",
       " '😘',\n",
       " '😜',\n",
       " '😝',\n",
       " '😞',\n",
       " '😡',\n",
       " '😢',\n",
       " '😥',\n",
       " '😨',\n",
       " '😩',\n",
       " '😬',\n",
       " '😭',\n",
       " '😰',\n",
       " '😱',\n",
       " '😳',\n",
       " '😵',\n",
       " '😶',\n",
       " '😹',\n",
       " '😻',\n",
       " '🙀',\n",
       " '🙁',\n",
       " '🙂',\n",
       " '🙃',\n",
       " '🙄',\n",
       " '🙈',\n",
       " '🙊',\n",
       " '🙌',\n",
       " '🙏',\n",
       " '🤍',\n",
       " '🤓',\n",
       " '🤔',\n",
       " '🤗',\n",
       " '🤝',\n",
       " '🤞',\n",
       " '🤡',\n",
       " '🤢',\n",
       " '🤣',\n",
       " '🤤',\n",
       " '🤦',\n",
       " '🤨',\n",
       " '🤩',\n",
       " '🤪',\n",
       " '🤫',\n",
       " '🤬',\n",
       " '🤭',\n",
       " '🤮',\n",
       " '🤯',\n",
       " '🤷',\n",
       " '🥭',\n",
       " '🥰',\n",
       " '🥱',\n",
       " '🥲',\n",
       " '🥳',\n",
       " '🥴',\n",
       " '🥹',\n",
       " '🥺',\n",
       " '🦄',\n",
       " '🧐',\n",
       " '🩷',\n",
       " '🫠',\n",
       " '🫡',\n",
       " '🫣',\n",
       " '🫶'}"
      ]
     },
     "execution_count": 8,
     "metadata": {},
     "output_type": "execute_result"
    }
   ],
   "source": [
    "all_allowed_emoji"
   ]
  },
  {
   "cell_type": "markdown",
   "metadata": {},
   "source": [
    "2: Упрощаем логику и не берем во внимание логическое сследствие некоторых emoji за другими. Если для текста несколько эмоджи, мы создаем несколько строк с одинаковым текстом"
   ]
  },
  {
   "cell_type": "code",
   "execution_count": 9,
   "metadata": {},
   "outputs": [
    {
     "name": "stdout",
     "output_type": "stream",
     "text": [
      "630946\n"
     ]
    },
    {
     "data": {
      "text/html": [
       "<div>\n",
       "<style scoped>\n",
       "    .dataframe tbody tr th:only-of-type {\n",
       "        vertical-align: middle;\n",
       "    }\n",
       "\n",
       "    .dataframe tbody tr th {\n",
       "        vertical-align: top;\n",
       "    }\n",
       "\n",
       "    .dataframe thead th {\n",
       "        text-align: right;\n",
       "    }\n",
       "</style>\n",
       "<table border=\"1\" class=\"dataframe\">\n",
       "  <thead>\n",
       "    <tr style=\"text-align: right;\">\n",
       "      <th></th>\n",
       "      <th>emoji</th>\n",
       "      <th>text</th>\n",
       "    </tr>\n",
       "  </thead>\n",
       "  <tbody>\n",
       "    <tr>\n",
       "      <th>0</th>\n",
       "      <td>🌺</td>\n",
       "      <td>С Уважением, Мария</td>\n",
       "    </tr>\n",
       "    <tr>\n",
       "      <th>1</th>\n",
       "      <td>❤</td>\n",
       "      <td>отвержения» и «мне здесь не место», то какой п...</td>\n",
       "    </tr>\n",
       "    <tr>\n",
       "      <th>2</th>\n",
       "      <td>🌺</td>\n",
       "      <td>С Уважением, Служба заботы</td>\n",
       "    </tr>\n",
       "    <tr>\n",
       "      <th>3</th>\n",
       "      <td>♥</td>\n",
       "      <td>Купила «Внимание на себя!» Очень ждала нового ...</td>\n",
       "    </tr>\n",
       "    <tr>\n",
       "      <th>4</th>\n",
       "      <td>😎</td>\n",
       "      <td>Второй и третий уже откроется стразу это стары...</td>\n",
       "    </tr>\n",
       "  </tbody>\n",
       "</table>\n",
       "</div>"
      ],
      "text/plain": [
       "  emoji                                               text\n",
       "0     🌺                                 С Уважением, Мария\n",
       "1     ❤  отвержения» и «мне здесь не место», то какой п...\n",
       "2     🌺                         С Уважением, Служба заботы\n",
       "3     ♥  Купила «Внимание на себя!» Очень ждала нового ...\n",
       "4     😎  Второй и третий уже откроется стразу это стары..."
      ]
     },
     "execution_count": 9,
     "metadata": {},
     "output_type": "execute_result"
    }
   ],
   "source": [
    "def split_emojis(row):\n",
    "    set_of_images = set()\n",
    "    emojis = list(row['emoji'])  \n",
    "    set_of_images.update(emojis)\n",
    "    emojis = list(set_of_images)\n",
    "    return pd.DataFrame({'emoji': emojis, 'text': [row['text']] * len(emojis)})\n",
    "\n",
    "new_df = pd.concat(df.apply(split_emojis, axis=1).values, ignore_index=True)\n",
    "\n",
    "print(len(new_df))\n",
    "new_df.head()\n",
    "\n"
   ]
  },
  {
   "cell_type": "code",
   "execution_count": 10,
   "metadata": {},
   "outputs": [
    {
     "name": "stdout",
     "output_type": "stream",
     "text": [
      "630946\n"
     ]
    }
   ],
   "source": [
    "def split_emojis(row):\n",
    "    set_of_images = set()\n",
    "    emojis = list(row['emoji'])  \n",
    "    set_of_images.update(emojis)\n",
    "    emojis = list(set_of_images)\n",
    "    return pd.DataFrame({'emoji': emojis, 'text': [row['text']] * len(emojis)})\n",
    "\n",
    "new_df = pd.concat(df.apply(split_emojis, axis=1).values, ignore_index=True)\n",
    "\n",
    "print(len(new_df))\n"
   ]
  },
  {
   "cell_type": "code",
   "execution_count": 11,
   "metadata": {},
   "outputs": [
    {
     "data": {
      "text/html": [
       "<div>\n",
       "<style scoped>\n",
       "    .dataframe tbody tr th:only-of-type {\n",
       "        vertical-align: middle;\n",
       "    }\n",
       "\n",
       "    .dataframe tbody tr th {\n",
       "        vertical-align: top;\n",
       "    }\n",
       "\n",
       "    .dataframe thead th {\n",
       "        text-align: right;\n",
       "    }\n",
       "</style>\n",
       "<table border=\"1\" class=\"dataframe\">\n",
       "  <thead>\n",
       "    <tr style=\"text-align: right;\">\n",
       "      <th></th>\n",
       "      <th>emoji</th>\n",
       "      <th>text</th>\n",
       "    </tr>\n",
       "  </thead>\n",
       "  <tbody>\n",
       "    <tr>\n",
       "      <th>0</th>\n",
       "      <td>🌺</td>\n",
       "      <td>С Уважением, Мария</td>\n",
       "    </tr>\n",
       "    <tr>\n",
       "      <th>1</th>\n",
       "      <td>❤</td>\n",
       "      <td>отвержения» и «мне здесь не место», то какой п...</td>\n",
       "    </tr>\n",
       "    <tr>\n",
       "      <th>2</th>\n",
       "      <td>🌺</td>\n",
       "      <td>С Уважением, Служба заботы</td>\n",
       "    </tr>\n",
       "    <tr>\n",
       "      <th>3</th>\n",
       "      <td>♥</td>\n",
       "      <td>Купила «Внимание на себя!» Очень ждала нового ...</td>\n",
       "    </tr>\n",
       "    <tr>\n",
       "      <th>4</th>\n",
       "      <td>😎</td>\n",
       "      <td>Второй и третий уже откроется стразу это стары...</td>\n",
       "    </tr>\n",
       "    <tr>\n",
       "      <th>...</th>\n",
       "      <td>...</td>\n",
       "      <td>...</td>\n",
       "    </tr>\n",
       "    <tr>\n",
       "      <th>108</th>\n",
       "      <td>❤</td>\n",
       "      <td>несварение можно получить )) Зато если отозвал...</td>\n",
       "    </tr>\n",
       "    <tr>\n",
       "      <th>109</th>\n",
       "      <td>🧡</td>\n",
       "      <td>Вы прекрасны при любом раскладе</td>\n",
       "    </tr>\n",
       "    <tr>\n",
       "      <th>110</th>\n",
       "      <td>🌺</td>\n",
       "      <td>Вы прекрасны при любом раскладе</td>\n",
       "    </tr>\n",
       "    <tr>\n",
       "      <th>111</th>\n",
       "      <td>😅</td>\n",
       "      <td>как не признать, что Поле ведёт под истинный з...</td>\n",
       "    </tr>\n",
       "    <tr>\n",
       "      <th>112</th>\n",
       "      <td>😂</td>\n",
       "      <td>тоже начинала с тела как Феррари)) просто купи...</td>\n",
       "    </tr>\n",
       "  </tbody>\n",
       "</table>\n",
       "<p>113 rows × 2 columns</p>\n",
       "</div>"
      ],
      "text/plain": [
       "    emoji                                               text\n",
       "0       🌺                                 С Уважением, Мария\n",
       "1       ❤  отвержения» и «мне здесь не место», то какой п...\n",
       "2       🌺                         С Уважением, Служба заботы\n",
       "3       ♥  Купила «Внимание на себя!» Очень ждала нового ...\n",
       "4       😎  Второй и третий уже откроется стразу это стары...\n",
       "..    ...                                                ...\n",
       "108     ❤  несварение можно получить )) Зато если отозвал...\n",
       "109     🧡                    Вы прекрасны при любом раскладе\n",
       "110     🌺                    Вы прекрасны при любом раскладе\n",
       "111     😅  как не признать, что Поле ведёт под истинный з...\n",
       "112     😂  тоже начинала с тела как Феррари)) просто купи...\n",
       "\n",
       "[113 rows x 2 columns]"
      ]
     },
     "execution_count": 11,
     "metadata": {},
     "output_type": "execute_result"
    }
   ],
   "source": [
    "new_df.head(113)\n"
   ]
  },
  {
   "cell_type": "markdown",
   "metadata": {},
   "source": [
    "3: Удаляем emoji из пункта 1 в нашем датасете\n"
   ]
  },
  {
   "cell_type": "code",
   "execution_count": 12,
   "metadata": {},
   "outputs": [
    {
     "name": "stdout",
     "output_type": "stream",
     "text": [
      "578219\n"
     ]
    },
    {
     "data": {
      "text/html": [
       "<div>\n",
       "<style scoped>\n",
       "    .dataframe tbody tr th:only-of-type {\n",
       "        vertical-align: middle;\n",
       "    }\n",
       "\n",
       "    .dataframe tbody tr th {\n",
       "        vertical-align: top;\n",
       "    }\n",
       "\n",
       "    .dataframe thead th {\n",
       "        text-align: right;\n",
       "    }\n",
       "</style>\n",
       "<table border=\"1\" class=\"dataframe\">\n",
       "  <thead>\n",
       "    <tr style=\"text-align: right;\">\n",
       "      <th></th>\n",
       "      <th>emoji</th>\n",
       "      <th>text</th>\n",
       "    </tr>\n",
       "  </thead>\n",
       "  <tbody>\n",
       "    <tr>\n",
       "      <th>0</th>\n",
       "      <td>🌺</td>\n",
       "      <td>С Уважением, Мария</td>\n",
       "    </tr>\n",
       "    <tr>\n",
       "      <th>1</th>\n",
       "      <td>❤</td>\n",
       "      <td>отвержения» и «мне здесь не место», то какой п...</td>\n",
       "    </tr>\n",
       "    <tr>\n",
       "      <th>2</th>\n",
       "      <td>🌺</td>\n",
       "      <td>С Уважением, Служба заботы</td>\n",
       "    </tr>\n",
       "    <tr>\n",
       "      <th>3</th>\n",
       "      <td>♥</td>\n",
       "      <td>Купила «Внимание на себя!» Очень ждала нового ...</td>\n",
       "    </tr>\n",
       "    <tr>\n",
       "      <th>4</th>\n",
       "      <td>😎</td>\n",
       "      <td>Второй и третий уже откроется стразу это стары...</td>\n",
       "    </tr>\n",
       "  </tbody>\n",
       "</table>\n",
       "</div>"
      ],
      "text/plain": [
       "  emoji                                               text\n",
       "0     🌺                                 С Уважением, Мария\n",
       "1     ❤  отвержения» и «мне здесь не место», то какой п...\n",
       "2     🌺                         С Уважением, Служба заботы\n",
       "3     ♥  Купила «Внимание на себя!» Очень ждала нового ...\n",
       "4     😎  Второй и третий уже откроется стразу это стары..."
      ]
     },
     "execution_count": 12,
     "metadata": {},
     "output_type": "execute_result"
    }
   ],
   "source": [
    "new_new_df = new_df[new_df['emoji'].apply(lambda x: x[0] in all_allowed_emoji)]\n",
    "print(len(new_new_df))\n",
    "new_new_df.head()"
   ]
  },
  {
   "cell_type": "code",
   "execution_count": null,
   "metadata": {},
   "outputs": [],
   "source": [
    "new_new_df.to_csv(output_file, index=False)\n"
   ]
  }
 ],
 "metadata": {
  "kernelspec": {
   "display_name": "Python 3",
   "language": "python",
   "name": "python3"
  },
  "language_info": {
   "codemirror_mode": {
    "name": "ipython",
    "version": 3
   },
   "file_extension": ".py",
   "mimetype": "text/x-python",
   "name": "python",
   "nbconvert_exporter": "python",
   "pygments_lexer": "ipython3",
   "version": "3.12.0"
  }
 },
 "nbformat": 4,
 "nbformat_minor": 2
}
