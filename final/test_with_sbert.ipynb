{
  "cells": [
    {
      "cell_type": "markdown",
      "metadata": {
        "id": "KOf0A3knSlOA"
      },
      "source": [
        "Для начала приведем csv файл в корекнтный формат"
      ]
    },
    {
      "cell_type": "code",
      "execution_count": null,
      "metadata": {
        "colab": {
          "base_uri": "https://localhost:8080/"
        },
        "id": "V7EuEllT6lm8",
        "outputId": "1e27502a-c70d-4f7c-c348-d2fca6c486e8"
      },
      "outputs": [
        {
          "output_type": "stream",
          "name": "stdout",
          "text": [
            "Mounted at /content/drive\n"
          ]
        }
      ],
      "source": [
        "from google.colab import drive\n",
        "drive.mount('/content/drive')"
      ]
    },
    {
      "cell_type": "code",
      "execution_count": null,
      "metadata": {
        "id": "NPzh4QV2SlOC"
      },
      "outputs": [],
      "source": [
        "import pandas as pd\n",
        "from sklearn.model_selection import train_test_split\n",
        "\n",
        "\n",
        "input_file = \"/content/drive/MyDrive/final_train.csv\"\n",
        "df = pd.read_csv(input_file)"
      ]
    },
    {
      "cell_type": "code",
      "execution_count": null,
      "metadata": {
        "colab": {
          "base_uri": "https://localhost:8080/"
        },
        "id": "iHhdp6l97cVn",
        "outputId": "590bf845-1c3d-4300-93ee-e2f6d2612900"
      },
      "outputs": [
        {
          "output_type": "execute_result",
          "data": {
            "text/plain": [
              "446559"
            ]
          },
          "metadata": {},
          "execution_count": 3
        }
      ],
      "source": [
        "df.head()\n",
        "len(df)"
      ]
    },
    {
      "cell_type": "code",
      "execution_count": null,
      "metadata": {
        "id": "OjJJiGWaSlOD"
      },
      "outputs": [],
      "source": [
        "texts = df['text'].values\n",
        "emojis_data = df['emoji'].factorize()\n",
        "emojis = emojis_data[0]\n",
        "train_texts, val_texts, train_labels, val_labels = train_test_split(texts, emojis, test_size=0.1, random_state=42)"
      ]
    },
    {
      "cell_type": "code",
      "execution_count": null,
      "metadata": {
        "colab": {
          "base_uri": "https://localhost:8080/"
        },
        "id": "JqP7Whrlnfd9",
        "outputId": "c3acfc92-ceba-4e3c-a157-10b6af8115cc"
      },
      "outputs": [
        {
          "output_type": "execute_result",
          "data": {
            "text/plain": [
              "array([0, 1, 2, 3, 4, 5, 6, 7, 8, 0])"
            ]
          },
          "metadata": {},
          "execution_count": 5
        }
      ],
      "source": [
        "emojis_data[0][:10]"
      ]
    },
    {
      "cell_type": "code",
      "execution_count": null,
      "metadata": {
        "colab": {
          "base_uri": "https://localhost:8080/"
        },
        "id": "0PQd4UJ4n-hU",
        "outputId": "164ca2c7-e30f-4ea4-b637-72cf8561d322"
      },
      "outputs": [
        {
          "output_type": "stream",
          "name": "stdout",
          "text": [
            "62\n"
          ]
        }
      ],
      "source": [
        "map = {}\n",
        "for i in range(len(emojis_data[0])):\n",
        "    em = emojis_data[0][i]\n",
        "    if em not in map:\n",
        "        map[em] = 1\n",
        "    else:\n",
        "        map[em] += 1\n",
        "\n",
        "print(len(map))"
      ]
    },
    {
      "cell_type": "code",
      "execution_count": null,
      "metadata": {
        "id": "D4_pEpM7mpHp"
      },
      "outputs": [],
      "source": [
        "def emoji_to_num(emoji):\n",
        "  for index, elem in enumerate(emojis_data[1]):\n",
        "    if elem == emoji:\n",
        "      return index\n",
        "\n",
        "def num_to_emoji(num):\n",
        "  return emojis_data[1][num]"
      ]
    },
    {
      "cell_type": "code",
      "execution_count": null,
      "metadata": {
        "colab": {
          "base_uri": "https://localhost:8080/",
          "height": 284,
          "referenced_widgets": [
            "1e0e0cfd16c3459ab794b75b22ec8abb",
            "36c41e054ce74952a2825e3aa0d7e2fe",
            "871791939423484db1839a8a303b8459",
            "ddbff50c0b824e8285d5fe27c0f6758b",
            "485422e77270405dbcb27f88d739fde3",
            "986c11125f1d46508b7c354237732f29",
            "7b944382bc354dfab585dface3868ca6",
            "006ba014063845279986178afb7c2f1e",
            "8a54d22908b441bdb7eefcb48acf55f9",
            "a3970947956a40ba92aaed0a826fb3ef",
            "cbe4585e59cd482a8af5d792eb4bf469",
            "6864127ceb8b4db9b4bd8854247c4229",
            "09469876d87e4d7b8d3ed0ab91582bb8",
            "e5689165756a4410b9295777e578fa10",
            "68c9aa44422b45c7ab8890b3ff849277",
            "6d76028b4b1c4b4084ae02a2c1e0c185",
            "e132fe7942734e4388bd7ed6a97ba983",
            "7ecc9ce90fc44697a270e78635c1f49b",
            "674d9dfe81d94016bb5fd3574db9606d",
            "b1826773881644c6b41a449731c1a443",
            "e255aa9038ca4f81ad7f50cdf340fd12",
            "4f6bffcb0a334d58985d318f10e096b7",
            "f4a73868f1134592b836ec094bf19218",
            "8495ef7ae3bf48c997bcf4637707fcd9",
            "6d4ed7818e4a42dfbec84bb5b807f288",
            "f0019e04f1fd481d80be1e2f853b6f62",
            "70697d3c4ade4bee80bcc84a2a489ac4",
            "94fac01c044140a596ced0bae3aa1318",
            "b7ae30b011074d2883a0394721c42a98",
            "c58f576bfd6543319181ca199e36a686",
            "ade669f5689a4b589fd70da975efe92c",
            "4d9edf3237934577822e7b2a0ddb061c",
            "699b4f0f5bba4bbc85c5695942055305",
            "4acc4fff76e34d5ea3254c958f0fd3bc",
            "89e31d6c09f74c589c496f7c4e067a69",
            "355b03147640461e86ccbe23ce5ca4c5",
            "26c8089003b045de95540d0dcbdca720",
            "833ab09624f14a6e9a92f347f9d51020",
            "f92753a960a54a3c808c7bfe7612d975",
            "198d9bfbca5a47d5b5f72adc2cdc70c1",
            "f28bda82d05b4fbf96b948b229bbbf72",
            "181677f276214c32a4abaf4669aa362b",
            "4324fb18eead4d58ad85f27ce8241baf",
            "20435a98415f41219b23b71705539d22",
            "42da8dcf14074a91baeeab2bd2f9d516",
            "fb7c07ccce38471997156887005409b6",
            "c4217b407865439d9a84067c1cb623bd",
            "ad8baedbb0fc48609423b2e2e7079426",
            "07d8339419be4b4ca79e5d480fc03af8",
            "0ede425874d546aea5ce63896b38339c",
            "a00dc8db8ab445f4acb5c64be0a859e9",
            "05c481a0694d4257998904161fe7043a",
            "2f5a0369233c418393ce2f3193ad499e",
            "a71dd6cff49d4989afe4f2d2b9d756d9",
            "76da8c0bd42749b6b15fbc0274c3269c"
          ]
        },
        "id": "p_I1ZrMNSlOD",
        "outputId": "decf1d2e-379f-47e2-82f5-1960ef34cfe8"
      },
      "outputs": [
        {
          "output_type": "stream",
          "name": "stderr",
          "text": [
            "/usr/local/lib/python3.10/dist-packages/huggingface_hub/utils/_token.py:89: UserWarning: \n",
            "The secret `HF_TOKEN` does not exist in your Colab secrets.\n",
            "To authenticate with the Hugging Face Hub, create a token in your settings tab (https://huggingface.co/settings/tokens), set it as secret in your Google Colab and restart your session.\n",
            "You will be able to reuse this secret in all of your notebooks.\n",
            "Please note that authentication is recommended but still optional to access public models or datasets.\n",
            "  warnings.warn(\n"
          ]
        },
        {
          "output_type": "display_data",
          "data": {
            "text/plain": [
              "tokenizer_config.json:   0%|          | 0.00/1.27k [00:00<?, ?B/s]"
            ],
            "application/vnd.jupyter.widget-view+json": {
              "version_major": 2,
              "version_minor": 0,
              "model_id": "1e0e0cfd16c3459ab794b75b22ec8abb"
            }
          },
          "metadata": {}
        },
        {
          "output_type": "display_data",
          "data": {
            "text/plain": [
              "tokenizer.json:   0%|          | 0.00/3.71M [00:00<?, ?B/s]"
            ],
            "application/vnd.jupyter.widget-view+json": {
              "version_major": 2,
              "version_minor": 0,
              "model_id": "6864127ceb8b4db9b4bd8854247c4229"
            }
          },
          "metadata": {}
        },
        {
          "output_type": "display_data",
          "data": {
            "text/plain": [
              "special_tokens_map.json:   0%|          | 0.00/125 [00:00<?, ?B/s]"
            ],
            "application/vnd.jupyter.widget-view+json": {
              "version_major": 2,
              "version_minor": 0,
              "model_id": "f4a73868f1134592b836ec094bf19218"
            }
          },
          "metadata": {}
        },
        {
          "output_type": "display_data",
          "data": {
            "text/plain": [
              "config.json:   0%|          | 0.00/863 [00:00<?, ?B/s]"
            ],
            "application/vnd.jupyter.widget-view+json": {
              "version_major": 2,
              "version_minor": 0,
              "model_id": "4acc4fff76e34d5ea3254c958f0fd3bc"
            }
          },
          "metadata": {}
        },
        {
          "output_type": "display_data",
          "data": {
            "text/plain": [
              "model.safetensors:   0%|          | 0.00/1.71G [00:00<?, ?B/s]"
            ],
            "application/vnd.jupyter.widget-view+json": {
              "version_major": 2,
              "version_minor": 0,
              "model_id": "42da8dcf14074a91baeeab2bd2f9d516"
            }
          },
          "metadata": {}
        }
      ],
      "source": [
        "from transformers import AutoTokenizer, AutoModel\n",
        "import torch\n",
        "\n",
        "\n",
        "tokenizer = AutoTokenizer.from_pretrained(\"ai-forever/sbert_large_nlu_ru\")\n",
        "tokenizer.truncation_side = 'left'\n",
        "bert = AutoModel.from_pretrained(\"ai-forever/sbert_large_nlu_ru\")"
      ]
    },
    {
      "cell_type": "code",
      "execution_count": null,
      "metadata": {
        "id": "wOHvcOkbSlOD"
      },
      "outputs": [],
      "source": [
        "def tokenize_data(texts, tokenizer, max_len=24):\n",
        "    return tokenizer(\n",
        "        texts.tolist(),\n",
        "        max_length=max_len,\n",
        "        padding=True,\n",
        "        truncation=True,\n",
        "        return_tensors='pt'\n",
        "    )"
      ]
    },
    {
      "cell_type": "code",
      "execution_count": null,
      "metadata": {
        "id": "PgTlJ11oSlOE"
      },
      "outputs": [],
      "source": [
        "train_encodings = tokenize_data(train_texts, tokenizer)\n",
        "val_encodings = tokenize_data(val_texts, tokenizer)\n",
        "\n",
        "train_labels = torch.tensor(train_labels)\n",
        "val_labels = torch.tensor(val_labels)\n"
      ]
    },
    {
      "cell_type": "markdown",
      "metadata": {
        "id": "p1a7oF2pSlOE"
      },
      "source": [
        "Создаем пайторч датасет"
      ]
    },
    {
      "cell_type": "code",
      "execution_count": null,
      "metadata": {
        "id": "BHdVaKi7SlOE"
      },
      "outputs": [],
      "source": [
        "import torch\n",
        "\n",
        "class EmojiDataset(torch.utils.data.Dataset):\n",
        "    def __init__(self, encodings, labels):\n",
        "        self.encodings = encodings\n",
        "        self.labels = labels\n",
        "\n",
        "    def __len__(self):\n",
        "        return len(self.labels)\n",
        "\n",
        "    def __getitem__(self, idx):\n",
        "        item = {key: val[idx].clone().detach() for key, val in self.encodings.items()}\n",
        "        item['labels'] = self.labels[idx].clone().detach()\n",
        "        return item\n",
        "\n",
        "train_dataset = EmojiDataset(train_encodings, train_labels)\n",
        "val_dataset = EmojiDataset(val_encodings, val_labels)\n"
      ]
    },
    {
      "cell_type": "code",
      "execution_count": null,
      "metadata": {
        "id": "D9ddUPkmdDRe",
        "colab": {
          "base_uri": "https://localhost:8080/"
        },
        "outputId": "41bb6f0a-0e44-4761-a1e6-f6fcc7b90635"
      },
      "outputs": [
        {
          "output_type": "execute_result",
          "data": {
            "text/plain": [
              "torch.Size([2, 13, 1024])"
            ]
          },
          "metadata": {},
          "execution_count": 12
        }
      ],
      "source": [
        "def tokenize_data2(texts, tokenizer, max_len=24):\n",
        "    return tokenizer(\n",
        "        texts,\n",
        "        max_length=max_len,\n",
        "        padding=True,\n",
        "        truncation=True,\n",
        "        return_tensors='pt'\n",
        "    )\n",
        "test = [\"здарова sdgd sdgdfg\",\n",
        "        \"привет\"]\n",
        "emb_test = tokenize_data2(test, tokenizer)\n",
        "emb_test2 = bert(**emb_test)\n",
        "emb_test2.last_hidden_state.shape"
      ]
    },
    {
      "cell_type": "markdown",
      "metadata": {
        "id": "lgw0lJOfTs17"
      },
      "source": [
        "Создаем модель"
      ]
    },
    {
      "cell_type": "code",
      "execution_count": null,
      "metadata": {
        "id": "b-ZQ-yWcuFUs"
      },
      "outputs": [],
      "source": [
        "import torch\n",
        "import torch.nn as nn\n",
        "import torch.nn.functional as F\n",
        "\n",
        "class FocalLoss(nn.Module):\n",
        "    def __init__(self, gamma=2.0, alpha=None, reduction='mean'):\n",
        "        super(FocalLoss, self).__init__()\n",
        "        self.gamma = gamma\n",
        "        self.alpha = alpha\n",
        "        self.reduction = reduction\n",
        "\n",
        "    def forward(self, inputs, targets):\n",
        "        probs = F.softmax(inputs, dim=-1)\n",
        "        # Достаем нужные вероятности для классов, указанных в targets\n",
        "        targets_one_hot = F.one_hot(targets, num_classes=inputs.shape[-1])\n",
        "        probs = torch.sum(probs * targets_one_hot, dim=-1)\n",
        "\n",
        "        # Вычисляем фокусирующий параметр\n",
        "        focal_weight = (1 - probs) ** self.gamma\n",
        "\n",
        "        # Стандартная кросс-энтропийная ошибка\n",
        "        ce_loss = F.cross_entropy(inputs, targets, reduction='none')\n",
        "\n",
        "        loss = focal_weight * ce_loss\n",
        "\n",
        "        if self.alpha is not None:\n",
        "            alpha_weight = self.alpha.gather(0, targets)\n",
        "            loss = alpha_weight * loss\n",
        "\n",
        "        if self.reduction == 'mean':\n",
        "            return loss.mean()\n",
        "        elif self.reduction == 'sum':\n",
        "            return loss.sum()\n",
        "        else:\n",
        "            return loss\n"
      ]
    },
    {
      "cell_type": "markdown",
      "metadata": {
        "id": "5eI0djh6lBlP"
      },
      "source": [
        "find alphas"
      ]
    },
    {
      "cell_type": "code",
      "execution_count": null,
      "metadata": {
        "collapsed": true,
        "id": "AomA1f9YoS4O"
      },
      "outputs": [],
      "source": [
        "\n",
        "num_classes = 62\n",
        "device = torch.device('cuda') if torch.cuda.is_available() else torch.device('cpu')\n",
        "\n",
        "alpha = torch.zeros(num_classes).to(device)\n",
        "for i in range(len(alpha)):\n",
        "  alpha[i] = 8000 / map[i]\n",
        "\n",
        "\n",
        "alpha2 = torch.ones(num_classes).to(device)\n",
        "\n",
        "alpha3 = torch.sqrt(alpha)\n",
        "\n"
      ]
    },
    {
      "cell_type": "code",
      "source": [
        "!pip install peft\n"
      ],
      "metadata": {
        "colab": {
          "base_uri": "https://localhost:8080/"
        },
        "collapsed": true,
        "id": "riwxsqr78Clz",
        "outputId": "cdf8fad3-4249-4f59-e556-e5e88e3d2466"
      },
      "execution_count": null,
      "outputs": [
        {
          "output_type": "stream",
          "name": "stdout",
          "text": [
            "Collecting peft\n",
            "  Downloading peft-0.13.0-py3-none-any.whl.metadata (13 kB)\n",
            "Requirement already satisfied: numpy>=1.17 in /usr/local/lib/python3.10/dist-packages (from peft) (1.26.4)\n",
            "Requirement already satisfied: packaging>=20.0 in /usr/local/lib/python3.10/dist-packages (from peft) (24.1)\n",
            "Requirement already satisfied: psutil in /usr/local/lib/python3.10/dist-packages (from peft) (5.9.5)\n",
            "Requirement already satisfied: pyyaml in /usr/local/lib/python3.10/dist-packages (from peft) (6.0.2)\n",
            "Requirement already satisfied: torch>=1.13.0 in /usr/local/lib/python3.10/dist-packages (from peft) (2.4.1+cu121)\n",
            "Requirement already satisfied: transformers in /usr/local/lib/python3.10/dist-packages (from peft) (4.44.2)\n",
            "Requirement already satisfied: tqdm in /usr/local/lib/python3.10/dist-packages (from peft) (4.66.5)\n",
            "Requirement already satisfied: accelerate>=0.21.0 in /usr/local/lib/python3.10/dist-packages (from peft) (0.34.2)\n",
            "Requirement already satisfied: safetensors in /usr/local/lib/python3.10/dist-packages (from peft) (0.4.5)\n",
            "Requirement already satisfied: huggingface-hub>=0.17.0 in /usr/local/lib/python3.10/dist-packages (from peft) (0.24.7)\n",
            "Requirement already satisfied: filelock in /usr/local/lib/python3.10/dist-packages (from huggingface-hub>=0.17.0->peft) (3.16.1)\n",
            "Requirement already satisfied: fsspec>=2023.5.0 in /usr/local/lib/python3.10/dist-packages (from huggingface-hub>=0.17.0->peft) (2024.6.1)\n",
            "Requirement already satisfied: requests in /usr/local/lib/python3.10/dist-packages (from huggingface-hub>=0.17.0->peft) (2.32.3)\n",
            "Requirement already satisfied: typing-extensions>=3.7.4.3 in /usr/local/lib/python3.10/dist-packages (from huggingface-hub>=0.17.0->peft) (4.12.2)\n",
            "Requirement already satisfied: sympy in /usr/local/lib/python3.10/dist-packages (from torch>=1.13.0->peft) (1.13.3)\n",
            "Requirement already satisfied: networkx in /usr/local/lib/python3.10/dist-packages (from torch>=1.13.0->peft) (3.3)\n",
            "Requirement already satisfied: jinja2 in /usr/local/lib/python3.10/dist-packages (from torch>=1.13.0->peft) (3.1.4)\n",
            "Requirement already satisfied: regex!=2019.12.17 in /usr/local/lib/python3.10/dist-packages (from transformers->peft) (2024.9.11)\n",
            "Requirement already satisfied: tokenizers<0.20,>=0.19 in /usr/local/lib/python3.10/dist-packages (from transformers->peft) (0.19.1)\n",
            "Requirement already satisfied: MarkupSafe>=2.0 in /usr/local/lib/python3.10/dist-packages (from jinja2->torch>=1.13.0->peft) (2.1.5)\n",
            "Requirement already satisfied: charset-normalizer<4,>=2 in /usr/local/lib/python3.10/dist-packages (from requests->huggingface-hub>=0.17.0->peft) (3.3.2)\n",
            "Requirement already satisfied: idna<4,>=2.5 in /usr/local/lib/python3.10/dist-packages (from requests->huggingface-hub>=0.17.0->peft) (3.10)\n",
            "Requirement already satisfied: urllib3<3,>=1.21.1 in /usr/local/lib/python3.10/dist-packages (from requests->huggingface-hub>=0.17.0->peft) (2.2.3)\n",
            "Requirement already satisfied: certifi>=2017.4.17 in /usr/local/lib/python3.10/dist-packages (from requests->huggingface-hub>=0.17.0->peft) (2024.8.30)\n",
            "Requirement already satisfied: mpmath<1.4,>=1.1.0 in /usr/local/lib/python3.10/dist-packages (from sympy->torch>=1.13.0->peft) (1.3.0)\n",
            "Downloading peft-0.13.0-py3-none-any.whl (322 kB)\n",
            "\u001b[2K   \u001b[90m━━━━━━━━━━━━━━━━━━━━━━━━━━━━━━━━━━━━━━━━\u001b[0m \u001b[32m322.5/322.5 kB\u001b[0m \u001b[31m8.4 MB/s\u001b[0m eta \u001b[36m0:00:00\u001b[0m\n",
            "\u001b[?25hInstalling collected packages: peft\n",
            "Successfully installed peft-0.13.0\n"
          ]
        }
      ]
    },
    {
      "cell_type": "code",
      "source": [],
      "metadata": {
        "id": "wT918LtpAa_V"
      },
      "execution_count": null,
      "outputs": []
    },
    {
      "cell_type": "code",
      "execution_count": null,
      "metadata": {
        "id": "cpj8I0c0cXiY"
      },
      "outputs": [],
      "source": [
        "import torch.nn as nn\n",
        "from transformers import BertModel\n",
        "from transformers import AutoModel\n",
        "from peft import LoraConfig, get_peft_model\n",
        "import torch.nn.functional as F\n",
        "\n",
        "class EmojiClassifier2(nn.Module):\n",
        "    def __init__(self, num_labels, alpha):\n",
        "        super(EmojiClassifier2, self).__init__()\n",
        "        self.bert = AutoModel.from_pretrained(\"ai-forever/sbert_large_nlu_ru\")\n",
        "\n",
        "        lora_config = LoraConfig(\n",
        "            r=16,\n",
        "            lora_alpha=32,\n",
        "            target_modules=[\"query\", \"value\", \"key\"],\n",
        "            bias=\"none\"\n",
        "        )\n",
        "\n",
        "        self.bert = get_peft_model(self.bert, lora_config)\n",
        "        self.alpha = alpha\n",
        "\n",
        "        for param in self.bert.parameters():\n",
        "            param.requires_grad = False\n",
        "        for name, param in self.bert.named_parameters():\n",
        "            if 'lora' in name:\n",
        "                param.requires_grad = True\n",
        "\n",
        "\n",
        "        self.classifier = nn.Sequential(\n",
        "            nn.Linear(self.bert.config.hidden_size, 512),\n",
        "            nn.ReLU(),\n",
        "            nn.Dropout(0.3),\n",
        "            nn.Linear(512, 512),\n",
        "            nn.ReLU(),\n",
        "            nn.Dropout(0.3),\n",
        "            nn.Linear(512, num_labels)\n",
        "        )\n",
        "\n",
        "    def forward(self, input_ids, attention_mask, token_type_ids, labels=None): # тут посмотреть\n",
        "        outputs = self.bert(input_ids=input_ids, attention_mask=attention_mask)\n",
        "        cls_output = outputs.pooler_output\n",
        "        logits = self.classifier(cls_output)\n",
        "\n",
        "        if labels is not None:\n",
        "            loss_fct = FocalLoss(gamma=1.0, alpha=self.alpha)\n",
        "            loss = loss_fct(logits, labels)\n",
        "            return loss, logits\n",
        "        return logits"
      ]
    },
    {
      "cell_type": "code",
      "execution_count": null,
      "metadata": {
        "id": "APTxk6VNnxNa",
        "colab": {
          "base_uri": "https://localhost:8080/"
        },
        "outputId": "ca6157aa-f562-472a-87d8-6f7164d1f641"
      },
      "outputs": [
        {
          "output_type": "stream",
          "name": "stderr",
          "text": [
            "/usr/local/lib/python3.10/dist-packages/transformers/optimization.py:591: FutureWarning: This implementation of AdamW is deprecated and will be removed in a future version. Use the PyTorch implementation torch.optim.AdamW instead, or set `no_deprecation_warning=True` to disable this warning\n",
            "  warnings.warn(\n"
          ]
        }
      ],
      "source": [
        "from torch.utils.data import DataLoader\n",
        "from transformers import AdamW\n",
        "from torch.optim.lr_scheduler import ReduceLROnPlateau\n",
        "from torch.optim.lr_scheduler import LambdaLR\n",
        "\n",
        "\n",
        "device = torch.device('cuda') if torch.cuda.is_available() else torch.device('cpu')\n",
        "model = EmojiClassifier2(num_labels=len(df['emoji'].unique()), alpha=alpha2).to(device)\n",
        "\n",
        "train_loader = DataLoader(train_dataset, batch_size=256, shuffle=True)\n",
        "val_loader = DataLoader(val_dataset, batch_size=64)\n",
        "\n",
        "optimizer = AdamW(model.parameters(), lr=2e-4)\n"
      ]
    },
    {
      "cell_type": "code",
      "source": [
        "def lr_lambda(current_step: int):\n",
        "    warmup_steps = 1000  # Количество шагов для warmup\n",
        "    if current_step < warmup_steps:\n",
        "        return float(current_step) / float(max(1, warmup_steps))\n",
        "    return 1.0\n",
        "\n",
        "scheduler = LambdaLR(optimizer, lr_lambda=lr_lambda)\n"
      ],
      "metadata": {
        "id": "XIB7NDxDzwQ9"
      },
      "execution_count": null,
      "outputs": []
    },
    {
      "cell_type": "code",
      "execution_count": null,
      "metadata": {
        "colab": {
          "base_uri": "https://localhost:8080/",
          "height": 1000
        },
        "collapsed": true,
        "id": "IqAXyZ7et0hP",
        "outputId": "8656120e-ed8c-49ec-aacd-097ae2da9589"
      },
      "outputs": [
        {
          "metadata": {
            "tags": null
          },
          "name": "stderr",
          "output_type": "stream",
          "text": [
            "Epoch [1/10]: 100%|██████████| 1570/1570 [1:00:20<00:00,  2.31s/it, loss=2.88]\n"
          ]
        },
        {
          "metadata": {
            "tags": null
          },
          "name": "stdout",
          "output_type": "stream",
          "text": [
            "Epoch 1, Loss: 3.236215493177912\n"
          ]
        },
        {
          "metadata": {
            "tags": null
          },
          "name": "stderr",
          "output_type": "stream",
          "text": [
            "Validating: 100%|██████████| 698/698 [03:39<00:00,  3.18it/s]\n"
          ]
        },
        {
          "metadata": {
            "tags": null
          },
          "name": "stdout",
          "output_type": "stream",
          "text": [
            "Validation Accuracy (Top-1): 20.27%\n",
            "Validation Accuracy (Top-10): 68.26%\n",
            "Class 0 Recall: 47.14% (948/2011)      Precision: 22.66% (948/4183)\n",
            "Class 1 Accuracy: N/A (нет примеров для этого класса) class_predicted 0.0, class_total 389.0, class_correct 0.0\n",
            "Class 2 Recall: 24.51% (274/1118)      Precision: 18.55% (274/1477)\n",
            "Class 3 Accuracy: N/A (нет примеров для этого класса) class_predicted 0.0, class_total 351.0, class_correct 0.0\n",
            "Class 4 Recall: 5.36% (82/1531)      Precision: 14.49% (82/566)\n",
            "Class 5 Recall: 0.30% (1/338)      Precision: 16.67% (1/6)\n",
            "Class 6 Recall: 68.50% (3496/5104)      Precision: 22.10% (3496/15821)\n",
            "Class 7 Recall: 22.84% (845/3699)      Precision: 13.85% (845/6099)\n",
            "Class 8 Recall: 0.15% (1/678)      Precision: 100.00% (1/1)\n",
            "Class 9 Accuracy: N/A (нет примеров для этого класса) class_predicted 0.0, class_total 215.0, class_correct 0.0\n",
            "Class 10 Accuracy: N/A (нет примеров для этого класса) class_predicted 0.0, class_total 387.0, class_correct 0.0\n",
            "Class 11 Recall: 4.56% (85/1863)      Precision: 12.09% (85/703)\n",
            "Class 12 Recall: 0.11% (1/936)      Precision: 14.29% (1/7)\n",
            "Class 13 Recall: 8.25% (61/739)      Precision: 16.49% (61/370)\n",
            "Class 14 Accuracy: N/A (нет примеров для этого класса) class_predicted 0.0, class_total 244.0, class_correct 0.0\n",
            "Class 15 Recall: 29.59% (287/970)      Precision: 29.71% (287/966)\n",
            "Class 16 Recall: 0.10% (1/971)      Precision: 33.33% (1/3)\n",
            "Class 17 Accuracy: N/A (нет примеров для этого класса) class_predicted 0.0, class_total 368.0, class_correct 0.0\n",
            "Class 18 Accuracy: N/A (нет примеров для этого класса) class_predicted 0.0, class_total 1057.0, class_correct 0.0\n",
            "Class 19 Recall: 0.00% (0/966)      Precision: 0.00% (0/2)\n",
            "Class 20 Recall: 31.81% (481/1512)      Precision: 18.75% (481/2565)\n",
            "Class 21 Recall: 28.90% (535/1851)      Precision: 17.44% (535/3067)\n",
            "Class 22 Accuracy: N/A (нет примеров для этого класса) class_predicted 0.0, class_total 427.0, class_correct 0.0\n",
            "Class 23 Accuracy: N/A (нет примеров для этого класса) class_predicted 0.0, class_total 420.0, class_correct 0.0\n",
            "Class 24 Accuracy: N/A (нет примеров для этого класса) class_predicted 0.0, class_total 1003.0, class_correct 0.0\n",
            "Class 25 Accuracy: N/A (нет примеров для этого класса) class_predicted 0.0, class_total 207.0, class_correct 0.0\n",
            "Class 26 Recall: 0.15% (1/664)      Precision: 10.00% (1/10)\n",
            "Class 27 Accuracy: N/A (нет примеров для этого класса) class_predicted 0.0, class_total 328.0, class_correct 0.0\n",
            "Class 28 Accuracy: N/A (нет примеров для этого класса) class_predicted 0.0, class_total 287.0, class_correct 0.0\n",
            "Class 29 Accuracy: N/A (нет примеров для этого класса) class_predicted 0.0, class_total 170.0, class_correct 0.0\n",
            "Class 30 Accuracy: N/A (нет примеров для этого класса) class_predicted 0.0, class_total 305.0, class_correct 0.0\n",
            "Class 31 Accuracy: N/A (нет примеров для этого класса) class_predicted 0.0, class_total 156.0, class_correct 0.0\n",
            "Class 32 Accuracy: N/A (нет примеров для этого класса) class_predicted 0.0, class_total 327.0, class_correct 0.0\n",
            "Class 33 Accuracy: N/A (нет примеров для этого класса) class_predicted 0.0, class_total 192.0, class_correct 0.0\n",
            "Class 34 Recall: 0.00% (0/448)      Precision: 0.00% (0/1)\n",
            "Class 35 Accuracy: N/A (нет примеров для этого класса) class_predicted 0.0, class_total 1738.0, class_correct 0.0\n",
            "Class 36 Accuracy: N/A (нет примеров для этого класса) class_predicted 0.0, class_total 165.0, class_correct 0.0\n",
            "Class 37 Accuracy: N/A (нет примеров для этого класса) class_predicted 0.0, class_total 308.0, class_correct 0.0\n",
            "Class 38 Recall: 0.00% (0/315)      Precision: 0.00% (0/1)\n",
            "Class 39 Recall: 29.98% (152/507)      Precision: 25.38% (152/599)\n",
            "Class 40 Recall: 42.93% (489/1139)      Precision: 29.87% (489/1637)\n",
            "Class 41 Recall: 19.92% (142/713)      Precision: 16.45% (142/863)\n",
            "Class 42 Accuracy: N/A (нет примеров для этого класса) class_predicted 0.0, class_total 219.0, class_correct 0.0\n",
            "Class 43 Accuracy: N/A (нет примеров для этого класса) class_predicted 0.0, class_total 399.0, class_correct 0.0\n",
            "Class 44 Accuracy: N/A (нет примеров для этого класса) class_predicted 0.0, class_total 258.0, class_correct 0.0\n",
            "Class 45 Recall: 21.46% (206/960)      Precision: 16.68% (206/1235)\n",
            "Class 46 Accuracy: N/A (нет примеров для этого класса) class_predicted 0.0, class_total 280.0, class_correct 0.0\n",
            "Class 47 Accuracy: N/A (нет примеров для этого класса) class_predicted 0.0, class_total 177.0, class_correct 0.0\n",
            "Class 48 Accuracy: N/A (нет примеров для этого класса) class_predicted 0.0, class_total 157.0, class_correct 0.0\n",
            "Class 49 Recall: 43.82% (500/1141)      Precision: 28.39% (500/1761)\n",
            "Class 50 Accuracy: N/A (нет примеров для этого класса) class_predicted 0.0, class_total 161.0, class_correct 0.0\n",
            "Class 51 Accuracy: N/A (нет примеров для этого класса) class_predicted 0.0, class_total 266.0, class_correct 0.0\n",
            "Class 52 Recall: 1.38% (4/290)      Precision: 13.33% (4/30)\n",
            "Class 53 Accuracy: N/A (нет примеров для этого класса) class_predicted 0.0, class_total 283.0, class_correct 0.0\n",
            "Class 54 Recall: 24.95% (231/926)      Precision: 22.51% (231/1026)\n",
            "Class 55 Recall: 3.61% (14/388)      Precision: 25.45% (14/55)\n",
            "Class 56 Accuracy: N/A (нет примеров для этого класса) class_predicted 0.0, class_total 176.0, class_correct 0.0\n",
            "Class 57 Accuracy: N/A (нет примеров для этого класса) class_predicted 0.0, class_total 139.0, class_correct 0.0\n",
            "Class 58 Accuracy: N/A (нет примеров для этого класса) class_predicted 0.0, class_total 200.0, class_correct 0.0\n",
            "Class 59 Recall: 31.89% (214/671)      Precision: 13.36% (214/1602)\n",
            "Class 60 Accuracy: N/A (нет примеров для этого класса) class_predicted 0.0, class_total 286.0, class_correct 0.0\n",
            "Class 61 Accuracy: N/A (нет примеров для этого класса) class_predicted 0.0, class_total 162.0, class_correct 0.0\n"
          ]
        },
        {
          "output_type": "stream",
          "name": "stderr",
          "text": [
            "Epoch [2/10]: 100%|██████████| 1570/1570 [59:42<00:00,  2.28s/it, loss=2.95]\n"
          ]
        },
        {
          "output_type": "stream",
          "name": "stdout",
          "text": [
            "Epoch 2, Loss: 2.9469621564172637\n"
          ]
        },
        {
          "output_type": "stream",
          "name": "stderr",
          "text": [
            "Validating: 100%|██████████| 698/698 [03:33<00:00,  3.27it/s]\n"
          ]
        },
        {
          "output_type": "stream",
          "name": "stdout",
          "text": [
            "Validation Accuracy (Top-1): 20.90%\n",
            "Validation Accuracy (Top-10): 69.83%\n",
            "Class 0 Recall: 53.36% (1073/2011)      Precision: 22.26% (1073/4820)\n",
            "Class 1 Accuracy: N/A (нет примеров для этого класса) class_predicted 0.0, class_total 389.0, class_correct 0.0\n",
            "Class 2 Recall: 25.40% (284/1118)      Precision: 19.82% (284/1433)\n",
            "Class 3 Recall: 0.28% (1/351)      Precision: 4.55% (1/22)\n",
            "Class 4 Recall: 3.72% (57/1531)      Precision: 16.29% (57/350)\n",
            "Class 5 Recall: 2.37% (8/338)      Precision: 15.09% (8/53)\n",
            "Class 6 Recall: 74.76% (3816/5104)      Precision: 21.29% (3816/17925)\n",
            "Class 7 Recall: 16.82% (622/3699)      Precision: 14.60% (622/4261)\n",
            "Class 8 Recall: 5.46% (37/678)      Precision: 37.37% (37/99)\n",
            "Class 9 Accuracy: N/A (нет примеров для этого класса) class_predicted 0.0, class_total 215.0, class_correct 0.0\n",
            "Class 10 Accuracy: N/A (нет примеров для этого класса) class_predicted 0.0, class_total 387.0, class_correct 0.0\n",
            "Class 11 Recall: 3.65% (68/1863)      Precision: 16.71% (68/407)\n",
            "Class 12 Recall: 0.00% (0/936)      Precision: 0.00% (0/11)\n",
            "Class 13 Recall: 6.63% (49/739)      Precision: 17.31% (49/283)\n",
            "Class 14 Accuracy: N/A (нет примеров для этого класса) class_predicted 0.0, class_total 244.0, class_correct 0.0\n",
            "Class 15 Recall: 30.52% (296/970)      Precision: 34.74% (296/852)\n",
            "Class 16 Recall: 1.34% (13/971)      Precision: 11.61% (13/112)\n",
            "Class 17 Accuracy: N/A (нет примеров для этого класса) class_predicted 0.0, class_total 368.0, class_correct 0.0\n",
            "Class 18 Accuracy: N/A (нет примеров для этого класса) class_predicted 0.0, class_total 1057.0, class_correct 0.0\n",
            "Class 19 Recall: 1.55% (15/966)      Precision: 16.48% (15/91)\n",
            "Class 20 Recall: 33.80% (511/1512)      Precision: 19.41% (511/2632)\n",
            "Class 21 Recall: 28.42% (526/1851)      Precision: 18.19% (526/2891)\n",
            "Class 22 Accuracy: N/A (нет примеров для этого класса) class_predicted 0.0, class_total 427.0, class_correct 0.0\n",
            "Class 23 Accuracy: N/A (нет примеров для этого класса) class_predicted 0.0, class_total 420.0, class_correct 0.0\n",
            "Class 24 Recall: 0.30% (3/1003)      Precision: 15.00% (3/20)\n",
            "Class 25 Accuracy: N/A (нет примеров для этого класса) class_predicted 0.0, class_total 207.0, class_correct 0.0\n",
            "Class 26 Recall: 9.64% (64/664)      Precision: 15.84% (64/404)\n",
            "Class 27 Accuracy: N/A (нет примеров для этого класса) class_predicted 0.0, class_total 328.0, class_correct 0.0\n",
            "Class 28 Accuracy: N/A (нет примеров для этого класса) class_predicted 0.0, class_total 287.0, class_correct 0.0\n",
            "Class 29 Accuracy: N/A (нет примеров для этого класса) class_predicted 0.0, class_total 170.0, class_correct 0.0\n",
            "Class 30 Accuracy: N/A (нет примеров для этого класса) class_predicted 0.0, class_total 305.0, class_correct 0.0\n",
            "Class 31 Accuracy: N/A (нет примеров для этого класса) class_predicted 0.0, class_total 156.0, class_correct 0.0\n",
            "Class 32 Accuracy: N/A (нет примеров для этого класса) class_predicted 0.0, class_total 327.0, class_correct 0.0\n",
            "Class 33 Accuracy: N/A (нет примеров для этого класса) class_predicted 0.0, class_total 192.0, class_correct 0.0\n",
            "Class 34 Recall: 3.35% (15/448)      Precision: 21.13% (15/71)\n",
            "Class 35 Accuracy: N/A (нет примеров для этого класса) class_predicted 0.0, class_total 1738.0, class_correct 0.0\n",
            "Class 36 Accuracy: N/A (нет примеров для этого класса) class_predicted 0.0, class_total 165.0, class_correct 0.0\n",
            "Class 37 Accuracy: N/A (нет примеров для этого класса) class_predicted 0.0, class_total 308.0, class_correct 0.0\n",
            "Class 38 Recall: 0.32% (1/315)      Precision: 11.11% (1/9)\n",
            "Class 39 Recall: 28.21% (143/507)      Precision: 31.22% (143/458)\n",
            "Class 40 Recall: 41.26% (470/1139)      Precision: 29.36% (470/1601)\n",
            "Class 41 Recall: 21.74% (155/713)      Precision: 19.62% (155/790)\n",
            "Class 42 Accuracy: N/A (нет примеров для этого класса) class_predicted 0.0, class_total 219.0, class_correct 0.0\n",
            "Class 43 Accuracy: N/A (нет примеров для этого класса) class_predicted 0.0, class_total 399.0, class_correct 0.0\n",
            "Class 44 Accuracy: N/A (нет примеров для этого класса) class_predicted 0.0, class_total 258.0, class_correct 0.0\n",
            "Class 45 Recall: 15.94% (153/960)      Precision: 20.16% (153/759)\n",
            "Class 46 Recall: 13.93% (39/280)      Precision: 20.10% (39/194)\n",
            "Class 47 Accuracy: N/A (нет примеров для этого класса) class_predicted 0.0, class_total 177.0, class_correct 0.0\n",
            "Class 48 Accuracy: N/A (нет примеров для этого класса) class_predicted 0.0, class_total 157.0, class_correct 0.0\n",
            "Class 49 Recall: 48.20% (550/1141)      Precision: 25.51% (550/2156)\n",
            "Class 50 Accuracy: N/A (нет примеров для этого класса) class_predicted 0.0, class_total 161.0, class_correct 0.0\n",
            "Class 51 Accuracy: N/A (нет примеров для этого класса) class_predicted 0.0, class_total 266.0, class_correct 0.0\n",
            "Class 52 Recall: 3.45% (10/290)      Precision: 18.87% (10/53)\n",
            "Class 53 Accuracy: N/A (нет примеров для этого класса) class_predicted 0.0, class_total 283.0, class_correct 0.0\n",
            "Class 54 Recall: 18.68% (173/926)      Precision: 26.82% (173/645)\n",
            "Class 55 Recall: 6.19% (24/388)      Precision: 16.33% (24/147)\n",
            "Class 56 Accuracy: N/A (нет примеров для этого класса) class_predicted 0.0, class_total 176.0, class_correct 0.0\n",
            "Class 57 Accuracy: N/A (нет примеров для этого класса) class_predicted 0.0, class_total 139.0, class_correct 0.0\n",
            "Class 58 Accuracy: N/A (нет примеров для этого класса) class_predicted 0.0, class_total 200.0, class_correct 0.0\n",
            "Class 59 Recall: 23.25% (156/671)      Precision: 14.10% (156/1106)\n",
            "Class 60 Accuracy: N/A (нет примеров для этого класса) class_predicted 0.0, class_total 286.0, class_correct 0.0\n",
            "Class 61 Recall: 0.00% (0/162)      Precision: 0.00% (0/1)\n"
          ]
        },
        {
          "output_type": "stream",
          "name": "stderr",
          "text": [
            "Epoch [3/10]: 100%|██████████| 1570/1570 [59:40<00:00,  2.28s/it, loss=2.99]\n"
          ]
        },
        {
          "output_type": "stream",
          "name": "stdout",
          "text": [
            "Epoch 3, Loss: 2.8879368548180646\n"
          ]
        },
        {
          "output_type": "stream",
          "name": "stderr",
          "text": [
            "Validating: 100%|██████████| 698/698 [03:39<00:00,  3.18it/s]\n"
          ]
        },
        {
          "output_type": "stream",
          "name": "stdout",
          "text": [
            "Validation Accuracy (Top-1): 21.10%\n",
            "Validation Accuracy (Top-10): 70.49%\n",
            "Class 0 Recall: 46.84% (942/2011)      Precision: 23.56% (942/3998)\n",
            "Class 1 Recall: 0.00% (0/389)      Precision: 0.00% (0/5)\n",
            "Class 2 Recall: 25.94% (290/1118)      Precision: 21.15% (290/1371)\n",
            "Class 3 Recall: 0.85% (3/351)      Precision: 17.65% (3/17)\n",
            "Class 4 Recall: 9.01% (138/1531)      Precision: 14.51% (138/951)\n",
            "Class 5 Recall: 2.66% (9/338)      Precision: 12.68% (9/71)\n",
            "Class 6 Recall: 72.69% (3710/5104)      Precision: 22.09% (3710/16792)\n",
            "Class 7 Recall: 13.65% (505/3699)      Precision: 14.80% (505/3413)\n",
            "Class 8 Recall: 10.03% (68/678)      Precision: 18.23% (68/373)\n",
            "Class 9 Accuracy: N/A (нет примеров для этого класса) class_predicted 0.0, class_total 215.0, class_correct 0.0\n",
            "Class 10 Accuracy: N/A (нет примеров для этого класса) class_predicted 0.0, class_total 387.0, class_correct 0.0\n",
            "Class 11 Recall: 4.56% (85/1863)      Precision: 15.98% (85/532)\n",
            "Class 12 Recall: 0.21% (2/936)      Precision: 20.00% (2/10)\n",
            "Class 13 Recall: 11.23% (83/739)      Precision: 16.34% (83/508)\n",
            "Class 14 Accuracy: N/A (нет примеров для этого класса) class_predicted 0.0, class_total 244.0, class_correct 0.0\n",
            "Class 15 Recall: 37.94% (368/970)      Precision: 30.79% (368/1195)\n",
            "Class 16 Recall: 1.75% (17/971)      Precision: 10.90% (17/156)\n",
            "Class 17 Accuracy: N/A (нет примеров для этого класса) class_predicted 0.0, class_total 368.0, class_correct 0.0\n",
            "Class 18 Accuracy: N/A (нет примеров для этого класса) class_predicted 0.0, class_total 1057.0, class_correct 0.0\n",
            "Class 19 Recall: 1.97% (19/966)      Precision: 11.38% (19/167)\n",
            "Class 20 Recall: 44.31% (670/1512)      Precision: 17.52% (670/3825)\n",
            "Class 21 Recall: 25.23% (467/1851)      Precision: 19.89% (467/2348)\n",
            "Class 22 Accuracy: N/A (нет примеров для этого класса) class_predicted 0.0, class_total 427.0, class_correct 0.0\n",
            "Class 23 Accuracy: N/A (нет примеров для этого класса) class_predicted 0.0, class_total 420.0, class_correct 0.0\n",
            "Class 24 Recall: 0.10% (1/1003)      Precision: 6.67% (1/15)\n",
            "Class 25 Accuracy: N/A (нет примеров для этого класса) class_predicted 0.0, class_total 207.0, class_correct 0.0\n",
            "Class 26 Recall: 0.30% (2/664)      Precision: 66.67% (2/3)\n",
            "Class 27 Accuracy: N/A (нет примеров для этого класса) class_predicted 0.0, class_total 328.0, class_correct 0.0\n",
            "Class 28 Accuracy: N/A (нет примеров для этого класса) class_predicted 0.0, class_total 287.0, class_correct 0.0\n",
            "Class 29 Accuracy: N/A (нет примеров для этого класса) class_predicted 0.0, class_total 170.0, class_correct 0.0\n",
            "Class 30 Accuracy: N/A (нет примеров для этого класса) class_predicted 0.0, class_total 305.0, class_correct 0.0\n",
            "Class 31 Accuracy: N/A (нет примеров для этого класса) class_predicted 0.0, class_total 156.0, class_correct 0.0\n",
            "Class 32 Accuracy: N/A (нет примеров для этого класса) class_predicted 0.0, class_total 327.0, class_correct 0.0\n",
            "Class 33 Accuracy: N/A (нет примеров для этого класса) class_predicted 0.0, class_total 192.0, class_correct 0.0\n",
            "Class 34 Recall: 0.45% (2/448)      Precision: 9.09% (2/22)\n",
            "Class 35 Accuracy: N/A (нет примеров для этого класса) class_predicted 0.0, class_total 1738.0, class_correct 0.0\n",
            "Class 36 Accuracy: N/A (нет примеров для этого класса) class_predicted 0.0, class_total 165.0, class_correct 0.0\n",
            "Class 37 Accuracy: N/A (нет примеров для этого класса) class_predicted 0.0, class_total 308.0, class_correct 0.0\n",
            "Class 38 Recall: 0.63% (2/315)      Precision: 22.22% (2/9)\n",
            "Class 39 Recall: 31.56% (160/507)      Precision: 28.62% (160/559)\n",
            "Class 40 Recall: 40.39% (460/1139)      Precision: 31.34% (460/1468)\n",
            "Class 41 Recall: 30.86% (220/713)      Precision: 16.76% (220/1313)\n",
            "Class 42 Recall: 0.00% (0/219)      Precision: 0.00% (0/9)\n",
            "Class 43 Accuracy: N/A (нет примеров для этого класса) class_predicted 0.0, class_total 399.0, class_correct 0.0\n",
            "Class 44 Accuracy: N/A (нет примеров для этого класса) class_predicted 0.0, class_total 258.0, class_correct 0.0\n",
            "Class 45 Recall: 23.85% (229/960)      Precision: 17.08% (229/1341)\n",
            "Class 46 Recall: 16.79% (47/280)      Precision: 19.18% (47/245)\n",
            "Class 47 Accuracy: N/A (нет примеров для этого класса) class_predicted 0.0, class_total 177.0, class_correct 0.0\n",
            "Class 48 Accuracy: N/A (нет примеров для этого класса) class_predicted 0.0, class_total 157.0, class_correct 0.0\n",
            "Class 49 Recall: 48.73% (556/1141)      Precision: 24.84% (556/2238)\n",
            "Class 50 Accuracy: N/A (нет примеров для этого класса) class_predicted 0.0, class_total 161.0, class_correct 0.0\n",
            "Class 51 Accuracy: N/A (нет примеров для этого класса) class_predicted 0.0, class_total 266.0, class_correct 0.0\n",
            "Class 52 Recall: 8.62% (25/290)      Precision: 13.59% (25/184)\n",
            "Class 53 Accuracy: N/A (нет примеров для этого класса) class_predicted 0.0, class_total 283.0, class_correct 0.0\n",
            "Class 54 Recall: 24.51% (227/926)      Precision: 25.33% (227/896)\n",
            "Class 55 Recall: 2.58% (10/388)      Precision: 20.00% (10/50)\n",
            "Class 56 Accuracy: N/A (нет примеров для этого класса) class_predicted 0.0, class_total 176.0, class_correct 0.0\n",
            "Class 57 Recall: 0.72% (1/139)      Precision: 50.00% (1/2)\n",
            "Class 58 Accuracy: N/A (нет примеров для этого класса) class_predicted 0.0, class_total 200.0, class_correct 0.0\n",
            "Class 59 Recall: 13.86% (93/671)      Precision: 17.22% (93/540)\n",
            "Class 60 Accuracy: N/A (нет примеров для этого класса) class_predicted 0.0, class_total 286.0, class_correct 0.0\n",
            "Class 61 Recall: 6.17% (10/162)      Precision: 33.33% (10/30)\n"
          ]
        },
        {
          "output_type": "stream",
          "name": "stderr",
          "text": [
            "Epoch [4/10]:  60%|██████    | 949/1570 [36:37<23:57,  2.32s/it, loss=2.93]\n"
          ]
        },
        {
          "output_type": "error",
          "ename": "KeyboardInterrupt",
          "evalue": "",
          "traceback": [
            "\u001b[0;31m---------------------------------------------------------------------------\u001b[0m",
            "\u001b[0;31mKeyboardInterrupt\u001b[0m                         Traceback (most recent call last)",
            "\u001b[0;32m<ipython-input-19-32968d0842fd>\u001b[0m in \u001b[0;36m<cell line: 89>\u001b[0;34m()\u001b[0m\n\u001b[1;32m     87\u001b[0m \u001b[0;34m\u001b[0m\u001b[0m\n\u001b[1;32m     88\u001b[0m \u001b[0;34m\u001b[0m\u001b[0m\n\u001b[0;32m---> 89\u001b[0;31m \u001b[0mtrain_model\u001b[0m\u001b[0;34m(\u001b[0m\u001b[0mmodel\u001b[0m\u001b[0;34m,\u001b[0m \u001b[0mtrain_loader\u001b[0m\u001b[0;34m,\u001b[0m \u001b[0mval_loader\u001b[0m\u001b[0;34m)\u001b[0m\u001b[0;34m\u001b[0m\u001b[0;34m\u001b[0m\u001b[0m\n\u001b[0m",
            "\u001b[0;32m<ipython-input-19-32968d0842fd>\u001b[0m in \u001b[0;36mtrain_model\u001b[0;34m(model, train_loader, val_loader, epochs)\u001b[0m\n\u001b[1;32m     24\u001b[0m             \u001b[0moptimizer\u001b[0m\u001b[0;34m.\u001b[0m\u001b[0mzero_grad\u001b[0m\u001b[0;34m(\u001b[0m\u001b[0;34m)\u001b[0m\u001b[0;34m\u001b[0m\u001b[0;34m\u001b[0m\u001b[0m\n\u001b[1;32m     25\u001b[0m             \u001b[0mloss\u001b[0m\u001b[0;34m.\u001b[0m\u001b[0mbackward\u001b[0m\u001b[0;34m(\u001b[0m\u001b[0;34m)\u001b[0m\u001b[0;34m\u001b[0m\u001b[0;34m\u001b[0m\u001b[0m\n\u001b[0;32m---> 26\u001b[0;31m             \u001b[0moptimizer\u001b[0m\u001b[0;34m.\u001b[0m\u001b[0mstep\u001b[0m\u001b[0;34m(\u001b[0m\u001b[0;34m)\u001b[0m\u001b[0;34m\u001b[0m\u001b[0;34m\u001b[0m\u001b[0m\n\u001b[0m\u001b[1;32m     27\u001b[0m             \u001b[0mscheduler\u001b[0m\u001b[0;34m.\u001b[0m\u001b[0mstep\u001b[0m\u001b[0;34m(\u001b[0m\u001b[0;34m)\u001b[0m\u001b[0;34m\u001b[0m\u001b[0;34m\u001b[0m\u001b[0m\n\u001b[1;32m     28\u001b[0m \u001b[0;34m\u001b[0m\u001b[0m\n",
            "\u001b[0;32m/usr/local/lib/python3.10/dist-packages/torch/optim/lr_scheduler.py\u001b[0m in \u001b[0;36mwrapper\u001b[0;34m(*args, **kwargs)\u001b[0m\n\u001b[1;32m    128\u001b[0m                     \u001b[0mopt\u001b[0m \u001b[0;34m=\u001b[0m \u001b[0mopt_ref\u001b[0m\u001b[0;34m(\u001b[0m\u001b[0;34m)\u001b[0m\u001b[0;34m\u001b[0m\u001b[0;34m\u001b[0m\u001b[0m\n\u001b[1;32m    129\u001b[0m                     \u001b[0mopt\u001b[0m\u001b[0;34m.\u001b[0m\u001b[0m_opt_called\u001b[0m \u001b[0;34m=\u001b[0m \u001b[0;32mTrue\u001b[0m  \u001b[0;31m# type: ignore[union-attr]\u001b[0m\u001b[0;34m\u001b[0m\u001b[0;34m\u001b[0m\u001b[0m\n\u001b[0;32m--> 130\u001b[0;31m                     \u001b[0;32mreturn\u001b[0m \u001b[0mfunc\u001b[0m\u001b[0;34m.\u001b[0m\u001b[0m__get__\u001b[0m\u001b[0;34m(\u001b[0m\u001b[0mopt\u001b[0m\u001b[0;34m,\u001b[0m \u001b[0mopt\u001b[0m\u001b[0;34m.\u001b[0m\u001b[0m__class__\u001b[0m\u001b[0;34m)\u001b[0m\u001b[0;34m(\u001b[0m\u001b[0;34m*\u001b[0m\u001b[0margs\u001b[0m\u001b[0;34m,\u001b[0m \u001b[0;34m**\u001b[0m\u001b[0mkwargs\u001b[0m\u001b[0;34m)\u001b[0m\u001b[0;34m\u001b[0m\u001b[0;34m\u001b[0m\u001b[0m\n\u001b[0m\u001b[1;32m    131\u001b[0m \u001b[0;34m\u001b[0m\u001b[0m\n\u001b[1;32m    132\u001b[0m                 \u001b[0mwrapper\u001b[0m\u001b[0;34m.\u001b[0m\u001b[0m_wrapped_by_lr_sched\u001b[0m \u001b[0;34m=\u001b[0m \u001b[0;32mTrue\u001b[0m  \u001b[0;31m# type: ignore[attr-defined]\u001b[0m\u001b[0;34m\u001b[0m\u001b[0;34m\u001b[0m\u001b[0m\n",
            "\u001b[0;32m/usr/local/lib/python3.10/dist-packages/torch/optim/optimizer.py\u001b[0m in \u001b[0;36mwrapper\u001b[0;34m(*args, **kwargs)\u001b[0m\n\u001b[1;32m    482\u001b[0m                             )\n\u001b[1;32m    483\u001b[0m \u001b[0;34m\u001b[0m\u001b[0m\n\u001b[0;32m--> 484\u001b[0;31m                 \u001b[0mout\u001b[0m \u001b[0;34m=\u001b[0m \u001b[0mfunc\u001b[0m\u001b[0;34m(\u001b[0m\u001b[0;34m*\u001b[0m\u001b[0margs\u001b[0m\u001b[0;34m,\u001b[0m \u001b[0;34m**\u001b[0m\u001b[0mkwargs\u001b[0m\u001b[0;34m)\u001b[0m\u001b[0;34m\u001b[0m\u001b[0;34m\u001b[0m\u001b[0m\n\u001b[0m\u001b[1;32m    485\u001b[0m                 \u001b[0mself\u001b[0m\u001b[0;34m.\u001b[0m\u001b[0m_optimizer_step_code\u001b[0m\u001b[0;34m(\u001b[0m\u001b[0;34m)\u001b[0m\u001b[0;34m\u001b[0m\u001b[0;34m\u001b[0m\u001b[0m\n\u001b[1;32m    486\u001b[0m \u001b[0;34m\u001b[0m\u001b[0m\n",
            "\u001b[0;32m/usr/local/lib/python3.10/dist-packages/torch/utils/_contextlib.py\u001b[0m in \u001b[0;36mdecorate_context\u001b[0;34m(*args, **kwargs)\u001b[0m\n\u001b[1;32m    114\u001b[0m     \u001b[0;32mdef\u001b[0m \u001b[0mdecorate_context\u001b[0m\u001b[0;34m(\u001b[0m\u001b[0;34m*\u001b[0m\u001b[0margs\u001b[0m\u001b[0;34m,\u001b[0m \u001b[0;34m**\u001b[0m\u001b[0mkwargs\u001b[0m\u001b[0;34m)\u001b[0m\u001b[0;34m:\u001b[0m\u001b[0;34m\u001b[0m\u001b[0;34m\u001b[0m\u001b[0m\n\u001b[1;32m    115\u001b[0m         \u001b[0;32mwith\u001b[0m \u001b[0mctx_factory\u001b[0m\u001b[0;34m(\u001b[0m\u001b[0;34m)\u001b[0m\u001b[0;34m:\u001b[0m\u001b[0;34m\u001b[0m\u001b[0;34m\u001b[0m\u001b[0m\n\u001b[0;32m--> 116\u001b[0;31m             \u001b[0;32mreturn\u001b[0m \u001b[0mfunc\u001b[0m\u001b[0;34m(\u001b[0m\u001b[0;34m*\u001b[0m\u001b[0margs\u001b[0m\u001b[0;34m,\u001b[0m \u001b[0;34m**\u001b[0m\u001b[0mkwargs\u001b[0m\u001b[0;34m)\u001b[0m\u001b[0;34m\u001b[0m\u001b[0;34m\u001b[0m\u001b[0m\n\u001b[0m\u001b[1;32m    117\u001b[0m \u001b[0;34m\u001b[0m\u001b[0m\n\u001b[1;32m    118\u001b[0m     \u001b[0;32mreturn\u001b[0m \u001b[0mdecorate_context\u001b[0m\u001b[0;34m\u001b[0m\u001b[0;34m\u001b[0m\u001b[0m\n",
            "\u001b[0;32m/usr/local/lib/python3.10/dist-packages/transformers/optimization.py\u001b[0m in \u001b[0;36mstep\u001b[0;34m(self, closure)\u001b[0m\n\u001b[1;32m    645\u001b[0m                 \u001b[0;31m# In-place operations to update the averages at the same time\u001b[0m\u001b[0;34m\u001b[0m\u001b[0;34m\u001b[0m\u001b[0m\n\u001b[1;32m    646\u001b[0m                 \u001b[0mexp_avg\u001b[0m\u001b[0;34m.\u001b[0m\u001b[0mmul_\u001b[0m\u001b[0;34m(\u001b[0m\u001b[0mbeta1\u001b[0m\u001b[0;34m)\u001b[0m\u001b[0;34m.\u001b[0m\u001b[0madd_\u001b[0m\u001b[0;34m(\u001b[0m\u001b[0mgrad\u001b[0m\u001b[0;34m,\u001b[0m \u001b[0malpha\u001b[0m\u001b[0;34m=\u001b[0m\u001b[0;34m(\u001b[0m\u001b[0;36m1.0\u001b[0m \u001b[0;34m-\u001b[0m \u001b[0mbeta1\u001b[0m\u001b[0;34m)\u001b[0m\u001b[0;34m)\u001b[0m\u001b[0;34m\u001b[0m\u001b[0;34m\u001b[0m\u001b[0m\n\u001b[0;32m--> 647\u001b[0;31m                 \u001b[0mexp_avg_sq\u001b[0m\u001b[0;34m.\u001b[0m\u001b[0mmul_\u001b[0m\u001b[0;34m(\u001b[0m\u001b[0mbeta2\u001b[0m\u001b[0;34m)\u001b[0m\u001b[0;34m.\u001b[0m\u001b[0maddcmul_\u001b[0m\u001b[0;34m(\u001b[0m\u001b[0mgrad\u001b[0m\u001b[0;34m,\u001b[0m \u001b[0mgrad\u001b[0m\u001b[0;34m,\u001b[0m \u001b[0mvalue\u001b[0m\u001b[0;34m=\u001b[0m\u001b[0;36m1.0\u001b[0m \u001b[0;34m-\u001b[0m \u001b[0mbeta2\u001b[0m\u001b[0;34m)\u001b[0m\u001b[0;34m\u001b[0m\u001b[0;34m\u001b[0m\u001b[0m\n\u001b[0m\u001b[1;32m    648\u001b[0m                 \u001b[0mdenom\u001b[0m \u001b[0;34m=\u001b[0m \u001b[0mexp_avg_sq\u001b[0m\u001b[0;34m.\u001b[0m\u001b[0msqrt\u001b[0m\u001b[0;34m(\u001b[0m\u001b[0;34m)\u001b[0m\u001b[0;34m.\u001b[0m\u001b[0madd_\u001b[0m\u001b[0;34m(\u001b[0m\u001b[0mgroup\u001b[0m\u001b[0;34m[\u001b[0m\u001b[0;34m\"eps\"\u001b[0m\u001b[0;34m]\u001b[0m\u001b[0;34m)\u001b[0m\u001b[0;34m\u001b[0m\u001b[0;34m\u001b[0m\u001b[0m\n\u001b[1;32m    649\u001b[0m \u001b[0;34m\u001b[0m\u001b[0m\n",
            "\u001b[0;31mKeyboardInterrupt\u001b[0m: "
          ]
        }
      ],
      "source": [
        "from tqdm import tqdm\n",
        "import torch\n",
        "from tqdm import tqdm\n",
        "import numpy as np\n",
        "\n",
        "from torch.utils.tensorboard import SummaryWriter\n",
        "\n",
        "def train_model(model, train_loader, val_loader, epochs=10):\n",
        "    # Инициализация TensorBoard\n",
        "    writer = SummaryWriter()\n",
        "\n",
        "    for epoch in range(epochs):\n",
        "        model.train()\n",
        "        total_loss = 0\n",
        "\n",
        "        loop = tqdm(train_loader, leave=True)\n",
        "\n",
        "        for batch in loop:\n",
        "            batch = {k: v.to(device) for k, v in batch.items()}\n",
        "            outputs = model(**batch)\n",
        "            loss = outputs[0]\n",
        "            total_loss += loss.item()\n",
        "\n",
        "            optimizer.zero_grad()\n",
        "            loss.backward()\n",
        "            optimizer.step()\n",
        "            scheduler.step()\n",
        "\n",
        "            loop.set_description(f'Epoch [{epoch+1}/{epochs}]')\n",
        "            loop.set_postfix(loss=loss.item())\n",
        "\n",
        "        # Логируем тренировочную потерю в TensorBoard\n",
        "        avg_loss = total_loss / len(train_loader)\n",
        "        writer.add_scalar('Loss/train', avg_loss, epoch)\n",
        "        print(f'Epoch {epoch + 1}, Loss: {avg_loss}')\n",
        "\n",
        "        model.eval()\n",
        "        correct = 0\n",
        "        total = 0\n",
        "        correct_top10 = 0\n",
        "        class_total = np.zeros(num_classes)\n",
        "        class_correct = np.zeros(num_classes)\n",
        "        class_predicted = np.zeros(num_classes) # num of elements that were predicted to this class\n",
        "\n",
        "\n",
        "        with torch.no_grad():\n",
        "            for batch in tqdm(val_loader, desc=\"Validating\"):\n",
        "                batch = {k: v.to(device) for k, v in batch.items()}\n",
        "                logits = model(**batch)[1]\n",
        "                predictions = torch.argmax(logits, dim=-1)\n",
        "                correct += (predictions == batch['labels']).sum().item()\n",
        "                total += len(batch['labels'])\n",
        "\n",
        "                top10_preds = torch.topk(logits, k=10, dim=-1).indices\n",
        "                correct_top10 += sum([batch['labels'][i] in top10_preds[i] for i in range(len(batch['labels']))])\n",
        "\n",
        "                for i in range(len(batch['labels'])):\n",
        "                    label = batch['labels'][i].item()\n",
        "                    pred = predictions[i].item()\n",
        "                    class_predicted[pred] += 1\n",
        "                    class_total[label] += 1\n",
        "                    if label == pred:\n",
        "                        class_correct[label] += 1\n",
        "\n",
        "\n",
        "        top1_acc = correct / total * 100\n",
        "        top10_acc = correct_top10 / total * 100\n",
        "\n",
        "        # Логируем в TensorBoard метрики валидации\n",
        "        writer.add_scalar('Accuracy/Top-1', top1_acc, epoch)\n",
        "        writer.add_scalar('Accuracy/Top-10', top10_acc, epoch)\n",
        "\n",
        "        print(f'Validation Accuracy (Top-1): {top1_acc:.2f}%')\n",
        "        print(f'Validation Accuracy (Top-10): {top10_acc:.2f}%')\n",
        "\n",
        "        for i in range(num_classes):\n",
        "            if class_total[i] > 0 and class_predicted[i] > 0:\n",
        "                recall = 100 * class_correct[i] / class_total[i]\n",
        "                prec = 100 * class_correct[i] / class_predicted[i]\n",
        "                print(f'Class {i} Recall: {recall:.2f}% ({int(class_correct[i])}/{int(class_total[i])})      Precision: {prec:.2f}% ({int(class_correct[i])}/{int(class_predicted[i])})') # num of elements from this class that were predicted correctly\n",
        "            else:\n",
        "                print(f'Class {i} Accuracy: N/A (нет примеров для этого класса) class_predicted {class_predicted[i]}, class_total {class_total[i]}, class_correct {class_correct[i]}')\n",
        "\n",
        "    # Закрываем TensorBoard\n",
        "    writer.close()\n",
        "\n",
        "\n",
        "\n",
        "train_model(model, train_loader, val_loader)"
      ]
    },
    {
      "cell_type": "code",
      "source": [],
      "metadata": {
        "id": "s9CzGvlrWfqb"
      },
      "execution_count": null,
      "outputs": []
    },
    {
      "cell_type": "code",
      "execution_count": null,
      "metadata": {
        "id": "KHIpPFKgY43C",
        "colab": {
          "base_uri": "https://localhost:8080/"
        },
        "outputId": "aab62782-9926-429b-dcba-90a5665e0289"
      },
      "outputs": [
        {
          "output_type": "stream",
          "name": "stderr",
          "text": [
            "Validating: 100%|██████████| 698/698 [03:40<00:00,  3.16it/s]"
          ]
        },
        {
          "output_type": "stream",
          "name": "stdout",
          "text": [
            "Validation Accuracy (Top-1): 21.30%\n",
            "Validation Accuracy (Top-10): 70.79%\n",
            "Class 0 Recall: 50.77% (1021/2011)      Precision: 23.15% (1021/4410)\n",
            "Class 1 Recall: 0.77% (3/389)      Precision: 15.79% (3/19)\n",
            "Class 2 Recall: 23.79% (266/1118)      Precision: 21.43% (266/1241)\n",
            "Class 3 Recall: 1.42% (5/351)      Precision: 16.13% (5/31)\n",
            "Class 4 Recall: 9.41% (144/1531)      Precision: 16.40% (144/878)\n",
            "Class 5 Recall: 4.14% (14/338)      Precision: 12.61% (14/111)\n",
            "Class 6 Recall: 75.43% (3850/5104)      Precision: 21.79% (3850/17670)\n",
            "Class 7 Recall: 14.92% (552/3699)      Precision: 14.07% (552/3923)\n",
            "Class 8 Recall: 9.00% (61/678)      Precision: 24.02% (61/254)\n",
            "Class 9 Accuracy: N/A (нет примеров для этого класса) class_predicted 0.0, class_total 215.0, class_correct 0.0\n",
            "Class 10 Accuracy: N/A (нет примеров для этого класса) class_predicted 0.0, class_total 387.0, class_correct 0.0\n",
            "Class 11 Recall: 9.50% (177/1863)      Precision: 14.39% (177/1230)\n",
            "Class 12 Recall: 0.00% (0/936)      Precision: 0.00% (0/2)\n",
            "Class 13 Recall: 5.68% (42/739)      Precision: 19.27% (42/218)\n",
            "Class 14 Accuracy: N/A (нет примеров для этого класса) class_predicted 0.0, class_total 244.0, class_correct 0.0\n",
            "Class 15 Recall: 30.93% (300/970)      Precision: 33.63% (300/892)\n",
            "Class 16 Recall: 2.06% (20/971)      Precision: 13.99% (20/143)\n",
            "Class 17 Accuracy: N/A (нет примеров для этого класса) class_predicted 0.0, class_total 368.0, class_correct 0.0\n",
            "Class 18 Accuracy: N/A (нет примеров для этого класса) class_predicted 0.0, class_total 1057.0, class_correct 0.0\n",
            "Class 19 Recall: 2.48% (24/966)      Precision: 15.19% (24/158)\n",
            "Class 20 Recall: 38.49% (582/1512)      Precision: 18.13% (582/3211)\n",
            "Class 21 Recall: 24.47% (453/1851)      Precision: 21.96% (453/2063)\n",
            "Class 22 Accuracy: N/A (нет примеров для этого класса) class_predicted 0.0, class_total 427.0, class_correct 0.0\n",
            "Class 23 Accuracy: N/A (нет примеров для этого класса) class_predicted 0.0, class_total 420.0, class_correct 0.0\n",
            "Class 24 Recall: 0.70% (7/1003)      Precision: 16.67% (7/42)\n",
            "Class 25 Accuracy: N/A (нет примеров для этого класса) class_predicted 0.0, class_total 207.0, class_correct 0.0\n",
            "Class 26 Recall: 3.16% (21/664)      Precision: 23.33% (21/90)\n",
            "Class 27 Accuracy: N/A (нет примеров для этого класса) class_predicted 0.0, class_total 328.0, class_correct 0.0\n",
            "Class 28 Accuracy: N/A (нет примеров для этого класса) class_predicted 0.0, class_total 287.0, class_correct 0.0\n",
            "Class 29 Recall: 9.41% (16/170)      Precision: 18.18% (16/88)\n",
            "Class 30 Accuracy: N/A (нет примеров для этого класса) class_predicted 0.0, class_total 305.0, class_correct 0.0\n",
            "Class 31 Accuracy: N/A (нет примеров для этого класса) class_predicted 0.0, class_total 156.0, class_correct 0.0\n",
            "Class 32 Accuracy: N/A (нет примеров для этого класса) class_predicted 0.0, class_total 327.0, class_correct 0.0\n",
            "Class 33 Accuracy: N/A (нет примеров для этого класса) class_predicted 0.0, class_total 192.0, class_correct 0.0\n",
            "Class 34 Recall: 4.91% (22/448)      Precision: 13.02% (22/169)\n",
            "Class 35 Accuracy: N/A (нет примеров для этого класса) class_predicted 0.0, class_total 1738.0, class_correct 0.0\n",
            "Class 36 Accuracy: N/A (нет примеров для этого класса) class_predicted 0.0, class_total 165.0, class_correct 0.0\n",
            "Class 37 Accuracy: N/A (нет примеров для этого класса) class_predicted 0.0, class_total 308.0, class_correct 0.0\n",
            "Class 38 Recall: 0.00% (0/315)      Precision: 0.00% (0/12)\n",
            "Class 39 Recall: 30.77% (156/507)      Precision: 29.94% (156/521)\n",
            "Class 40 Recall: 42.14% (480/1139)      Precision: 32.56% (480/1474)\n",
            "Class 41 Recall: 26.93% (192/713)      Precision: 18.01% (192/1066)\n",
            "Class 42 Recall: 3.65% (8/219)      Precision: 16.33% (8/49)\n",
            "Class 43 Accuracy: N/A (нет примеров для этого класса) class_predicted 0.0, class_total 399.0, class_correct 0.0\n",
            "Class 44 Accuracy: N/A (нет примеров для этого класса) class_predicted 0.0, class_total 258.0, class_correct 0.0\n",
            "Class 45 Recall: 18.33% (176/960)      Precision: 20.30% (176/867)\n",
            "Class 46 Recall: 12.50% (35/280)      Precision: 17.41% (35/201)\n",
            "Class 47 Accuracy: N/A (нет примеров для этого класса) class_predicted 0.0, class_total 177.0, class_correct 0.0\n",
            "Class 48 Accuracy: N/A (нет примеров для этого класса) class_predicted 0.0, class_total 157.0, class_correct 0.0\n",
            "Class 49 Recall: 39.44% (450/1141)      Precision: 30.30% (450/1485)\n",
            "Class 50 Accuracy: N/A (нет примеров для этого класса) class_predicted 0.0, class_total 161.0, class_correct 0.0\n",
            "Class 51 Accuracy: N/A (нет примеров для этого класса) class_predicted 0.0, class_total 266.0, class_correct 0.0\n",
            "Class 52 Recall: 6.55% (19/290)      Precision: 16.52% (19/115)\n",
            "Class 53 Accuracy: N/A (нет примеров для этого класса) class_predicted 0.0, class_total 283.0, class_correct 0.0\n",
            "Class 54 Recall: 25.70% (238/926)      Precision: 26.98% (238/882)\n",
            "Class 55 Recall: 1.80% (7/388)      Precision: 14.58% (7/48)\n",
            "Class 56 Accuracy: N/A (нет примеров для этого класса) class_predicted 0.0, class_total 176.0, class_correct 0.0\n",
            "Class 57 Recall: 0.00% (0/139)      Precision: 0.00% (0/4)\n",
            "Class 58 Accuracy: N/A (нет примеров для этого класса) class_predicted 0.0, class_total 200.0, class_correct 0.0\n",
            "Class 59 Recall: 23.85% (160/671)      Precision: 15.24% (160/1050)\n",
            "Class 60 Recall: 0.00% (0/286)      Precision: 0.00% (0/2)\n",
            "Class 61 Recall: 6.17% (10/162)      Precision: 27.03% (10/37)\n"
          ]
        },
        {
          "output_type": "stream",
          "name": "stderr",
          "text": [
            "\n"
          ]
        }
      ],
      "source": [
        "from tqdm import tqdm\n",
        "import torch\n",
        "from tqdm import tqdm\n",
        "import numpy as np\n",
        "\n",
        "from torch.utils.tensorboard import SummaryWriter\n",
        "\n",
        "def val_model(model, train_loader, val_loader, epochs=10):\n",
        "\n",
        "    model.eval()\n",
        "    correct = 0\n",
        "    total = 0\n",
        "    correct_top10 = 0\n",
        "    class_total = np.zeros(num_classes)\n",
        "    class_correct = np.zeros(num_classes)\n",
        "    class_predicted = np.zeros(num_classes) # num of elements that were predicted to this class\n",
        "\n",
        "\n",
        "    with torch.no_grad():\n",
        "        for batch in tqdm(val_loader, desc=\"Validating\"):\n",
        "            batch = {k: v.to(device) for k, v in batch.items()}\n",
        "            logits = model(**batch)[1]\n",
        "            predictions = torch.argmax(logits, dim=-1)\n",
        "            correct += (predictions == batch['labels']).sum().item()\n",
        "            total += len(batch['labels'])\n",
        "\n",
        "            top10_preds = torch.topk(logits, k=10, dim=-1).indices\n",
        "            correct_top10 += sum([batch['labels'][i] in top10_preds[i] for i in range(len(batch['labels']))])\n",
        "\n",
        "            for i in range(len(batch['labels'])):\n",
        "                label = batch['labels'][i].item()\n",
        "                pred = predictions[i].item()\n",
        "                class_predicted[pred] += 1\n",
        "                class_total[label] += 1\n",
        "                if label == pred:\n",
        "                    class_correct[label] += 1\n",
        "\n",
        "\n",
        "    top1_acc = correct / total * 100\n",
        "    top10_acc = correct_top10 / total * 100\n",
        "\n",
        "\n",
        "    print(f'Validation Accuracy (Top-1): {top1_acc:.2f}%')\n",
        "    print(f'Validation Accuracy (Top-10): {top10_acc:.2f}%')\n",
        "\n",
        "    for i in range(num_classes):\n",
        "        if class_total[i] > 0 and class_predicted[i] > 0:\n",
        "            recall = 100 * class_correct[i] / class_total[i]\n",
        "            prec = 100 * class_correct[i] / class_predicted[i]\n",
        "            print(f'Class {i} Recall: {recall:.2f}% ({int(class_correct[i])}/{int(class_total[i])})      Precision: {prec:.2f}% ({int(class_correct[i])}/{int(class_predicted[i])})') # num of elements from this class that were predicted correctly\n",
        "        else:\n",
        "            print(f'Class {i} Accuracy: N/A (нет примеров для этого класса) class_predicted {class_predicted[i]}, class_total {class_total[i]}, class_correct {class_correct[i]}')\n",
        "\n",
        "\n",
        "\n",
        "val_model(model, train_loader, val_loader)"
      ]
    },
    {
      "cell_type": "code",
      "execution_count": null,
      "metadata": {
        "id": "hr8sug2Xboxu"
      },
      "outputs": [],
      "source": [
        "bert = AutoModel.from_pretrained(\"DeepPavlov/rubert-base-cased-sentence\")\n",
        "\n",
        "total_params = sum(p.numel() for p in bert.parameters())\n",
        "trainable_params = sum(p.numel() for p in bert.parameters() if p.requires_grad)\n",
        "\n",
        "print(f\"Total parameters: {total_params}\")\n",
        "print(f\"Trainable parameters: {trainable_params}\")\n",
        "\n",
        "\n",
        "\n"
      ]
    },
    {
      "cell_type": "code",
      "source": [
        "\n",
        "for param in bert.parameters():\n",
        "    param.requires_grad = False\n",
        "\n",
        "total_params = sum(p.numel() for p in bert.parameters())\n",
        "trainable_params = sum(p.numel() for p in bert.parameters() if p.requires_grad)\n",
        "\n",
        "\n",
        "print(f\"Total parameters: {total_params}\")\n",
        "print(f\"Trainable parameters: {trainable_params}\")"
      ],
      "metadata": {
        "id": "E22WIa2Y6Kot"
      },
      "execution_count": null,
      "outputs": []
    },
    {
      "cell_type": "code",
      "source": [
        "bert = AutoModel.from_pretrained(\"DeepPavlov/rubert-base-cased-sentence\")\n",
        "\n",
        "lora_config = LoraConfig(\n",
        "    r=8,\n",
        "    lora_alpha=32,\n",
        "    target_modules=[\"query\", \"value\"],\n",
        "    bias=\"none\"\n",
        ")\n",
        "\n",
        "bert = get_peft_model(bert, lora_config)\n",
        "\n",
        "for param in bert.parameters():\n",
        "    param.requires_grad = False\n",
        "\n",
        "\n",
        "for name, param in bert.named_parameters():\n",
        "            if 'lora' in name:\n",
        "                param.requires_grad = True\n",
        "\n",
        "total_params = sum(p.numel() for p in bert.parameters())\n",
        "trainable_params = sum(p.numel() for p in bert.parameters() if p.requires_grad)\n",
        "\n",
        "\n",
        "print(f\"Total parameters: {total_params}\")\n",
        "print(f\"Trainable parameters: {trainable_params}\")\n"
      ],
      "metadata": {
        "colab": {
          "base_uri": "https://localhost:8080/"
        },
        "id": "ydWAOLnk6EdN",
        "outputId": "f2970c41-1f64-4096-fc97-4174c5145d09"
      },
      "execution_count": null,
      "outputs": [
        {
          "output_type": "stream",
          "name": "stdout",
          "text": [
            "Total parameters: 178148352\n",
            "Trainable parameters: 294912\n"
          ]
        }
      ]
    },
    {
      "cell_type": "code",
      "source": [
        "bert = AutoModel.from_pretrained(\"DeepPavlov/rubert-base-cased-sentence\")\n",
        "\n",
        "lora_config = LoraConfig(\n",
        "    r=8,\n",
        "    lora_alpha=32,\n",
        "    target_modules=[\"query\", \"value\", \"key\"],\n",
        "    bias=\"none\"\n",
        ")\n",
        "\n",
        "bert = get_peft_model(bert, lora_config)\n",
        "\n",
        "for param in bert.parameters():\n",
        "    param.requires_grad = False\n",
        "\n",
        "\n",
        "for name, param in bert.named_parameters():\n",
        "            if 'lora' in name:\n",
        "                param.requires_grad = True\n",
        "\n",
        "total_params = sum(p.numel() for p in bert.parameters())\n",
        "trainable_params = sum(p.numel() for p in bert.parameters() if p.requires_grad)\n",
        "\n",
        "\n",
        "print(f\"Total parameters: {total_params}\")\n",
        "print(f\"Trainable parameters: {trainable_params}\")\n"
      ],
      "metadata": {
        "colab": {
          "base_uri": "https://localhost:8080/"
        },
        "id": "JaJ_ABd762jo",
        "outputId": "23049b2b-d052-4886-97f3-4019a68e794a"
      },
      "execution_count": null,
      "outputs": [
        {
          "output_type": "stream",
          "name": "stdout",
          "text": [
            "Total parameters: 178295808\n",
            "Trainable parameters: 442368\n"
          ]
        }
      ]
    },
    {
      "cell_type": "code",
      "source": [
        "bert = AutoModel.from_pretrained(\"DeepPavlov/rubert-base-cased-sentence\")\n",
        "\n",
        "lora_config = LoraConfig(\n",
        "    r=32,\n",
        "    lora_alpha=32,\n",
        "    target_modules=[\"query\", \"value\", \"key\"],\n",
        "    bias=\"none\"\n",
        ")\n",
        "\n",
        "bert = get_peft_model(bert, lora_config)\n",
        "\n",
        "for param in bert.parameters():\n",
        "    param.requires_grad = False\n",
        "\n",
        "\n",
        "for name, param in bert.named_parameters():\n",
        "            if 'lora' in name:\n",
        "                param.requires_grad = True\n",
        "\n",
        "total_params = sum(p.numel() for p in bert.parameters())\n",
        "trainable_params = sum(p.numel() for p in bert.parameters() if p.requires_grad)\n",
        "\n",
        "\n",
        "print(f\"Total parameters: {total_params}\")\n",
        "print(f\"Trainable parameters: {trainable_params}\")\n"
      ],
      "metadata": {
        "colab": {
          "base_uri": "https://localhost:8080/"
        },
        "id": "ajRsp6yQ65qq",
        "outputId": "c3a68e93-86ba-4d35-b8f2-80247d6e6244"
      },
      "execution_count": null,
      "outputs": [
        {
          "output_type": "stream",
          "name": "stdout",
          "text": [
            "Total parameters: 179622912\n",
            "Trainable parameters: 1769472\n"
          ]
        }
      ]
    }
  ],
  "metadata": {
    "accelerator": "GPU",
    "colab": {
      "gpuType": "T4",
      "provenance": []
    },
    "kernelspec": {
      "display_name": "Python 3",
      "name": "python3"
    },
    "language_info": {
      "codemirror_mode": {
        "name": "ipython",
        "version": 3
      },
      "file_extension": ".py",
      "mimetype": "text/x-python",
      "name": "python",
      "nbconvert_exporter": "python",
      "pygments_lexer": "ipython3",
      "version": "3.12.0"
    },
    "widgets": {
      "application/vnd.jupyter.widget-state+json": {
        "1e0e0cfd16c3459ab794b75b22ec8abb": {
          "model_module": "@jupyter-widgets/controls",
          "model_name": "HBoxModel",
          "model_module_version": "1.5.0",
          "state": {
            "_dom_classes": [],
            "_model_module": "@jupyter-widgets/controls",
            "_model_module_version": "1.5.0",
            "_model_name": "HBoxModel",
            "_view_count": null,
            "_view_module": "@jupyter-widgets/controls",
            "_view_module_version": "1.5.0",
            "_view_name": "HBoxView",
            "box_style": "",
            "children": [
              "IPY_MODEL_36c41e054ce74952a2825e3aa0d7e2fe",
              "IPY_MODEL_871791939423484db1839a8a303b8459",
              "IPY_MODEL_ddbff50c0b824e8285d5fe27c0f6758b"
            ],
            "layout": "IPY_MODEL_485422e77270405dbcb27f88d739fde3"
          }
        },
        "36c41e054ce74952a2825e3aa0d7e2fe": {
          "model_module": "@jupyter-widgets/controls",
          "model_name": "HTMLModel",
          "model_module_version": "1.5.0",
          "state": {
            "_dom_classes": [],
            "_model_module": "@jupyter-widgets/controls",
            "_model_module_version": "1.5.0",
            "_model_name": "HTMLModel",
            "_view_count": null,
            "_view_module": "@jupyter-widgets/controls",
            "_view_module_version": "1.5.0",
            "_view_name": "HTMLView",
            "description": "",
            "description_tooltip": null,
            "layout": "IPY_MODEL_986c11125f1d46508b7c354237732f29",
            "placeholder": "​",
            "style": "IPY_MODEL_7b944382bc354dfab585dface3868ca6",
            "value": "tokenizer_config.json: 100%"
          }
        },
        "871791939423484db1839a8a303b8459": {
          "model_module": "@jupyter-widgets/controls",
          "model_name": "FloatProgressModel",
          "model_module_version": "1.5.0",
          "state": {
            "_dom_classes": [],
            "_model_module": "@jupyter-widgets/controls",
            "_model_module_version": "1.5.0",
            "_model_name": "FloatProgressModel",
            "_view_count": null,
            "_view_module": "@jupyter-widgets/controls",
            "_view_module_version": "1.5.0",
            "_view_name": "ProgressView",
            "bar_style": "success",
            "description": "",
            "description_tooltip": null,
            "layout": "IPY_MODEL_006ba014063845279986178afb7c2f1e",
            "max": 1270,
            "min": 0,
            "orientation": "horizontal",
            "style": "IPY_MODEL_8a54d22908b441bdb7eefcb48acf55f9",
            "value": 1270
          }
        },
        "ddbff50c0b824e8285d5fe27c0f6758b": {
          "model_module": "@jupyter-widgets/controls",
          "model_name": "HTMLModel",
          "model_module_version": "1.5.0",
          "state": {
            "_dom_classes": [],
            "_model_module": "@jupyter-widgets/controls",
            "_model_module_version": "1.5.0",
            "_model_name": "HTMLModel",
            "_view_count": null,
            "_view_module": "@jupyter-widgets/controls",
            "_view_module_version": "1.5.0",
            "_view_name": "HTMLView",
            "description": "",
            "description_tooltip": null,
            "layout": "IPY_MODEL_a3970947956a40ba92aaed0a826fb3ef",
            "placeholder": "​",
            "style": "IPY_MODEL_cbe4585e59cd482a8af5d792eb4bf469",
            "value": " 1.27k/1.27k [00:00&lt;00:00, 30.4kB/s]"
          }
        },
        "485422e77270405dbcb27f88d739fde3": {
          "model_module": "@jupyter-widgets/base",
          "model_name": "LayoutModel",
          "model_module_version": "1.2.0",
          "state": {
            "_model_module": "@jupyter-widgets/base",
            "_model_module_version": "1.2.0",
            "_model_name": "LayoutModel",
            "_view_count": null,
            "_view_module": "@jupyter-widgets/base",
            "_view_module_version": "1.2.0",
            "_view_name": "LayoutView",
            "align_content": null,
            "align_items": null,
            "align_self": null,
            "border": null,
            "bottom": null,
            "display": null,
            "flex": null,
            "flex_flow": null,
            "grid_area": null,
            "grid_auto_columns": null,
            "grid_auto_flow": null,
            "grid_auto_rows": null,
            "grid_column": null,
            "grid_gap": null,
            "grid_row": null,
            "grid_template_areas": null,
            "grid_template_columns": null,
            "grid_template_rows": null,
            "height": null,
            "justify_content": null,
            "justify_items": null,
            "left": null,
            "margin": null,
            "max_height": null,
            "max_width": null,
            "min_height": null,
            "min_width": null,
            "object_fit": null,
            "object_position": null,
            "order": null,
            "overflow": null,
            "overflow_x": null,
            "overflow_y": null,
            "padding": null,
            "right": null,
            "top": null,
            "visibility": null,
            "width": null
          }
        },
        "986c11125f1d46508b7c354237732f29": {
          "model_module": "@jupyter-widgets/base",
          "model_name": "LayoutModel",
          "model_module_version": "1.2.0",
          "state": {
            "_model_module": "@jupyter-widgets/base",
            "_model_module_version": "1.2.0",
            "_model_name": "LayoutModel",
            "_view_count": null,
            "_view_module": "@jupyter-widgets/base",
            "_view_module_version": "1.2.0",
            "_view_name": "LayoutView",
            "align_content": null,
            "align_items": null,
            "align_self": null,
            "border": null,
            "bottom": null,
            "display": null,
            "flex": null,
            "flex_flow": null,
            "grid_area": null,
            "grid_auto_columns": null,
            "grid_auto_flow": null,
            "grid_auto_rows": null,
            "grid_column": null,
            "grid_gap": null,
            "grid_row": null,
            "grid_template_areas": null,
            "grid_template_columns": null,
            "grid_template_rows": null,
            "height": null,
            "justify_content": null,
            "justify_items": null,
            "left": null,
            "margin": null,
            "max_height": null,
            "max_width": null,
            "min_height": null,
            "min_width": null,
            "object_fit": null,
            "object_position": null,
            "order": null,
            "overflow": null,
            "overflow_x": null,
            "overflow_y": null,
            "padding": null,
            "right": null,
            "top": null,
            "visibility": null,
            "width": null
          }
        },
        "7b944382bc354dfab585dface3868ca6": {
          "model_module": "@jupyter-widgets/controls",
          "model_name": "DescriptionStyleModel",
          "model_module_version": "1.5.0",
          "state": {
            "_model_module": "@jupyter-widgets/controls",
            "_model_module_version": "1.5.0",
            "_model_name": "DescriptionStyleModel",
            "_view_count": null,
            "_view_module": "@jupyter-widgets/base",
            "_view_module_version": "1.2.0",
            "_view_name": "StyleView",
            "description_width": ""
          }
        },
        "006ba014063845279986178afb7c2f1e": {
          "model_module": "@jupyter-widgets/base",
          "model_name": "LayoutModel",
          "model_module_version": "1.2.0",
          "state": {
            "_model_module": "@jupyter-widgets/base",
            "_model_module_version": "1.2.0",
            "_model_name": "LayoutModel",
            "_view_count": null,
            "_view_module": "@jupyter-widgets/base",
            "_view_module_version": "1.2.0",
            "_view_name": "LayoutView",
            "align_content": null,
            "align_items": null,
            "align_self": null,
            "border": null,
            "bottom": null,
            "display": null,
            "flex": null,
            "flex_flow": null,
            "grid_area": null,
            "grid_auto_columns": null,
            "grid_auto_flow": null,
            "grid_auto_rows": null,
            "grid_column": null,
            "grid_gap": null,
            "grid_row": null,
            "grid_template_areas": null,
            "grid_template_columns": null,
            "grid_template_rows": null,
            "height": null,
            "justify_content": null,
            "justify_items": null,
            "left": null,
            "margin": null,
            "max_height": null,
            "max_width": null,
            "min_height": null,
            "min_width": null,
            "object_fit": null,
            "object_position": null,
            "order": null,
            "overflow": null,
            "overflow_x": null,
            "overflow_y": null,
            "padding": null,
            "right": null,
            "top": null,
            "visibility": null,
            "width": null
          }
        },
        "8a54d22908b441bdb7eefcb48acf55f9": {
          "model_module": "@jupyter-widgets/controls",
          "model_name": "ProgressStyleModel",
          "model_module_version": "1.5.0",
          "state": {
            "_model_module": "@jupyter-widgets/controls",
            "_model_module_version": "1.5.0",
            "_model_name": "ProgressStyleModel",
            "_view_count": null,
            "_view_module": "@jupyter-widgets/base",
            "_view_module_version": "1.2.0",
            "_view_name": "StyleView",
            "bar_color": null,
            "description_width": ""
          }
        },
        "a3970947956a40ba92aaed0a826fb3ef": {
          "model_module": "@jupyter-widgets/base",
          "model_name": "LayoutModel",
          "model_module_version": "1.2.0",
          "state": {
            "_model_module": "@jupyter-widgets/base",
            "_model_module_version": "1.2.0",
            "_model_name": "LayoutModel",
            "_view_count": null,
            "_view_module": "@jupyter-widgets/base",
            "_view_module_version": "1.2.0",
            "_view_name": "LayoutView",
            "align_content": null,
            "align_items": null,
            "align_self": null,
            "border": null,
            "bottom": null,
            "display": null,
            "flex": null,
            "flex_flow": null,
            "grid_area": null,
            "grid_auto_columns": null,
            "grid_auto_flow": null,
            "grid_auto_rows": null,
            "grid_column": null,
            "grid_gap": null,
            "grid_row": null,
            "grid_template_areas": null,
            "grid_template_columns": null,
            "grid_template_rows": null,
            "height": null,
            "justify_content": null,
            "justify_items": null,
            "left": null,
            "margin": null,
            "max_height": null,
            "max_width": null,
            "min_height": null,
            "min_width": null,
            "object_fit": null,
            "object_position": null,
            "order": null,
            "overflow": null,
            "overflow_x": null,
            "overflow_y": null,
            "padding": null,
            "right": null,
            "top": null,
            "visibility": null,
            "width": null
          }
        },
        "cbe4585e59cd482a8af5d792eb4bf469": {
          "model_module": "@jupyter-widgets/controls",
          "model_name": "DescriptionStyleModel",
          "model_module_version": "1.5.0",
          "state": {
            "_model_module": "@jupyter-widgets/controls",
            "_model_module_version": "1.5.0",
            "_model_name": "DescriptionStyleModel",
            "_view_count": null,
            "_view_module": "@jupyter-widgets/base",
            "_view_module_version": "1.2.0",
            "_view_name": "StyleView",
            "description_width": ""
          }
        },
        "6864127ceb8b4db9b4bd8854247c4229": {
          "model_module": "@jupyter-widgets/controls",
          "model_name": "HBoxModel",
          "model_module_version": "1.5.0",
          "state": {
            "_dom_classes": [],
            "_model_module": "@jupyter-widgets/controls",
            "_model_module_version": "1.5.0",
            "_model_name": "HBoxModel",
            "_view_count": null,
            "_view_module": "@jupyter-widgets/controls",
            "_view_module_version": "1.5.0",
            "_view_name": "HBoxView",
            "box_style": "",
            "children": [
              "IPY_MODEL_09469876d87e4d7b8d3ed0ab91582bb8",
              "IPY_MODEL_e5689165756a4410b9295777e578fa10",
              "IPY_MODEL_68c9aa44422b45c7ab8890b3ff849277"
            ],
            "layout": "IPY_MODEL_6d76028b4b1c4b4084ae02a2c1e0c185"
          }
        },
        "09469876d87e4d7b8d3ed0ab91582bb8": {
          "model_module": "@jupyter-widgets/controls",
          "model_name": "HTMLModel",
          "model_module_version": "1.5.0",
          "state": {
            "_dom_classes": [],
            "_model_module": "@jupyter-widgets/controls",
            "_model_module_version": "1.5.0",
            "_model_name": "HTMLModel",
            "_view_count": null,
            "_view_module": "@jupyter-widgets/controls",
            "_view_module_version": "1.5.0",
            "_view_name": "HTMLView",
            "description": "",
            "description_tooltip": null,
            "layout": "IPY_MODEL_e132fe7942734e4388bd7ed6a97ba983",
            "placeholder": "​",
            "style": "IPY_MODEL_7ecc9ce90fc44697a270e78635c1f49b",
            "value": "tokenizer.json: 100%"
          }
        },
        "e5689165756a4410b9295777e578fa10": {
          "model_module": "@jupyter-widgets/controls",
          "model_name": "FloatProgressModel",
          "model_module_version": "1.5.0",
          "state": {
            "_dom_classes": [],
            "_model_module": "@jupyter-widgets/controls",
            "_model_module_version": "1.5.0",
            "_model_name": "FloatProgressModel",
            "_view_count": null,
            "_view_module": "@jupyter-widgets/controls",
            "_view_module_version": "1.5.0",
            "_view_name": "ProgressView",
            "bar_style": "success",
            "description": "",
            "description_tooltip": null,
            "layout": "IPY_MODEL_674d9dfe81d94016bb5fd3574db9606d",
            "max": 3714602,
            "min": 0,
            "orientation": "horizontal",
            "style": "IPY_MODEL_b1826773881644c6b41a449731c1a443",
            "value": 3714602
          }
        },
        "68c9aa44422b45c7ab8890b3ff849277": {
          "model_module": "@jupyter-widgets/controls",
          "model_name": "HTMLModel",
          "model_module_version": "1.5.0",
          "state": {
            "_dom_classes": [],
            "_model_module": "@jupyter-widgets/controls",
            "_model_module_version": "1.5.0",
            "_model_name": "HTMLModel",
            "_view_count": null,
            "_view_module": "@jupyter-widgets/controls",
            "_view_module_version": "1.5.0",
            "_view_name": "HTMLView",
            "description": "",
            "description_tooltip": null,
            "layout": "IPY_MODEL_e255aa9038ca4f81ad7f50cdf340fd12",
            "placeholder": "​",
            "style": "IPY_MODEL_4f6bffcb0a334d58985d318f10e096b7",
            "value": " 3.71M/3.71M [00:00&lt;00:00, 11.3MB/s]"
          }
        },
        "6d76028b4b1c4b4084ae02a2c1e0c185": {
          "model_module": "@jupyter-widgets/base",
          "model_name": "LayoutModel",
          "model_module_version": "1.2.0",
          "state": {
            "_model_module": "@jupyter-widgets/base",
            "_model_module_version": "1.2.0",
            "_model_name": "LayoutModel",
            "_view_count": null,
            "_view_module": "@jupyter-widgets/base",
            "_view_module_version": "1.2.0",
            "_view_name": "LayoutView",
            "align_content": null,
            "align_items": null,
            "align_self": null,
            "border": null,
            "bottom": null,
            "display": null,
            "flex": null,
            "flex_flow": null,
            "grid_area": null,
            "grid_auto_columns": null,
            "grid_auto_flow": null,
            "grid_auto_rows": null,
            "grid_column": null,
            "grid_gap": null,
            "grid_row": null,
            "grid_template_areas": null,
            "grid_template_columns": null,
            "grid_template_rows": null,
            "height": null,
            "justify_content": null,
            "justify_items": null,
            "left": null,
            "margin": null,
            "max_height": null,
            "max_width": null,
            "min_height": null,
            "min_width": null,
            "object_fit": null,
            "object_position": null,
            "order": null,
            "overflow": null,
            "overflow_x": null,
            "overflow_y": null,
            "padding": null,
            "right": null,
            "top": null,
            "visibility": null,
            "width": null
          }
        },
        "e132fe7942734e4388bd7ed6a97ba983": {
          "model_module": "@jupyter-widgets/base",
          "model_name": "LayoutModel",
          "model_module_version": "1.2.0",
          "state": {
            "_model_module": "@jupyter-widgets/base",
            "_model_module_version": "1.2.0",
            "_model_name": "LayoutModel",
            "_view_count": null,
            "_view_module": "@jupyter-widgets/base",
            "_view_module_version": "1.2.0",
            "_view_name": "LayoutView",
            "align_content": null,
            "align_items": null,
            "align_self": null,
            "border": null,
            "bottom": null,
            "display": null,
            "flex": null,
            "flex_flow": null,
            "grid_area": null,
            "grid_auto_columns": null,
            "grid_auto_flow": null,
            "grid_auto_rows": null,
            "grid_column": null,
            "grid_gap": null,
            "grid_row": null,
            "grid_template_areas": null,
            "grid_template_columns": null,
            "grid_template_rows": null,
            "height": null,
            "justify_content": null,
            "justify_items": null,
            "left": null,
            "margin": null,
            "max_height": null,
            "max_width": null,
            "min_height": null,
            "min_width": null,
            "object_fit": null,
            "object_position": null,
            "order": null,
            "overflow": null,
            "overflow_x": null,
            "overflow_y": null,
            "padding": null,
            "right": null,
            "top": null,
            "visibility": null,
            "width": null
          }
        },
        "7ecc9ce90fc44697a270e78635c1f49b": {
          "model_module": "@jupyter-widgets/controls",
          "model_name": "DescriptionStyleModel",
          "model_module_version": "1.5.0",
          "state": {
            "_model_module": "@jupyter-widgets/controls",
            "_model_module_version": "1.5.0",
            "_model_name": "DescriptionStyleModel",
            "_view_count": null,
            "_view_module": "@jupyter-widgets/base",
            "_view_module_version": "1.2.0",
            "_view_name": "StyleView",
            "description_width": ""
          }
        },
        "674d9dfe81d94016bb5fd3574db9606d": {
          "model_module": "@jupyter-widgets/base",
          "model_name": "LayoutModel",
          "model_module_version": "1.2.0",
          "state": {
            "_model_module": "@jupyter-widgets/base",
            "_model_module_version": "1.2.0",
            "_model_name": "LayoutModel",
            "_view_count": null,
            "_view_module": "@jupyter-widgets/base",
            "_view_module_version": "1.2.0",
            "_view_name": "LayoutView",
            "align_content": null,
            "align_items": null,
            "align_self": null,
            "border": null,
            "bottom": null,
            "display": null,
            "flex": null,
            "flex_flow": null,
            "grid_area": null,
            "grid_auto_columns": null,
            "grid_auto_flow": null,
            "grid_auto_rows": null,
            "grid_column": null,
            "grid_gap": null,
            "grid_row": null,
            "grid_template_areas": null,
            "grid_template_columns": null,
            "grid_template_rows": null,
            "height": null,
            "justify_content": null,
            "justify_items": null,
            "left": null,
            "margin": null,
            "max_height": null,
            "max_width": null,
            "min_height": null,
            "min_width": null,
            "object_fit": null,
            "object_position": null,
            "order": null,
            "overflow": null,
            "overflow_x": null,
            "overflow_y": null,
            "padding": null,
            "right": null,
            "top": null,
            "visibility": null,
            "width": null
          }
        },
        "b1826773881644c6b41a449731c1a443": {
          "model_module": "@jupyter-widgets/controls",
          "model_name": "ProgressStyleModel",
          "model_module_version": "1.5.0",
          "state": {
            "_model_module": "@jupyter-widgets/controls",
            "_model_module_version": "1.5.0",
            "_model_name": "ProgressStyleModel",
            "_view_count": null,
            "_view_module": "@jupyter-widgets/base",
            "_view_module_version": "1.2.0",
            "_view_name": "StyleView",
            "bar_color": null,
            "description_width": ""
          }
        },
        "e255aa9038ca4f81ad7f50cdf340fd12": {
          "model_module": "@jupyter-widgets/base",
          "model_name": "LayoutModel",
          "model_module_version": "1.2.0",
          "state": {
            "_model_module": "@jupyter-widgets/base",
            "_model_module_version": "1.2.0",
            "_model_name": "LayoutModel",
            "_view_count": null,
            "_view_module": "@jupyter-widgets/base",
            "_view_module_version": "1.2.0",
            "_view_name": "LayoutView",
            "align_content": null,
            "align_items": null,
            "align_self": null,
            "border": null,
            "bottom": null,
            "display": null,
            "flex": null,
            "flex_flow": null,
            "grid_area": null,
            "grid_auto_columns": null,
            "grid_auto_flow": null,
            "grid_auto_rows": null,
            "grid_column": null,
            "grid_gap": null,
            "grid_row": null,
            "grid_template_areas": null,
            "grid_template_columns": null,
            "grid_template_rows": null,
            "height": null,
            "justify_content": null,
            "justify_items": null,
            "left": null,
            "margin": null,
            "max_height": null,
            "max_width": null,
            "min_height": null,
            "min_width": null,
            "object_fit": null,
            "object_position": null,
            "order": null,
            "overflow": null,
            "overflow_x": null,
            "overflow_y": null,
            "padding": null,
            "right": null,
            "top": null,
            "visibility": null,
            "width": null
          }
        },
        "4f6bffcb0a334d58985d318f10e096b7": {
          "model_module": "@jupyter-widgets/controls",
          "model_name": "DescriptionStyleModel",
          "model_module_version": "1.5.0",
          "state": {
            "_model_module": "@jupyter-widgets/controls",
            "_model_module_version": "1.5.0",
            "_model_name": "DescriptionStyleModel",
            "_view_count": null,
            "_view_module": "@jupyter-widgets/base",
            "_view_module_version": "1.2.0",
            "_view_name": "StyleView",
            "description_width": ""
          }
        },
        "f4a73868f1134592b836ec094bf19218": {
          "model_module": "@jupyter-widgets/controls",
          "model_name": "HBoxModel",
          "model_module_version": "1.5.0",
          "state": {
            "_dom_classes": [],
            "_model_module": "@jupyter-widgets/controls",
            "_model_module_version": "1.5.0",
            "_model_name": "HBoxModel",
            "_view_count": null,
            "_view_module": "@jupyter-widgets/controls",
            "_view_module_version": "1.5.0",
            "_view_name": "HBoxView",
            "box_style": "",
            "children": [
              "IPY_MODEL_8495ef7ae3bf48c997bcf4637707fcd9",
              "IPY_MODEL_6d4ed7818e4a42dfbec84bb5b807f288",
              "IPY_MODEL_f0019e04f1fd481d80be1e2f853b6f62"
            ],
            "layout": "IPY_MODEL_70697d3c4ade4bee80bcc84a2a489ac4"
          }
        },
        "8495ef7ae3bf48c997bcf4637707fcd9": {
          "model_module": "@jupyter-widgets/controls",
          "model_name": "HTMLModel",
          "model_module_version": "1.5.0",
          "state": {
            "_dom_classes": [],
            "_model_module": "@jupyter-widgets/controls",
            "_model_module_version": "1.5.0",
            "_model_name": "HTMLModel",
            "_view_count": null,
            "_view_module": "@jupyter-widgets/controls",
            "_view_module_version": "1.5.0",
            "_view_name": "HTMLView",
            "description": "",
            "description_tooltip": null,
            "layout": "IPY_MODEL_94fac01c044140a596ced0bae3aa1318",
            "placeholder": "​",
            "style": "IPY_MODEL_b7ae30b011074d2883a0394721c42a98",
            "value": "special_tokens_map.json: 100%"
          }
        },
        "6d4ed7818e4a42dfbec84bb5b807f288": {
          "model_module": "@jupyter-widgets/controls",
          "model_name": "FloatProgressModel",
          "model_module_version": "1.5.0",
          "state": {
            "_dom_classes": [],
            "_model_module": "@jupyter-widgets/controls",
            "_model_module_version": "1.5.0",
            "_model_name": "FloatProgressModel",
            "_view_count": null,
            "_view_module": "@jupyter-widgets/controls",
            "_view_module_version": "1.5.0",
            "_view_name": "ProgressView",
            "bar_style": "success",
            "description": "",
            "description_tooltip": null,
            "layout": "IPY_MODEL_c58f576bfd6543319181ca199e36a686",
            "max": 125,
            "min": 0,
            "orientation": "horizontal",
            "style": "IPY_MODEL_ade669f5689a4b589fd70da975efe92c",
            "value": 125
          }
        },
        "f0019e04f1fd481d80be1e2f853b6f62": {
          "model_module": "@jupyter-widgets/controls",
          "model_name": "HTMLModel",
          "model_module_version": "1.5.0",
          "state": {
            "_dom_classes": [],
            "_model_module": "@jupyter-widgets/controls",
            "_model_module_version": "1.5.0",
            "_model_name": "HTMLModel",
            "_view_count": null,
            "_view_module": "@jupyter-widgets/controls",
            "_view_module_version": "1.5.0",
            "_view_name": "HTMLView",
            "description": "",
            "description_tooltip": null,
            "layout": "IPY_MODEL_4d9edf3237934577822e7b2a0ddb061c",
            "placeholder": "​",
            "style": "IPY_MODEL_699b4f0f5bba4bbc85c5695942055305",
            "value": " 125/125 [00:00&lt;00:00, 4.71kB/s]"
          }
        },
        "70697d3c4ade4bee80bcc84a2a489ac4": {
          "model_module": "@jupyter-widgets/base",
          "model_name": "LayoutModel",
          "model_module_version": "1.2.0",
          "state": {
            "_model_module": "@jupyter-widgets/base",
            "_model_module_version": "1.2.0",
            "_model_name": "LayoutModel",
            "_view_count": null,
            "_view_module": "@jupyter-widgets/base",
            "_view_module_version": "1.2.0",
            "_view_name": "LayoutView",
            "align_content": null,
            "align_items": null,
            "align_self": null,
            "border": null,
            "bottom": null,
            "display": null,
            "flex": null,
            "flex_flow": null,
            "grid_area": null,
            "grid_auto_columns": null,
            "grid_auto_flow": null,
            "grid_auto_rows": null,
            "grid_column": null,
            "grid_gap": null,
            "grid_row": null,
            "grid_template_areas": null,
            "grid_template_columns": null,
            "grid_template_rows": null,
            "height": null,
            "justify_content": null,
            "justify_items": null,
            "left": null,
            "margin": null,
            "max_height": null,
            "max_width": null,
            "min_height": null,
            "min_width": null,
            "object_fit": null,
            "object_position": null,
            "order": null,
            "overflow": null,
            "overflow_x": null,
            "overflow_y": null,
            "padding": null,
            "right": null,
            "top": null,
            "visibility": null,
            "width": null
          }
        },
        "94fac01c044140a596ced0bae3aa1318": {
          "model_module": "@jupyter-widgets/base",
          "model_name": "LayoutModel",
          "model_module_version": "1.2.0",
          "state": {
            "_model_module": "@jupyter-widgets/base",
            "_model_module_version": "1.2.0",
            "_model_name": "LayoutModel",
            "_view_count": null,
            "_view_module": "@jupyter-widgets/base",
            "_view_module_version": "1.2.0",
            "_view_name": "LayoutView",
            "align_content": null,
            "align_items": null,
            "align_self": null,
            "border": null,
            "bottom": null,
            "display": null,
            "flex": null,
            "flex_flow": null,
            "grid_area": null,
            "grid_auto_columns": null,
            "grid_auto_flow": null,
            "grid_auto_rows": null,
            "grid_column": null,
            "grid_gap": null,
            "grid_row": null,
            "grid_template_areas": null,
            "grid_template_columns": null,
            "grid_template_rows": null,
            "height": null,
            "justify_content": null,
            "justify_items": null,
            "left": null,
            "margin": null,
            "max_height": null,
            "max_width": null,
            "min_height": null,
            "min_width": null,
            "object_fit": null,
            "object_position": null,
            "order": null,
            "overflow": null,
            "overflow_x": null,
            "overflow_y": null,
            "padding": null,
            "right": null,
            "top": null,
            "visibility": null,
            "width": null
          }
        },
        "b7ae30b011074d2883a0394721c42a98": {
          "model_module": "@jupyter-widgets/controls",
          "model_name": "DescriptionStyleModel",
          "model_module_version": "1.5.0",
          "state": {
            "_model_module": "@jupyter-widgets/controls",
            "_model_module_version": "1.5.0",
            "_model_name": "DescriptionStyleModel",
            "_view_count": null,
            "_view_module": "@jupyter-widgets/base",
            "_view_module_version": "1.2.0",
            "_view_name": "StyleView",
            "description_width": ""
          }
        },
        "c58f576bfd6543319181ca199e36a686": {
          "model_module": "@jupyter-widgets/base",
          "model_name": "LayoutModel",
          "model_module_version": "1.2.0",
          "state": {
            "_model_module": "@jupyter-widgets/base",
            "_model_module_version": "1.2.0",
            "_model_name": "LayoutModel",
            "_view_count": null,
            "_view_module": "@jupyter-widgets/base",
            "_view_module_version": "1.2.0",
            "_view_name": "LayoutView",
            "align_content": null,
            "align_items": null,
            "align_self": null,
            "border": null,
            "bottom": null,
            "display": null,
            "flex": null,
            "flex_flow": null,
            "grid_area": null,
            "grid_auto_columns": null,
            "grid_auto_flow": null,
            "grid_auto_rows": null,
            "grid_column": null,
            "grid_gap": null,
            "grid_row": null,
            "grid_template_areas": null,
            "grid_template_columns": null,
            "grid_template_rows": null,
            "height": null,
            "justify_content": null,
            "justify_items": null,
            "left": null,
            "margin": null,
            "max_height": null,
            "max_width": null,
            "min_height": null,
            "min_width": null,
            "object_fit": null,
            "object_position": null,
            "order": null,
            "overflow": null,
            "overflow_x": null,
            "overflow_y": null,
            "padding": null,
            "right": null,
            "top": null,
            "visibility": null,
            "width": null
          }
        },
        "ade669f5689a4b589fd70da975efe92c": {
          "model_module": "@jupyter-widgets/controls",
          "model_name": "ProgressStyleModel",
          "model_module_version": "1.5.0",
          "state": {
            "_model_module": "@jupyter-widgets/controls",
            "_model_module_version": "1.5.0",
            "_model_name": "ProgressStyleModel",
            "_view_count": null,
            "_view_module": "@jupyter-widgets/base",
            "_view_module_version": "1.2.0",
            "_view_name": "StyleView",
            "bar_color": null,
            "description_width": ""
          }
        },
        "4d9edf3237934577822e7b2a0ddb061c": {
          "model_module": "@jupyter-widgets/base",
          "model_name": "LayoutModel",
          "model_module_version": "1.2.0",
          "state": {
            "_model_module": "@jupyter-widgets/base",
            "_model_module_version": "1.2.0",
            "_model_name": "LayoutModel",
            "_view_count": null,
            "_view_module": "@jupyter-widgets/base",
            "_view_module_version": "1.2.0",
            "_view_name": "LayoutView",
            "align_content": null,
            "align_items": null,
            "align_self": null,
            "border": null,
            "bottom": null,
            "display": null,
            "flex": null,
            "flex_flow": null,
            "grid_area": null,
            "grid_auto_columns": null,
            "grid_auto_flow": null,
            "grid_auto_rows": null,
            "grid_column": null,
            "grid_gap": null,
            "grid_row": null,
            "grid_template_areas": null,
            "grid_template_columns": null,
            "grid_template_rows": null,
            "height": null,
            "justify_content": null,
            "justify_items": null,
            "left": null,
            "margin": null,
            "max_height": null,
            "max_width": null,
            "min_height": null,
            "min_width": null,
            "object_fit": null,
            "object_position": null,
            "order": null,
            "overflow": null,
            "overflow_x": null,
            "overflow_y": null,
            "padding": null,
            "right": null,
            "top": null,
            "visibility": null,
            "width": null
          }
        },
        "699b4f0f5bba4bbc85c5695942055305": {
          "model_module": "@jupyter-widgets/controls",
          "model_name": "DescriptionStyleModel",
          "model_module_version": "1.5.0",
          "state": {
            "_model_module": "@jupyter-widgets/controls",
            "_model_module_version": "1.5.0",
            "_model_name": "DescriptionStyleModel",
            "_view_count": null,
            "_view_module": "@jupyter-widgets/base",
            "_view_module_version": "1.2.0",
            "_view_name": "StyleView",
            "description_width": ""
          }
        },
        "4acc4fff76e34d5ea3254c958f0fd3bc": {
          "model_module": "@jupyter-widgets/controls",
          "model_name": "HBoxModel",
          "model_module_version": "1.5.0",
          "state": {
            "_dom_classes": [],
            "_model_module": "@jupyter-widgets/controls",
            "_model_module_version": "1.5.0",
            "_model_name": "HBoxModel",
            "_view_count": null,
            "_view_module": "@jupyter-widgets/controls",
            "_view_module_version": "1.5.0",
            "_view_name": "HBoxView",
            "box_style": "",
            "children": [
              "IPY_MODEL_89e31d6c09f74c589c496f7c4e067a69",
              "IPY_MODEL_355b03147640461e86ccbe23ce5ca4c5",
              "IPY_MODEL_26c8089003b045de95540d0dcbdca720"
            ],
            "layout": "IPY_MODEL_833ab09624f14a6e9a92f347f9d51020"
          }
        },
        "89e31d6c09f74c589c496f7c4e067a69": {
          "model_module": "@jupyter-widgets/controls",
          "model_name": "HTMLModel",
          "model_module_version": "1.5.0",
          "state": {
            "_dom_classes": [],
            "_model_module": "@jupyter-widgets/controls",
            "_model_module_version": "1.5.0",
            "_model_name": "HTMLModel",
            "_view_count": null,
            "_view_module": "@jupyter-widgets/controls",
            "_view_module_version": "1.5.0",
            "_view_name": "HTMLView",
            "description": "",
            "description_tooltip": null,
            "layout": "IPY_MODEL_f92753a960a54a3c808c7bfe7612d975",
            "placeholder": "​",
            "style": "IPY_MODEL_198d9bfbca5a47d5b5f72adc2cdc70c1",
            "value": "config.json: 100%"
          }
        },
        "355b03147640461e86ccbe23ce5ca4c5": {
          "model_module": "@jupyter-widgets/controls",
          "model_name": "FloatProgressModel",
          "model_module_version": "1.5.0",
          "state": {
            "_dom_classes": [],
            "_model_module": "@jupyter-widgets/controls",
            "_model_module_version": "1.5.0",
            "_model_name": "FloatProgressModel",
            "_view_count": null,
            "_view_module": "@jupyter-widgets/controls",
            "_view_module_version": "1.5.0",
            "_view_name": "ProgressView",
            "bar_style": "success",
            "description": "",
            "description_tooltip": null,
            "layout": "IPY_MODEL_f28bda82d05b4fbf96b948b229bbbf72",
            "max": 863,
            "min": 0,
            "orientation": "horizontal",
            "style": "IPY_MODEL_181677f276214c32a4abaf4669aa362b",
            "value": 863
          }
        },
        "26c8089003b045de95540d0dcbdca720": {
          "model_module": "@jupyter-widgets/controls",
          "model_name": "HTMLModel",
          "model_module_version": "1.5.0",
          "state": {
            "_dom_classes": [],
            "_model_module": "@jupyter-widgets/controls",
            "_model_module_version": "1.5.0",
            "_model_name": "HTMLModel",
            "_view_count": null,
            "_view_module": "@jupyter-widgets/controls",
            "_view_module_version": "1.5.0",
            "_view_name": "HTMLView",
            "description": "",
            "description_tooltip": null,
            "layout": "IPY_MODEL_4324fb18eead4d58ad85f27ce8241baf",
            "placeholder": "​",
            "style": "IPY_MODEL_20435a98415f41219b23b71705539d22",
            "value": " 863/863 [00:00&lt;00:00, 39.8kB/s]"
          }
        },
        "833ab09624f14a6e9a92f347f9d51020": {
          "model_module": "@jupyter-widgets/base",
          "model_name": "LayoutModel",
          "model_module_version": "1.2.0",
          "state": {
            "_model_module": "@jupyter-widgets/base",
            "_model_module_version": "1.2.0",
            "_model_name": "LayoutModel",
            "_view_count": null,
            "_view_module": "@jupyter-widgets/base",
            "_view_module_version": "1.2.0",
            "_view_name": "LayoutView",
            "align_content": null,
            "align_items": null,
            "align_self": null,
            "border": null,
            "bottom": null,
            "display": null,
            "flex": null,
            "flex_flow": null,
            "grid_area": null,
            "grid_auto_columns": null,
            "grid_auto_flow": null,
            "grid_auto_rows": null,
            "grid_column": null,
            "grid_gap": null,
            "grid_row": null,
            "grid_template_areas": null,
            "grid_template_columns": null,
            "grid_template_rows": null,
            "height": null,
            "justify_content": null,
            "justify_items": null,
            "left": null,
            "margin": null,
            "max_height": null,
            "max_width": null,
            "min_height": null,
            "min_width": null,
            "object_fit": null,
            "object_position": null,
            "order": null,
            "overflow": null,
            "overflow_x": null,
            "overflow_y": null,
            "padding": null,
            "right": null,
            "top": null,
            "visibility": null,
            "width": null
          }
        },
        "f92753a960a54a3c808c7bfe7612d975": {
          "model_module": "@jupyter-widgets/base",
          "model_name": "LayoutModel",
          "model_module_version": "1.2.0",
          "state": {
            "_model_module": "@jupyter-widgets/base",
            "_model_module_version": "1.2.0",
            "_model_name": "LayoutModel",
            "_view_count": null,
            "_view_module": "@jupyter-widgets/base",
            "_view_module_version": "1.2.0",
            "_view_name": "LayoutView",
            "align_content": null,
            "align_items": null,
            "align_self": null,
            "border": null,
            "bottom": null,
            "display": null,
            "flex": null,
            "flex_flow": null,
            "grid_area": null,
            "grid_auto_columns": null,
            "grid_auto_flow": null,
            "grid_auto_rows": null,
            "grid_column": null,
            "grid_gap": null,
            "grid_row": null,
            "grid_template_areas": null,
            "grid_template_columns": null,
            "grid_template_rows": null,
            "height": null,
            "justify_content": null,
            "justify_items": null,
            "left": null,
            "margin": null,
            "max_height": null,
            "max_width": null,
            "min_height": null,
            "min_width": null,
            "object_fit": null,
            "object_position": null,
            "order": null,
            "overflow": null,
            "overflow_x": null,
            "overflow_y": null,
            "padding": null,
            "right": null,
            "top": null,
            "visibility": null,
            "width": null
          }
        },
        "198d9bfbca5a47d5b5f72adc2cdc70c1": {
          "model_module": "@jupyter-widgets/controls",
          "model_name": "DescriptionStyleModel",
          "model_module_version": "1.5.0",
          "state": {
            "_model_module": "@jupyter-widgets/controls",
            "_model_module_version": "1.5.0",
            "_model_name": "DescriptionStyleModel",
            "_view_count": null,
            "_view_module": "@jupyter-widgets/base",
            "_view_module_version": "1.2.0",
            "_view_name": "StyleView",
            "description_width": ""
          }
        },
        "f28bda82d05b4fbf96b948b229bbbf72": {
          "model_module": "@jupyter-widgets/base",
          "model_name": "LayoutModel",
          "model_module_version": "1.2.0",
          "state": {
            "_model_module": "@jupyter-widgets/base",
            "_model_module_version": "1.2.0",
            "_model_name": "LayoutModel",
            "_view_count": null,
            "_view_module": "@jupyter-widgets/base",
            "_view_module_version": "1.2.0",
            "_view_name": "LayoutView",
            "align_content": null,
            "align_items": null,
            "align_self": null,
            "border": null,
            "bottom": null,
            "display": null,
            "flex": null,
            "flex_flow": null,
            "grid_area": null,
            "grid_auto_columns": null,
            "grid_auto_flow": null,
            "grid_auto_rows": null,
            "grid_column": null,
            "grid_gap": null,
            "grid_row": null,
            "grid_template_areas": null,
            "grid_template_columns": null,
            "grid_template_rows": null,
            "height": null,
            "justify_content": null,
            "justify_items": null,
            "left": null,
            "margin": null,
            "max_height": null,
            "max_width": null,
            "min_height": null,
            "min_width": null,
            "object_fit": null,
            "object_position": null,
            "order": null,
            "overflow": null,
            "overflow_x": null,
            "overflow_y": null,
            "padding": null,
            "right": null,
            "top": null,
            "visibility": null,
            "width": null
          }
        },
        "181677f276214c32a4abaf4669aa362b": {
          "model_module": "@jupyter-widgets/controls",
          "model_name": "ProgressStyleModel",
          "model_module_version": "1.5.0",
          "state": {
            "_model_module": "@jupyter-widgets/controls",
            "_model_module_version": "1.5.0",
            "_model_name": "ProgressStyleModel",
            "_view_count": null,
            "_view_module": "@jupyter-widgets/base",
            "_view_module_version": "1.2.0",
            "_view_name": "StyleView",
            "bar_color": null,
            "description_width": ""
          }
        },
        "4324fb18eead4d58ad85f27ce8241baf": {
          "model_module": "@jupyter-widgets/base",
          "model_name": "LayoutModel",
          "model_module_version": "1.2.0",
          "state": {
            "_model_module": "@jupyter-widgets/base",
            "_model_module_version": "1.2.0",
            "_model_name": "LayoutModel",
            "_view_count": null,
            "_view_module": "@jupyter-widgets/base",
            "_view_module_version": "1.2.0",
            "_view_name": "LayoutView",
            "align_content": null,
            "align_items": null,
            "align_self": null,
            "border": null,
            "bottom": null,
            "display": null,
            "flex": null,
            "flex_flow": null,
            "grid_area": null,
            "grid_auto_columns": null,
            "grid_auto_flow": null,
            "grid_auto_rows": null,
            "grid_column": null,
            "grid_gap": null,
            "grid_row": null,
            "grid_template_areas": null,
            "grid_template_columns": null,
            "grid_template_rows": null,
            "height": null,
            "justify_content": null,
            "justify_items": null,
            "left": null,
            "margin": null,
            "max_height": null,
            "max_width": null,
            "min_height": null,
            "min_width": null,
            "object_fit": null,
            "object_position": null,
            "order": null,
            "overflow": null,
            "overflow_x": null,
            "overflow_y": null,
            "padding": null,
            "right": null,
            "top": null,
            "visibility": null,
            "width": null
          }
        },
        "20435a98415f41219b23b71705539d22": {
          "model_module": "@jupyter-widgets/controls",
          "model_name": "DescriptionStyleModel",
          "model_module_version": "1.5.0",
          "state": {
            "_model_module": "@jupyter-widgets/controls",
            "_model_module_version": "1.5.0",
            "_model_name": "DescriptionStyleModel",
            "_view_count": null,
            "_view_module": "@jupyter-widgets/base",
            "_view_module_version": "1.2.0",
            "_view_name": "StyleView",
            "description_width": ""
          }
        },
        "42da8dcf14074a91baeeab2bd2f9d516": {
          "model_module": "@jupyter-widgets/controls",
          "model_name": "HBoxModel",
          "model_module_version": "1.5.0",
          "state": {
            "_dom_classes": [],
            "_model_module": "@jupyter-widgets/controls",
            "_model_module_version": "1.5.0",
            "_model_name": "HBoxModel",
            "_view_count": null,
            "_view_module": "@jupyter-widgets/controls",
            "_view_module_version": "1.5.0",
            "_view_name": "HBoxView",
            "box_style": "",
            "children": [
              "IPY_MODEL_fb7c07ccce38471997156887005409b6",
              "IPY_MODEL_c4217b407865439d9a84067c1cb623bd",
              "IPY_MODEL_ad8baedbb0fc48609423b2e2e7079426"
            ],
            "layout": "IPY_MODEL_07d8339419be4b4ca79e5d480fc03af8"
          }
        },
        "fb7c07ccce38471997156887005409b6": {
          "model_module": "@jupyter-widgets/controls",
          "model_name": "HTMLModel",
          "model_module_version": "1.5.0",
          "state": {
            "_dom_classes": [],
            "_model_module": "@jupyter-widgets/controls",
            "_model_module_version": "1.5.0",
            "_model_name": "HTMLModel",
            "_view_count": null,
            "_view_module": "@jupyter-widgets/controls",
            "_view_module_version": "1.5.0",
            "_view_name": "HTMLView",
            "description": "",
            "description_tooltip": null,
            "layout": "IPY_MODEL_0ede425874d546aea5ce63896b38339c",
            "placeholder": "​",
            "style": "IPY_MODEL_a00dc8db8ab445f4acb5c64be0a859e9",
            "value": "model.safetensors: 100%"
          }
        },
        "c4217b407865439d9a84067c1cb623bd": {
          "model_module": "@jupyter-widgets/controls",
          "model_name": "FloatProgressModel",
          "model_module_version": "1.5.0",
          "state": {
            "_dom_classes": [],
            "_model_module": "@jupyter-widgets/controls",
            "_model_module_version": "1.5.0",
            "_model_name": "FloatProgressModel",
            "_view_count": null,
            "_view_module": "@jupyter-widgets/controls",
            "_view_module_version": "1.5.0",
            "_view_name": "ProgressView",
            "bar_style": "success",
            "description": "",
            "description_tooltip": null,
            "layout": "IPY_MODEL_05c481a0694d4257998904161fe7043a",
            "max": 1707679808,
            "min": 0,
            "orientation": "horizontal",
            "style": "IPY_MODEL_2f5a0369233c418393ce2f3193ad499e",
            "value": 1707679808
          }
        },
        "ad8baedbb0fc48609423b2e2e7079426": {
          "model_module": "@jupyter-widgets/controls",
          "model_name": "HTMLModel",
          "model_module_version": "1.5.0",
          "state": {
            "_dom_classes": [],
            "_model_module": "@jupyter-widgets/controls",
            "_model_module_version": "1.5.0",
            "_model_name": "HTMLModel",
            "_view_count": null,
            "_view_module": "@jupyter-widgets/controls",
            "_view_module_version": "1.5.0",
            "_view_name": "HTMLView",
            "description": "",
            "description_tooltip": null,
            "layout": "IPY_MODEL_a71dd6cff49d4989afe4f2d2b9d756d9",
            "placeholder": "​",
            "style": "IPY_MODEL_76da8c0bd42749b6b15fbc0274c3269c",
            "value": " 1.71G/1.71G [00:09&lt;00:00, 249MB/s]"
          }
        },
        "07d8339419be4b4ca79e5d480fc03af8": {
          "model_module": "@jupyter-widgets/base",
          "model_name": "LayoutModel",
          "model_module_version": "1.2.0",
          "state": {
            "_model_module": "@jupyter-widgets/base",
            "_model_module_version": "1.2.0",
            "_model_name": "LayoutModel",
            "_view_count": null,
            "_view_module": "@jupyter-widgets/base",
            "_view_module_version": "1.2.0",
            "_view_name": "LayoutView",
            "align_content": null,
            "align_items": null,
            "align_self": null,
            "border": null,
            "bottom": null,
            "display": null,
            "flex": null,
            "flex_flow": null,
            "grid_area": null,
            "grid_auto_columns": null,
            "grid_auto_flow": null,
            "grid_auto_rows": null,
            "grid_column": null,
            "grid_gap": null,
            "grid_row": null,
            "grid_template_areas": null,
            "grid_template_columns": null,
            "grid_template_rows": null,
            "height": null,
            "justify_content": null,
            "justify_items": null,
            "left": null,
            "margin": null,
            "max_height": null,
            "max_width": null,
            "min_height": null,
            "min_width": null,
            "object_fit": null,
            "object_position": null,
            "order": null,
            "overflow": null,
            "overflow_x": null,
            "overflow_y": null,
            "padding": null,
            "right": null,
            "top": null,
            "visibility": null,
            "width": null
          }
        },
        "0ede425874d546aea5ce63896b38339c": {
          "model_module": "@jupyter-widgets/base",
          "model_name": "LayoutModel",
          "model_module_version": "1.2.0",
          "state": {
            "_model_module": "@jupyter-widgets/base",
            "_model_module_version": "1.2.0",
            "_model_name": "LayoutModel",
            "_view_count": null,
            "_view_module": "@jupyter-widgets/base",
            "_view_module_version": "1.2.0",
            "_view_name": "LayoutView",
            "align_content": null,
            "align_items": null,
            "align_self": null,
            "border": null,
            "bottom": null,
            "display": null,
            "flex": null,
            "flex_flow": null,
            "grid_area": null,
            "grid_auto_columns": null,
            "grid_auto_flow": null,
            "grid_auto_rows": null,
            "grid_column": null,
            "grid_gap": null,
            "grid_row": null,
            "grid_template_areas": null,
            "grid_template_columns": null,
            "grid_template_rows": null,
            "height": null,
            "justify_content": null,
            "justify_items": null,
            "left": null,
            "margin": null,
            "max_height": null,
            "max_width": null,
            "min_height": null,
            "min_width": null,
            "object_fit": null,
            "object_position": null,
            "order": null,
            "overflow": null,
            "overflow_x": null,
            "overflow_y": null,
            "padding": null,
            "right": null,
            "top": null,
            "visibility": null,
            "width": null
          }
        },
        "a00dc8db8ab445f4acb5c64be0a859e9": {
          "model_module": "@jupyter-widgets/controls",
          "model_name": "DescriptionStyleModel",
          "model_module_version": "1.5.0",
          "state": {
            "_model_module": "@jupyter-widgets/controls",
            "_model_module_version": "1.5.0",
            "_model_name": "DescriptionStyleModel",
            "_view_count": null,
            "_view_module": "@jupyter-widgets/base",
            "_view_module_version": "1.2.0",
            "_view_name": "StyleView",
            "description_width": ""
          }
        },
        "05c481a0694d4257998904161fe7043a": {
          "model_module": "@jupyter-widgets/base",
          "model_name": "LayoutModel",
          "model_module_version": "1.2.0",
          "state": {
            "_model_module": "@jupyter-widgets/base",
            "_model_module_version": "1.2.0",
            "_model_name": "LayoutModel",
            "_view_count": null,
            "_view_module": "@jupyter-widgets/base",
            "_view_module_version": "1.2.0",
            "_view_name": "LayoutView",
            "align_content": null,
            "align_items": null,
            "align_self": null,
            "border": null,
            "bottom": null,
            "display": null,
            "flex": null,
            "flex_flow": null,
            "grid_area": null,
            "grid_auto_columns": null,
            "grid_auto_flow": null,
            "grid_auto_rows": null,
            "grid_column": null,
            "grid_gap": null,
            "grid_row": null,
            "grid_template_areas": null,
            "grid_template_columns": null,
            "grid_template_rows": null,
            "height": null,
            "justify_content": null,
            "justify_items": null,
            "left": null,
            "margin": null,
            "max_height": null,
            "max_width": null,
            "min_height": null,
            "min_width": null,
            "object_fit": null,
            "object_position": null,
            "order": null,
            "overflow": null,
            "overflow_x": null,
            "overflow_y": null,
            "padding": null,
            "right": null,
            "top": null,
            "visibility": null,
            "width": null
          }
        },
        "2f5a0369233c418393ce2f3193ad499e": {
          "model_module": "@jupyter-widgets/controls",
          "model_name": "ProgressStyleModel",
          "model_module_version": "1.5.0",
          "state": {
            "_model_module": "@jupyter-widgets/controls",
            "_model_module_version": "1.5.0",
            "_model_name": "ProgressStyleModel",
            "_view_count": null,
            "_view_module": "@jupyter-widgets/base",
            "_view_module_version": "1.2.0",
            "_view_name": "StyleView",
            "bar_color": null,
            "description_width": ""
          }
        },
        "a71dd6cff49d4989afe4f2d2b9d756d9": {
          "model_module": "@jupyter-widgets/base",
          "model_name": "LayoutModel",
          "model_module_version": "1.2.0",
          "state": {
            "_model_module": "@jupyter-widgets/base",
            "_model_module_version": "1.2.0",
            "_model_name": "LayoutModel",
            "_view_count": null,
            "_view_module": "@jupyter-widgets/base",
            "_view_module_version": "1.2.0",
            "_view_name": "LayoutView",
            "align_content": null,
            "align_items": null,
            "align_self": null,
            "border": null,
            "bottom": null,
            "display": null,
            "flex": null,
            "flex_flow": null,
            "grid_area": null,
            "grid_auto_columns": null,
            "grid_auto_flow": null,
            "grid_auto_rows": null,
            "grid_column": null,
            "grid_gap": null,
            "grid_row": null,
            "grid_template_areas": null,
            "grid_template_columns": null,
            "grid_template_rows": null,
            "height": null,
            "justify_content": null,
            "justify_items": null,
            "left": null,
            "margin": null,
            "max_height": null,
            "max_width": null,
            "min_height": null,
            "min_width": null,
            "object_fit": null,
            "object_position": null,
            "order": null,
            "overflow": null,
            "overflow_x": null,
            "overflow_y": null,
            "padding": null,
            "right": null,
            "top": null,
            "visibility": null,
            "width": null
          }
        },
        "76da8c0bd42749b6b15fbc0274c3269c": {
          "model_module": "@jupyter-widgets/controls",
          "model_name": "DescriptionStyleModel",
          "model_module_version": "1.5.0",
          "state": {
            "_model_module": "@jupyter-widgets/controls",
            "_model_module_version": "1.5.0",
            "_model_name": "DescriptionStyleModel",
            "_view_count": null,
            "_view_module": "@jupyter-widgets/base",
            "_view_module_version": "1.2.0",
            "_view_name": "StyleView",
            "description_width": ""
          }
        }
      }
    }
  },
  "nbformat": 4,
  "nbformat_minor": 0
}