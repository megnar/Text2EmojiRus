{
  "cells": [
    {
      "cell_type": "markdown",
      "metadata": {
        "id": "KOf0A3knSlOA"
      },
      "source": [
        "Для начала приведем csv файл в корекнтный формат"
      ]
    },
    {
      "cell_type": "code",
      "execution_count": 1,
      "metadata": {
        "colab": {
          "base_uri": "https://localhost:8080/"
        },
        "id": "V7EuEllT6lm8",
        "outputId": "e42030ae-8ed5-483a-eaea-81c707c6a3a7"
      },
      "outputs": [
        {
          "output_type": "stream",
          "name": "stdout",
          "text": [
            "Mounted at /content/drive\n"
          ]
        }
      ],
      "source": [
        "from google.colab import drive\n",
        "drive.mount('/content/drive')"
      ]
    },
    {
      "cell_type": "code",
      "execution_count": 2,
      "metadata": {
        "id": "NPzh4QV2SlOC"
      },
      "outputs": [],
      "source": [
        "import pandas as pd\n",
        "from sklearn.model_selection import train_test_split\n",
        "\n",
        "\n",
        "input_file = \"/content/drive/MyDrive/final_train.csv\"\n",
        "df = pd.read_csv(input_file)"
      ]
    },
    {
      "cell_type": "code",
      "execution_count": 4,
      "metadata": {
        "id": "OjJJiGWaSlOD"
      },
      "outputs": [],
      "source": [
        "texts = df['text'].values\n",
        "for i in range(len(texts)):\n",
        "    texts[i] = \"clustering: \" + texts[i]\n",
        "\n",
        "emojis_data = df['emoji'].factorize()\n",
        "emojis = emojis_data[0]\n",
        "train_texts, val_texts, train_labels, val_labels = train_test_split(texts, emojis, test_size=0.1, random_state=42)"
      ]
    },
    {
      "cell_type": "code",
      "execution_count": 5,
      "metadata": {
        "id": "JqP7Whrlnfd9",
        "colab": {
          "base_uri": "https://localhost:8080/"
        },
        "outputId": "7bb5ba8d-05d8-43dd-c0d9-49c15da9adfb"
      },
      "outputs": [
        {
          "output_type": "execute_result",
          "data": {
            "text/plain": [
              "array([0, 1, 2, 3, 4, 5, 6, 7, 8, 0])"
            ]
          },
          "metadata": {},
          "execution_count": 5
        }
      ],
      "source": [
        "emojis_data[0][:10]"
      ]
    },
    {
      "cell_type": "code",
      "execution_count": 6,
      "metadata": {
        "id": "0PQd4UJ4n-hU",
        "colab": {
          "base_uri": "https://localhost:8080/"
        },
        "outputId": "6d8f84e7-d9ae-4c0d-fcfd-49a39f048074"
      },
      "outputs": [
        {
          "output_type": "stream",
          "name": "stdout",
          "text": [
            "62\n"
          ]
        }
      ],
      "source": [
        "map = {}\n",
        "for i in range(len(emojis_data[0])):\n",
        "    em = emojis_data[0][i]\n",
        "    if em not in map:\n",
        "        map[em] = 1\n",
        "    else:\n",
        "        map[em] += 1\n",
        "\n",
        "print(len(map))"
      ]
    },
    {
      "cell_type": "code",
      "execution_count": 7,
      "metadata": {
        "id": "D4_pEpM7mpHp"
      },
      "outputs": [],
      "source": [
        "def emoji_to_num(emoji):\n",
        "  for index, elem in enumerate(emojis_data[1]):\n",
        "    if elem == emoji:\n",
        "      return index\n",
        "\n",
        "def num_to_emoji(num):\n",
        "  return emojis_data[1][num]"
      ]
    },
    {
      "cell_type": "markdown",
      "metadata": {
        "id": "p1a7oF2pSlOE"
      },
      "source": [
        "Создаем пайторч датасет"
      ]
    },
    {
      "cell_type": "markdown",
      "metadata": {
        "id": "lgw0lJOfTs17"
      },
      "source": [
        "Создаем модель"
      ]
    },
    {
      "cell_type": "code",
      "execution_count": 8,
      "metadata": {
        "id": "b-ZQ-yWcuFUs"
      },
      "outputs": [],
      "source": [
        "import torch\n",
        "import torch.nn as nn\n",
        "import torch.nn.functional as F\n",
        "\n",
        "class FocalLoss(nn.Module):\n",
        "    def __init__(self, gamma=2.0, alpha=None, reduction='mean'):\n",
        "        super(FocalLoss, self).__init__()\n",
        "        self.gamma = gamma\n",
        "        self.alpha = alpha\n",
        "        self.reduction = reduction\n",
        "\n",
        "    def forward(self, inputs, targets):\n",
        "        probs = F.softmax(inputs, dim=-1)\n",
        "        targets_one_hot = F.one_hot(targets, num_classes=inputs.shape[-1])\n",
        "        probs = torch.sum(probs * targets_one_hot, dim=-1)\n",
        "\n",
        "        focal_weight = (1 - probs) ** self.gamma\n",
        "\n",
        "        ce_loss = F.cross_entropy(inputs, targets, reduction='none')\n",
        "\n",
        "        loss = focal_weight * ce_loss\n",
        "\n",
        "        if self.alpha is not None:\n",
        "            alpha_weight = self.alpha.gather(0, targets)\n",
        "            loss = alpha_weight * loss\n",
        "\n",
        "        if self.reduction == 'mean':\n",
        "            return loss.mean()\n",
        "        elif self.reduction == 'sum':\n",
        "            return loss.sum()\n",
        "        else:\n",
        "            return loss\n"
      ]
    },
    {
      "cell_type": "markdown",
      "metadata": {
        "id": "5eI0djh6lBlP"
      },
      "source": [
        "find alphas"
      ]
    },
    {
      "cell_type": "code",
      "execution_count": 9,
      "metadata": {
        "collapsed": true,
        "id": "AomA1f9YoS4O"
      },
      "outputs": [],
      "source": [
        "num_classes = 62\n",
        "device = torch.device('cuda') if torch.cuda.is_available() else torch.device('cpu')\n",
        "\n",
        "alpha = torch.zeros(num_classes).to(device)\n",
        "for i in range(len(alpha)):\n",
        "  alpha[i] = 8000 / map[i]\n",
        "\n",
        "\n",
        "alpha2 = torch.ones(num_classes).to(device)\n",
        "\n",
        "alpha3 = torch.sqrt(alpha)\n",
        "\n",
        "alpha4 = torch.pow(alpha, 3/4)"
      ]
    },
    {
      "cell_type": "code",
      "source": [
        "!pip install peft"
      ],
      "metadata": {
        "collapsed": true,
        "id": "riwxsqr78Clz",
        "colab": {
          "base_uri": "https://localhost:8080/"
        },
        "outputId": "85d12a99-9124-4afc-d043-593b55f9362b"
      },
      "execution_count": 10,
      "outputs": [
        {
          "output_type": "stream",
          "name": "stdout",
          "text": [
            "Collecting peft\n",
            "  Downloading peft-0.13.0-py3-none-any.whl.metadata (13 kB)\n",
            "Requirement already satisfied: numpy>=1.17 in /usr/local/lib/python3.10/dist-packages (from peft) (1.26.4)\n",
            "Requirement already satisfied: packaging>=20.0 in /usr/local/lib/python3.10/dist-packages (from peft) (24.1)\n",
            "Requirement already satisfied: psutil in /usr/local/lib/python3.10/dist-packages (from peft) (5.9.5)\n",
            "Requirement already satisfied: pyyaml in /usr/local/lib/python3.10/dist-packages (from peft) (6.0.2)\n",
            "Requirement already satisfied: torch>=1.13.0 in /usr/local/lib/python3.10/dist-packages (from peft) (2.4.1+cu121)\n",
            "Requirement already satisfied: transformers in /usr/local/lib/python3.10/dist-packages (from peft) (4.44.2)\n",
            "Requirement already satisfied: tqdm in /usr/local/lib/python3.10/dist-packages (from peft) (4.66.5)\n",
            "Requirement already satisfied: accelerate>=0.21.0 in /usr/local/lib/python3.10/dist-packages (from peft) (0.34.2)\n",
            "Requirement already satisfied: safetensors in /usr/local/lib/python3.10/dist-packages (from peft) (0.4.5)\n",
            "Requirement already satisfied: huggingface-hub>=0.17.0 in /usr/local/lib/python3.10/dist-packages (from peft) (0.24.7)\n",
            "Requirement already satisfied: filelock in /usr/local/lib/python3.10/dist-packages (from huggingface-hub>=0.17.0->peft) (3.16.1)\n",
            "Requirement already satisfied: fsspec>=2023.5.0 in /usr/local/lib/python3.10/dist-packages (from huggingface-hub>=0.17.0->peft) (2024.6.1)\n",
            "Requirement already satisfied: requests in /usr/local/lib/python3.10/dist-packages (from huggingface-hub>=0.17.0->peft) (2.32.3)\n",
            "Requirement already satisfied: typing-extensions>=3.7.4.3 in /usr/local/lib/python3.10/dist-packages (from huggingface-hub>=0.17.0->peft) (4.12.2)\n",
            "Requirement already satisfied: sympy in /usr/local/lib/python3.10/dist-packages (from torch>=1.13.0->peft) (1.13.3)\n",
            "Requirement already satisfied: networkx in /usr/local/lib/python3.10/dist-packages (from torch>=1.13.0->peft) (3.3)\n",
            "Requirement already satisfied: jinja2 in /usr/local/lib/python3.10/dist-packages (from torch>=1.13.0->peft) (3.1.4)\n",
            "Requirement already satisfied: regex!=2019.12.17 in /usr/local/lib/python3.10/dist-packages (from transformers->peft) (2024.9.11)\n",
            "Requirement already satisfied: tokenizers<0.20,>=0.19 in /usr/local/lib/python3.10/dist-packages (from transformers->peft) (0.19.1)\n",
            "Requirement already satisfied: MarkupSafe>=2.0 in /usr/local/lib/python3.10/dist-packages (from jinja2->torch>=1.13.0->peft) (2.1.5)\n",
            "Requirement already satisfied: charset-normalizer<4,>=2 in /usr/local/lib/python3.10/dist-packages (from requests->huggingface-hub>=0.17.0->peft) (3.3.2)\n",
            "Requirement already satisfied: idna<4,>=2.5 in /usr/local/lib/python3.10/dist-packages (from requests->huggingface-hub>=0.17.0->peft) (3.10)\n",
            "Requirement already satisfied: urllib3<3,>=1.21.1 in /usr/local/lib/python3.10/dist-packages (from requests->huggingface-hub>=0.17.0->peft) (2.2.3)\n",
            "Requirement already satisfied: certifi>=2017.4.17 in /usr/local/lib/python3.10/dist-packages (from requests->huggingface-hub>=0.17.0->peft) (2024.8.30)\n",
            "Requirement already satisfied: mpmath<1.4,>=1.1.0 in /usr/local/lib/python3.10/dist-packages (from sympy->torch>=1.13.0->peft) (1.3.0)\n",
            "Downloading peft-0.13.0-py3-none-any.whl (322 kB)\n",
            "\u001b[2K   \u001b[90m━━━━━━━━━━━━━━━━━━━━━━━━━━━━━━━━━━━━━━━━\u001b[0m \u001b[32m322.5/322.5 kB\u001b[0m \u001b[31m22.1 MB/s\u001b[0m eta \u001b[36m0:00:00\u001b[0m\n",
            "\u001b[?25hInstalling collected packages: peft\n",
            "Successfully installed peft-0.13.0\n"
          ]
        }
      ]
    },
    {
      "cell_type": "code",
      "execution_count": 11,
      "metadata": {
        "id": "cpj8I0c0cXiY"
      },
      "outputs": [],
      "source": [
        "import torch.nn as nn\n",
        "from transformers import BertModel\n",
        "from transformers import AutoModel\n",
        "from peft import LoraConfig, get_peft_model\n",
        "import torch.nn.functional as F\n",
        "\n",
        "class EmojiClassifier2(nn.Module):\n",
        "    def __init__(self, num_labels, alpha):\n",
        "        super(EmojiClassifier2, self).__init__()\n",
        "        self.bert = AutoModel.from_pretrained(\"ai-forever/ru-en-RoSBERTa\")\n",
        "\n",
        "        lora_config = LoraConfig(\n",
        "            r=32,\n",
        "            lora_alpha=32,\n",
        "            target_modules=[\"query\", \"value\", \"key\"],\n",
        "            bias=\"none\"\n",
        "        )\n",
        "\n",
        "        self.bert = get_peft_model(self.bert, lora_config)\n",
        "        self.alpha = alpha\n",
        "\n",
        "        for param in self.bert.parameters():\n",
        "            param.requires_grad = False\n",
        "        for name, param in self.bert.named_parameters():\n",
        "            if 'lora' in name:\n",
        "                param.requires_grad = True\n",
        "\n",
        "\n",
        "        self.classifier = nn.Sequential(\n",
        "            nn.Linear(self.bert.config.hidden_size, 512),\n",
        "            nn.ReLU(),\n",
        "            nn.Dropout(0.3),\n",
        "            nn.Linear(512, 512),\n",
        "            nn.ReLU(),\n",
        "            nn.Dropout(0.3),\n",
        "            nn.Linear(512, num_labels)\n",
        "        )\n",
        "\n",
        "    def forward(self, input_ids, attention_mask, labels=None): # тут посмотреть\n",
        "        outputs = self.bert(input_ids=input_ids, attention_mask=attention_mask)\n",
        "        cls_output = outputs.pooler_output\n",
        "        logits = self.classifier(cls_output)\n",
        "\n",
        "        if labels is not None:\n",
        "            loss_fct = FocalLoss(gamma=1.0, alpha=alpha3)\n",
        "            loss = loss_fct(logits, labels)\n",
        "            return loss, logits\n",
        "        return logits"
      ]
    },
    {
      "cell_type": "code",
      "execution_count": 12,
      "metadata": {
        "id": "APTxk6VNnxNa",
        "colab": {
          "base_uri": "https://localhost:8080/",
          "height": 297,
          "referenced_widgets": [
            "d09b7932111a4430a16b36ac92f234db",
            "1b211b26cd454daca3e94f595d66570b",
            "ea02064443d342dcbacfc1ca19ec908a",
            "283818282a7445fbbc2889b3043af124",
            "5b14922aaf2d4a6a8c3bb3c8c785185d",
            "593682c05e314e3a85ce411f1094b966",
            "f0f033fe47f847a786ed0194144058cd",
            "f0024bc213054b64ba13be1a66ddba9a",
            "4592ddee3819447ca541c98db92aa220",
            "d86f4d0a8f8d483296b90b20c207f277",
            "3c07759d5c0148ec9e3ce06b3e889241",
            "fb5200d6df904fc5bcdd3cc64232f4d5",
            "f5d2f462033a4b0ebd62536c94def45c",
            "820c58f204d34cb5975b928a0221345e",
            "92a8f2c0f30f411c8aef4b1643de8470",
            "a46e276459854a18991a260f62fe4920",
            "5e5734b4abf94677ace98587db0dd8ea",
            "d50939d7b9b942a1bee1a55fa54ad161",
            "acc697a014f443f5903b338e0112dec1",
            "0cc844d24fd94cbfbc32dd8fff069f9c",
            "c26c3317f6924d7abe50200be89e8528",
            "09549ba50d064153b33737932bdbc5f2"
          ]
        },
        "outputId": "8ca52af0-86b4-4427-ff09-9595e3ba6bf6"
      },
      "outputs": [
        {
          "output_type": "stream",
          "name": "stderr",
          "text": [
            "/usr/local/lib/python3.10/dist-packages/huggingface_hub/utils/_token.py:89: UserWarning: \n",
            "The secret `HF_TOKEN` does not exist in your Colab secrets.\n",
            "To authenticate with the Hugging Face Hub, create a token in your settings tab (https://huggingface.co/settings/tokens), set it as secret in your Google Colab and restart your session.\n",
            "You will be able to reuse this secret in all of your notebooks.\n",
            "Please note that authentication is recommended but still optional to access public models or datasets.\n",
            "  warnings.warn(\n"
          ]
        },
        {
          "output_type": "display_data",
          "data": {
            "text/plain": [
              "config.json:   0%|          | 0.00/715 [00:00<?, ?B/s]"
            ],
            "application/vnd.jupyter.widget-view+json": {
              "version_major": 2,
              "version_minor": 0,
              "model_id": "d09b7932111a4430a16b36ac92f234db"
            }
          },
          "metadata": {}
        },
        {
          "output_type": "display_data",
          "data": {
            "text/plain": [
              "model.safetensors:   0%|          | 0.00/1.61G [00:00<?, ?B/s]"
            ],
            "application/vnd.jupyter.widget-view+json": {
              "version_major": 2,
              "version_minor": 0,
              "model_id": "fb5200d6df904fc5bcdd3cc64232f4d5"
            }
          },
          "metadata": {}
        },
        {
          "output_type": "stream",
          "name": "stderr",
          "text": [
            "Some weights of RobertaModel were not initialized from the model checkpoint at ai-forever/ru-en-RoSBERTa and are newly initialized: ['pooler.dense.bias', 'pooler.dense.weight']\n",
            "You should probably TRAIN this model on a down-stream task to be able to use it for predictions and inference.\n",
            "<ipython-input-12-67c6516cd664>:11: FutureWarning: You are using `torch.load` with `weights_only=False` (the current default value), which uses the default pickle module implicitly. It is possible to construct malicious pickle data which will execute arbitrary code during unpickling (See https://github.com/pytorch/pytorch/blob/main/SECURITY.md#untrusted-models for more details). In a future release, the default value for `weights_only` will be flipped to `True`. This limits the functions that could be executed during unpickling. Arbitrary objects will no longer be allowed to be loaded via this mode unless they are explicitly allowlisted by the user via `torch.serialization.add_safe_globals`. We recommend you start setting `weights_only=True` for any use case where you don't have full control of the loaded file. Please open an issue on GitHub for any issues related to this experimental feature.\n",
            "  model.load_state_dict(torch.load(model_load_path, map_location=device))\n"
          ]
        },
        {
          "output_type": "execute_result",
          "data": {
            "text/plain": [
              "<All keys matched successfully>"
            ]
          },
          "metadata": {},
          "execution_count": 12
        }
      ],
      "source": [
        "from torch.utils.data import DataLoader\n",
        "from transformers import AdamW\n",
        "from torch.optim.lr_scheduler import ReduceLROnPlateau\n",
        "from torch.optim.lr_scheduler import LambdaLR\n",
        "\n",
        "\n",
        "device = torch.device('cuda') if torch.cuda.is_available() else torch.device('cpu')\n",
        "model = EmojiClassifier2(num_labels=len(df['emoji'].unique()), alpha=alpha3).to(device)\n",
        "\n",
        "model_load_path = '/content/drive/MyDrive/model32lora2024-10-05_14:16:56.pth'\n",
        "model.load_state_dict(torch.load(model_load_path, map_location=device))"
      ]
    },
    {
      "cell_type": "code",
      "source": [
        "model.eval()\n",
        "\n",
        "with torch.no_grad():\n",
        "    last_linear_layer = model.classifier[-1]\n",
        "    label_embeddings = last_linear_layer.weight.detach()  # [num_labels, 512]\n",
        "\n",
        "label_embeddings.shape"
      ],
      "metadata": {
        "colab": {
          "base_uri": "https://localhost:8080/"
        },
        "id": "LiC3KsXzFaii",
        "outputId": "b9ccb003-17ef-4fc3-e3a5-e65e1b47322f"
      },
      "execution_count": 13,
      "outputs": [
        {
          "output_type": "execute_result",
          "data": {
            "text/plain": [
              "torch.Size([62, 512])"
            ]
          },
          "metadata": {},
          "execution_count": 13
        }
      ]
    },
    {
      "cell_type": "code",
      "source": [
        "!pip install plotly"
      ],
      "metadata": {
        "colab": {
          "base_uri": "https://localhost:8080/"
        },
        "id": "-hZokyLua6tS",
        "outputId": "5c695b84-5181-4a83-9107-4c2413986d7d"
      },
      "execution_count": 28,
      "outputs": [
        {
          "output_type": "stream",
          "name": "stdout",
          "text": [
            "Requirement already satisfied: plotly in /usr/local/lib/python3.10/dist-packages (5.24.1)\n",
            "Requirement already satisfied: tenacity>=6.2.0 in /usr/local/lib/python3.10/dist-packages (from plotly) (9.0.0)\n",
            "Requirement already satisfied: packaging in /usr/local/lib/python3.10/dist-packages (from plotly) (24.1)\n"
          ]
        }
      ]
    },
    {
      "cell_type": "code",
      "source": [
        "import numpy as np\n",
        "import plotly.graph_objects as go\n",
        "from sklearn.manifold import TSNE\n",
        "from sklearn.cluster import KMeans\n",
        "\n",
        "label_embeddings_cpu = label_embeddings.cpu()\n",
        "\n",
        "tsne = TSNE(n_components=2, random_state=42)\n",
        "embeddings_2d = tsne.fit_transform(label_embeddings_cpu)\n",
        "\n",
        "num_clusters = 10\n",
        "kmeans = KMeans(n_clusters=num_clusters, random_state=42)\n",
        "clusters = kmeans.fit_predict(label_embeddings_cpu)\n",
        "\n",
        "fig = go.Figure()\n",
        "\n",
        "for i in range(num_labels):\n",
        "    emoji = num_to_emoji(i)\n",
        "    fig.add_trace(go.Scatter(\n",
        "        x=[embeddings_2d[i, 0]],\n",
        "        y=[embeddings_2d[i, 1]],\n",
        "        text=[emoji],\n",
        "        mode='text',\n",
        "        textfont=dict(size=14),\n",
        "        hoverinfo='text',\n",
        "        marker=dict(color=clusters[i], showscale=True)\n",
        "    ))\n",
        "\n",
        "fig.update_layout(\n",
        "    title=\"t-SNE visualization of label embeddings with KMeans clustering\",\n",
        "    xaxis_title=\"t-SNE component 1\",\n",
        "    yaxis_title=\"t-SNE component 2\",\n",
        "    showlegend=False\n",
        ")\n",
        "\n",
        "fig.show()"
      ],
      "metadata": {
        "colab": {
          "base_uri": "https://localhost:8080/",
          "height": 542
        },
        "id": "Rsh3ae3SdReH",
        "outputId": "9bdfd2b5-4970-4f4d-f1e1-e97409641066"
      },
      "execution_count": 35,
      "outputs": [
        {
          "output_type": "display_data",
          "data": {
            "text/html": [
              "<html>\n",
              "<head><meta charset=\"utf-8\" /></head>\n",
              "<body>\n",
              "    <div>            <script src=\"https://cdnjs.cloudflare.com/ajax/libs/mathjax/2.7.5/MathJax.js?config=TeX-AMS-MML_SVG\"></script><script type=\"text/javascript\">if (window.MathJax && window.MathJax.Hub && window.MathJax.Hub.Config) {window.MathJax.Hub.Config({SVG: {font: \"STIX-Web\"}});}</script>                <script type=\"text/javascript\">window.PlotlyConfig = {MathJaxConfig: 'local'};</script>\n",
              "        <script charset=\"utf-8\" src=\"https://cdn.plot.ly/plotly-2.35.2.min.js\"></script>                <div id=\"559a37e3-2265-4e4a-9ef6-4851acbfd942\" class=\"plotly-graph-div\" style=\"height:525px; width:100%;\"></div>            <script type=\"text/javascript\">                                    window.PLOTLYENV=window.PLOTLYENV || {};                                    if (document.getElementById(\"559a37e3-2265-4e4a-9ef6-4851acbfd942\")) {                    Plotly.newPlot(                        \"559a37e3-2265-4e4a-9ef6-4851acbfd942\",                        [{\"hoverinfo\":\"text\",\"marker\":{\"color\":5,\"showscale\":true},\"mode\":\"text\",\"text\":[\"\\u2764\"],\"textfont\":{\"size\":14},\"x\":[3.1946353912353516],\"y\":[6.155750751495361],\"type\":\"scatter\"},{\"hoverinfo\":\"text\",\"marker\":{\"color\":0,\"showscale\":true},\"mode\":\"text\",\"text\":[\"\\ud83d\\ude0e\"],\"textfont\":{\"size\":14},\"x\":[6.561393737792969],\"y\":[5.662619590759277],\"type\":\"scatter\"},{\"hoverinfo\":\"text\",\"marker\":{\"color\":8,\"showscale\":true},\"mode\":\"text\",\"text\":[\"\\ud83e\\udd14\"],\"textfont\":{\"size\":14},\"x\":[8.644608497619629],\"y\":[4.657361030578613],\"type\":\"scatter\"},{\"hoverinfo\":\"text\",\"marker\":{\"color\":4,\"showscale\":true},\"mode\":\"text\",\"text\":[\"\\ud83d\\ude33\"],\"textfont\":{\"size\":14},\"x\":[8.157029151916504],\"y\":[3.044828414916992],\"type\":\"scatter\"},{\"hoverinfo\":\"text\",\"marker\":{\"color\":6,\"showscale\":true},\"mode\":\"text\",\"text\":[\"\\ud83d\\ude0a\"],\"textfont\":{\"size\":14},\"x\":[5.0398688316345215],\"y\":[5.768331527709961],\"type\":\"scatter\"},{\"hoverinfo\":\"text\",\"marker\":{\"color\":7,\"showscale\":true},\"mode\":\"text\",\"text\":[\"\\ud83e\\udd7a\"],\"textfont\":{\"size\":14},\"x\":[4.269737243652344],\"y\":[2.7596216201782227],\"type\":\"scatter\"},{\"hoverinfo\":\"text\",\"marker\":{\"color\":0,\"showscale\":true},\"mode\":\"text\",\"text\":[\"\\ud83d\\ude02\"],\"textfont\":{\"size\":14},\"x\":[6.802546501159668],\"y\":[3.605369806289673],\"type\":\"scatter\"},{\"hoverinfo\":\"text\",\"marker\":{\"color\":0,\"showscale\":true},\"mode\":\"text\",\"text\":[\"\\ud83d\\ude01\"],\"textfont\":{\"size\":14},\"x\":[6.239633083343506],\"y\":[4.2166972160339355],\"type\":\"scatter\"},{\"hoverinfo\":\"text\",\"marker\":{\"color\":6,\"showscale\":true},\"mode\":\"text\",\"text\":[\"\\ud83d\\udd25\"],\"textfont\":{\"size\":14},\"x\":[4.042757987976074],\"y\":[6.367795467376709],\"type\":\"scatter\"},{\"hoverinfo\":\"text\",\"marker\":{\"color\":2,\"showscale\":true},\"mode\":\"text\",\"text\":[\"\\ud83d\\ude4c\"],\"textfont\":{\"size\":14},\"x\":[4.757198333740234],\"y\":[7.118653774261475],\"type\":\"scatter\"},{\"hoverinfo\":\"text\",\"marker\":{\"color\":0,\"showscale\":true},\"mode\":\"text\",\"text\":[\"\\ud83d\\ude06\"],\"textfont\":{\"size\":14},\"x\":[6.920307159423828],\"y\":[3.7710742950439453],\"type\":\"scatter\"},{\"hoverinfo\":\"text\",\"marker\":{\"color\":0,\"showscale\":true},\"mode\":\"text\",\"text\":[\"\\ud83d\\ude05\"],\"textfont\":{\"size\":14},\"x\":[6.212802886962891],\"y\":[3.859854221343994],\"type\":\"scatter\"},{\"hoverinfo\":\"text\",\"marker\":{\"color\":6,\"showscale\":true},\"mode\":\"text\",\"text\":[\"\\u263a\"],\"textfont\":{\"size\":14},\"x\":[4.831932067871094],\"y\":[5.615882873535156],\"type\":\"scatter\"},{\"hoverinfo\":\"text\",\"marker\":{\"color\":4,\"showscale\":true},\"mode\":\"text\",\"text\":[\"\\ud83e\\udd26\"],\"textfont\":{\"size\":14},\"x\":[7.219810485839844],\"y\":[2.3146796226501465],\"type\":\"scatter\"},{\"hoverinfo\":\"text\",\"marker\":{\"color\":4,\"showscale\":true},\"mode\":\"text\",\"text\":[\"\\ud83d\\ude44\"],\"textfont\":{\"size\":14},\"x\":[7.064090251922607],\"y\":[2.402362585067749],\"type\":\"scatter\"},{\"hoverinfo\":\"text\",\"marker\":{\"color\":5,\"showscale\":true},\"mode\":\"text\",\"text\":[\"\\ud83d\\ude4f\"],\"textfont\":{\"size\":14},\"x\":[4.218709468841553],\"y\":[8.20821475982666],\"type\":\"scatter\"},{\"hoverinfo\":\"text\",\"marker\":{\"color\":0,\"showscale\":true},\"mode\":\"text\",\"text\":[\"\\ud83d\\ude09\"],\"textfont\":{\"size\":14},\"x\":[6.0887250900268555],\"y\":[5.510077476501465],\"type\":\"scatter\"},{\"hoverinfo\":\"text\",\"marker\":{\"color\":6,\"showscale\":true},\"mode\":\"text\",\"text\":[\"\\u2728\"],\"textfont\":{\"size\":14},\"x\":[3.6573238372802734],\"y\":[6.6701178550720215],\"type\":\"scatter\"},{\"hoverinfo\":\"text\",\"marker\":{\"color\":0,\"showscale\":true},\"mode\":\"text\",\"text\":[\"\\ud83d\\ude04\"],\"textfont\":{\"size\":14},\"x\":[6.302348613739014],\"y\":[4.519307613372803],\"type\":\"scatter\"},{\"hoverinfo\":\"text\",\"marker\":{\"color\":0,\"showscale\":true},\"mode\":\"text\",\"text\":[\"\\ud83d\\ude48\"],\"textfont\":{\"size\":14},\"x\":[6.487405300140381],\"y\":[2.883653402328491],\"type\":\"scatter\"},{\"hoverinfo\":\"text\",\"marker\":{\"color\":6,\"showscale\":true},\"mode\":\"text\",\"text\":[\"\\ud83d\\ude0d\"],\"textfont\":{\"size\":14},\"x\":[3.4698917865753174],\"y\":[5.0876688957214355],\"type\":\"scatter\"},{\"hoverinfo\":\"text\",\"marker\":{\"color\":2,\"showscale\":true},\"mode\":\"text\",\"text\":[\"\\ud83d\\udc4d\"],\"textfont\":{\"size\":14},\"x\":[4.885283946990967],\"y\":[6.589150905609131],\"type\":\"scatter\"},{\"hoverinfo\":\"text\",\"marker\":{\"color\":6,\"showscale\":true},\"mode\":\"text\",\"text\":[\"\\ud83e\\udd17\"],\"textfont\":{\"size\":14},\"x\":[4.539702415466309],\"y\":[5.854876518249512],\"type\":\"scatter\"},{\"hoverinfo\":\"text\",\"marker\":{\"color\":0,\"showscale\":true},\"mode\":\"text\",\"text\":[\"\\ud83d\\ude00\"],\"textfont\":{\"size\":14},\"x\":[6.162808418273926],\"y\":[4.357033729553223],\"type\":\"scatter\"},{\"hoverinfo\":\"text\",\"marker\":{\"color\":6,\"showscale\":true},\"mode\":\"text\",\"text\":[\"\\ud83e\\udd70\"],\"textfont\":{\"size\":14},\"x\":[3.6916849613189697],\"y\":[5.424623012542725],\"type\":\"scatter\"},{\"hoverinfo\":\"text\",\"marker\":{\"color\":6,\"showscale\":true},\"mode\":\"text\",\"text\":[\"\\ud83d\\ude18\"],\"textfont\":{\"size\":14},\"x\":[2.418644905090332],\"y\":[5.575741767883301],\"type\":\"scatter\"},{\"hoverinfo\":\"text\",\"marker\":{\"color\":2,\"showscale\":true},\"mode\":\"text\",\"text\":[\"\\ud83d\\ude0c\"],\"textfont\":{\"size\":14},\"x\":[5.448645114898682],\"y\":[6.519452095031738],\"type\":\"scatter\"},{\"hoverinfo\":\"text\",\"marker\":{\"color\":0,\"showscale\":true},\"mode\":\"text\",\"text\":[\"\\ud83d\\ude03\"],\"textfont\":{\"size\":14},\"x\":[5.765188217163086],\"y\":[4.147284030914307],\"type\":\"scatter\"},{\"hoverinfo\":\"text\",\"marker\":{\"color\":5,\"showscale\":true},\"mode\":\"text\",\"text\":[\"\\ud83e\\udef6\"],\"textfont\":{\"size\":14},\"x\":[3.2130825519561768],\"y\":[6.267513275146484],\"type\":\"scatter\"},{\"hoverinfo\":\"text\",\"marker\":{\"color\":6,\"showscale\":true},\"mode\":\"text\",\"text\":[\"\\ud83c\\udf89\"],\"textfont\":{\"size\":14},\"x\":[1.9040288925170898],\"y\":[7.507929801940918],\"type\":\"scatter\"},{\"hoverinfo\":\"text\",\"marker\":{\"color\":0,\"showscale\":true},\"mode\":\"text\",\"text\":[\"\\ud83d\\ude42\"],\"textfont\":{\"size\":14},\"x\":[5.326455593109131],\"y\":[5.353153705596924],\"type\":\"scatter\"},{\"hoverinfo\":\"text\",\"marker\":{\"color\":5,\"showscale\":true},\"mode\":\"text\",\"text\":[\"\\ud83e\\udd0d\"],\"textfont\":{\"size\":14},\"x\":[2.8387622833251953],\"y\":[6.384943962097168],\"type\":\"scatter\"},{\"hoverinfo\":\"text\",\"marker\":{\"color\":6,\"showscale\":true},\"mode\":\"text\",\"text\":[\"\\ud83e\\udd29\"],\"textfont\":{\"size\":14},\"x\":[3.663896083831787],\"y\":[5.020285129547119],\"type\":\"scatter\"},{\"hoverinfo\":\"text\",\"marker\":{\"color\":5,\"showscale\":true},\"mode\":\"text\",\"text\":[\"\\ud83e\\udd1d\"],\"textfont\":{\"size\":14},\"x\":[5.075715065002441],\"y\":[7.8247504234313965],\"type\":\"scatter\"},{\"hoverinfo\":\"text\",\"marker\":{\"color\":7,\"showscale\":true},\"mode\":\"text\",\"text\":[\"\\ud83e\\udd72\"],\"textfont\":{\"size\":14},\"x\":[5.01903772354126],\"y\":[2.139737129211426],\"type\":\"scatter\"},{\"hoverinfo\":\"text\",\"marker\":{\"color\":0,\"showscale\":true},\"mode\":\"text\",\"text\":[\"\\ud83e\\udd23\"],\"textfont\":{\"size\":14},\"x\":[6.934810638427734],\"y\":[3.4582784175872803],\"type\":\"scatter\"},{\"hoverinfo\":\"text\",\"marker\":{\"color\":1,\"showscale\":true},\"mode\":\"text\",\"text\":[\"\\ud83d\\ude12\"],\"textfont\":{\"size\":14},\"x\":[5.962405204772949],\"y\":[1.7043347358703613],\"type\":\"scatter\"},{\"hoverinfo\":\"text\",\"marker\":{\"color\":8,\"showscale\":true},\"mode\":\"text\",\"text\":[\"\\ud83e\\uddd0\"],\"textfont\":{\"size\":14},\"x\":[8.640758514404297],\"y\":[4.664378643035889],\"type\":\"scatter\"},{\"hoverinfo\":\"text\",\"marker\":{\"color\":7,\"showscale\":true},\"mode\":\"text\",\"text\":[\"\\ud83e\\udd79\"],\"textfont\":{\"size\":14},\"x\":[4.282058238983154],\"y\":[3.152690887451172],\"type\":\"scatter\"},{\"hoverinfo\":\"text\",\"marker\":{\"color\":1,\"showscale\":true},\"mode\":\"text\",\"text\":[\"\\ud83d\\ude14\"],\"textfont\":{\"size\":14},\"x\":[5.1458539962768555],\"y\":[1.485685110092163],\"type\":\"scatter\"},{\"hoverinfo\":\"text\",\"marker\":{\"color\":2,\"showscale\":true},\"mode\":\"text\",\"text\":[\"\\ud83d\\udc4c\"],\"textfont\":{\"size\":14},\"x\":[5.331386566162109],\"y\":[7.0456085205078125],\"type\":\"scatter\"},{\"hoverinfo\":\"text\",\"marker\":{\"color\":7,\"showscale\":true},\"mode\":\"text\",\"text\":[\"\\ud83d\\ude2d\"],\"textfont\":{\"size\":14},\"x\":[4.754235744476318],\"y\":[2.02230167388916],\"type\":\"scatter\"},{\"hoverinfo\":\"text\",\"marker\":{\"color\":2,\"showscale\":true},\"mode\":\"text\",\"text\":[\"\\ud83d\\udcaa\"],\"textfont\":{\"size\":14},\"x\":[6.093680381774902],\"y\":[7.656356334686279],\"type\":\"scatter\"},{\"hoverinfo\":\"text\",\"marker\":{\"color\":0,\"showscale\":true},\"mode\":\"text\",\"text\":[\"\\ud83d\\ude0f\"],\"textfont\":{\"size\":14},\"x\":[7.089988708496094],\"y\":[5.010833740234375],\"type\":\"scatter\"},{\"hoverinfo\":\"text\",\"marker\":{\"color\":0,\"showscale\":true},\"mode\":\"text\",\"text\":[\"\\ud83e\\udd2a\"],\"textfont\":{\"size\":14},\"x\":[6.52440881729126],\"y\":[3.0536844730377197],\"type\":\"scatter\"},{\"hoverinfo\":\"text\",\"marker\":{\"color\":0,\"showscale\":true},\"mode\":\"text\",\"text\":[\"\\ud83e\\udd37\"],\"textfont\":{\"size\":14},\"x\":[8.009692192077637],\"y\":[1.900136947631836],\"type\":\"scatter\"},{\"hoverinfo\":\"text\",\"marker\":{\"color\":6,\"showscale\":true},\"mode\":\"text\",\"text\":[\"\\ud83e\\udd73\"],\"textfont\":{\"size\":14},\"x\":[1.9176274538040161],\"y\":[7.505153656005859],\"type\":\"scatter\"},{\"hoverinfo\":\"text\",\"marker\":{\"color\":5,\"showscale\":true},\"mode\":\"text\",\"text\":[\"\\ud83d\\udc8b\"],\"textfont\":{\"size\":14},\"x\":[2.011528253555298],\"y\":[5.728757381439209],\"type\":\"scatter\"},{\"hoverinfo\":\"text\",\"marker\":{\"color\":4,\"showscale\":true},\"mode\":\"text\",\"text\":[\"\\ud83e\\udd21\"],\"textfont\":{\"size\":14},\"x\":[7.182552337646484],\"y\":[1.6806195974349976],\"type\":\"scatter\"},{\"hoverinfo\":\"text\",\"marker\":{\"color\":5,\"showscale\":true},\"mode\":\"text\",\"text\":[\"\\ud83d\\udc9a\"],\"textfont\":{\"size\":14},\"x\":[3.8674068450927734],\"y\":[7.37194299697876],\"type\":\"scatter\"},{\"hoverinfo\":\"text\",\"marker\":{\"color\":9,\"showscale\":true},\"mode\":\"text\",\"text\":[\"\\ud83d\\ude07\"],\"textfont\":{\"size\":14},\"x\":[4.72293758392334],\"y\":[5.095999240875244],\"type\":\"scatter\"},{\"hoverinfo\":\"text\",\"marker\":{\"color\":9,\"showscale\":true},\"mode\":\"text\",\"text\":[\"\\ud83d\\ude43\"],\"textfont\":{\"size\":14},\"x\":[5.563960552215576],\"y\":[4.539459705352783],\"type\":\"scatter\"},{\"hoverinfo\":\"text\",\"marker\":{\"color\":4,\"showscale\":true},\"mode\":\"text\",\"text\":[\"\\ud83d\\ude31\"],\"textfont\":{\"size\":14},\"x\":[8.359620094299316],\"y\":[2.96091365814209],\"type\":\"scatter\"},{\"hoverinfo\":\"text\",\"marker\":{\"color\":0,\"showscale\":true},\"mode\":\"text\",\"text\":[\"\\ud83e\\udd2d\"],\"textfont\":{\"size\":14},\"x\":[6.603204250335693],\"y\":[4.398630619049072],\"type\":\"scatter\"},{\"hoverinfo\":\"text\",\"marker\":{\"color\":9,\"showscale\":true},\"mode\":\"text\",\"text\":[\"\\ud83d\\udc40\"],\"textfont\":{\"size\":14},\"x\":[6.642635345458984],\"y\":[6.38978385925293],\"type\":\"scatter\"},{\"hoverinfo\":\"text\",\"marker\":{\"color\":1,\"showscale\":true},\"mode\":\"text\",\"text\":[\"\\ud83d\\ude22\"],\"textfont\":{\"size\":14},\"x\":[5.150182247161865],\"y\":[1.6860274076461792],\"type\":\"scatter\"},{\"hoverinfo\":\"text\",\"marker\":{\"color\":9,\"showscale\":true},\"mode\":\"text\",\"text\":[\"\\ud83c\\udf1a\"],\"textfont\":{\"size\":14},\"x\":[5.326688289642334],\"y\":[3.5778439044952393],\"type\":\"scatter\"},{\"hoverinfo\":\"text\",\"marker\":{\"color\":2,\"showscale\":true},\"mode\":\"text\",\"text\":[\"\\u261d\"],\"textfont\":{\"size\":14},\"x\":[7.617331504821777],\"y\":[6.353573322296143],\"type\":\"scatter\"},{\"hoverinfo\":\"text\",\"marker\":{\"color\":0,\"showscale\":true},\"mode\":\"text\",\"text\":[\"\\ud83d\\ude1c\"],\"textfont\":{\"size\":14},\"x\":[7.0942702293396],\"y\":[4.341050148010254],\"type\":\"scatter\"},{\"hoverinfo\":\"text\",\"marker\":{\"color\":3,\"showscale\":true},\"mode\":\"text\",\"text\":[\"\\ud83d\\ude0b\"],\"textfont\":{\"size\":14},\"x\":[2.7760300636291504],\"y\":[4.137673377990723],\"type\":\"scatter\"},{\"hoverinfo\":\"text\",\"marker\":{\"color\":3,\"showscale\":true},\"mode\":\"text\",\"text\":[\"\\ud83e\\udd24\"],\"textfont\":{\"size\":14},\"x\":[2.7505407333374023],\"y\":[4.0963640213012695],\"type\":\"scatter\"},{\"hoverinfo\":\"text\",\"marker\":{\"color\":4,\"showscale\":true},\"mode\":\"text\",\"text\":[\"\\ud83d\\ude21\"],\"textfont\":{\"size\":14},\"x\":[6.767984867095947],\"y\":[1.170318841934204],\"type\":\"scatter\"}],                        {\"template\":{\"data\":{\"histogram2dcontour\":[{\"type\":\"histogram2dcontour\",\"colorbar\":{\"outlinewidth\":0,\"ticks\":\"\"},\"colorscale\":[[0.0,\"#0d0887\"],[0.1111111111111111,\"#46039f\"],[0.2222222222222222,\"#7201a8\"],[0.3333333333333333,\"#9c179e\"],[0.4444444444444444,\"#bd3786\"],[0.5555555555555556,\"#d8576b\"],[0.6666666666666666,\"#ed7953\"],[0.7777777777777778,\"#fb9f3a\"],[0.8888888888888888,\"#fdca26\"],[1.0,\"#f0f921\"]]}],\"choropleth\":[{\"type\":\"choropleth\",\"colorbar\":{\"outlinewidth\":0,\"ticks\":\"\"}}],\"histogram2d\":[{\"type\":\"histogram2d\",\"colorbar\":{\"outlinewidth\":0,\"ticks\":\"\"},\"colorscale\":[[0.0,\"#0d0887\"],[0.1111111111111111,\"#46039f\"],[0.2222222222222222,\"#7201a8\"],[0.3333333333333333,\"#9c179e\"],[0.4444444444444444,\"#bd3786\"],[0.5555555555555556,\"#d8576b\"],[0.6666666666666666,\"#ed7953\"],[0.7777777777777778,\"#fb9f3a\"],[0.8888888888888888,\"#fdca26\"],[1.0,\"#f0f921\"]]}],\"heatmap\":[{\"type\":\"heatmap\",\"colorbar\":{\"outlinewidth\":0,\"ticks\":\"\"},\"colorscale\":[[0.0,\"#0d0887\"],[0.1111111111111111,\"#46039f\"],[0.2222222222222222,\"#7201a8\"],[0.3333333333333333,\"#9c179e\"],[0.4444444444444444,\"#bd3786\"],[0.5555555555555556,\"#d8576b\"],[0.6666666666666666,\"#ed7953\"],[0.7777777777777778,\"#fb9f3a\"],[0.8888888888888888,\"#fdca26\"],[1.0,\"#f0f921\"]]}],\"heatmapgl\":[{\"type\":\"heatmapgl\",\"colorbar\":{\"outlinewidth\":0,\"ticks\":\"\"},\"colorscale\":[[0.0,\"#0d0887\"],[0.1111111111111111,\"#46039f\"],[0.2222222222222222,\"#7201a8\"],[0.3333333333333333,\"#9c179e\"],[0.4444444444444444,\"#bd3786\"],[0.5555555555555556,\"#d8576b\"],[0.6666666666666666,\"#ed7953\"],[0.7777777777777778,\"#fb9f3a\"],[0.8888888888888888,\"#fdca26\"],[1.0,\"#f0f921\"]]}],\"contourcarpet\":[{\"type\":\"contourcarpet\",\"colorbar\":{\"outlinewidth\":0,\"ticks\":\"\"}}],\"contour\":[{\"type\":\"contour\",\"colorbar\":{\"outlinewidth\":0,\"ticks\":\"\"},\"colorscale\":[[0.0,\"#0d0887\"],[0.1111111111111111,\"#46039f\"],[0.2222222222222222,\"#7201a8\"],[0.3333333333333333,\"#9c179e\"],[0.4444444444444444,\"#bd3786\"],[0.5555555555555556,\"#d8576b\"],[0.6666666666666666,\"#ed7953\"],[0.7777777777777778,\"#fb9f3a\"],[0.8888888888888888,\"#fdca26\"],[1.0,\"#f0f921\"]]}],\"surface\":[{\"type\":\"surface\",\"colorbar\":{\"outlinewidth\":0,\"ticks\":\"\"},\"colorscale\":[[0.0,\"#0d0887\"],[0.1111111111111111,\"#46039f\"],[0.2222222222222222,\"#7201a8\"],[0.3333333333333333,\"#9c179e\"],[0.4444444444444444,\"#bd3786\"],[0.5555555555555556,\"#d8576b\"],[0.6666666666666666,\"#ed7953\"],[0.7777777777777778,\"#fb9f3a\"],[0.8888888888888888,\"#fdca26\"],[1.0,\"#f0f921\"]]}],\"mesh3d\":[{\"type\":\"mesh3d\",\"colorbar\":{\"outlinewidth\":0,\"ticks\":\"\"}}],\"scatter\":[{\"fillpattern\":{\"fillmode\":\"overlay\",\"size\":10,\"solidity\":0.2},\"type\":\"scatter\"}],\"parcoords\":[{\"type\":\"parcoords\",\"line\":{\"colorbar\":{\"outlinewidth\":0,\"ticks\":\"\"}}}],\"scatterpolargl\":[{\"type\":\"scatterpolargl\",\"marker\":{\"colorbar\":{\"outlinewidth\":0,\"ticks\":\"\"}}}],\"bar\":[{\"error_x\":{\"color\":\"#2a3f5f\"},\"error_y\":{\"color\":\"#2a3f5f\"},\"marker\":{\"line\":{\"color\":\"#E5ECF6\",\"width\":0.5},\"pattern\":{\"fillmode\":\"overlay\",\"size\":10,\"solidity\":0.2}},\"type\":\"bar\"}],\"scattergeo\":[{\"type\":\"scattergeo\",\"marker\":{\"colorbar\":{\"outlinewidth\":0,\"ticks\":\"\"}}}],\"scatterpolar\":[{\"type\":\"scatterpolar\",\"marker\":{\"colorbar\":{\"outlinewidth\":0,\"ticks\":\"\"}}}],\"histogram\":[{\"marker\":{\"pattern\":{\"fillmode\":\"overlay\",\"size\":10,\"solidity\":0.2}},\"type\":\"histogram\"}],\"scattergl\":[{\"type\":\"scattergl\",\"marker\":{\"colorbar\":{\"outlinewidth\":0,\"ticks\":\"\"}}}],\"scatter3d\":[{\"type\":\"scatter3d\",\"line\":{\"colorbar\":{\"outlinewidth\":0,\"ticks\":\"\"}},\"marker\":{\"colorbar\":{\"outlinewidth\":0,\"ticks\":\"\"}}}],\"scattermapbox\":[{\"type\":\"scattermapbox\",\"marker\":{\"colorbar\":{\"outlinewidth\":0,\"ticks\":\"\"}}}],\"scatterternary\":[{\"type\":\"scatterternary\",\"marker\":{\"colorbar\":{\"outlinewidth\":0,\"ticks\":\"\"}}}],\"scattercarpet\":[{\"type\":\"scattercarpet\",\"marker\":{\"colorbar\":{\"outlinewidth\":0,\"ticks\":\"\"}}}],\"carpet\":[{\"aaxis\":{\"endlinecolor\":\"#2a3f5f\",\"gridcolor\":\"white\",\"linecolor\":\"white\",\"minorgridcolor\":\"white\",\"startlinecolor\":\"#2a3f5f\"},\"baxis\":{\"endlinecolor\":\"#2a3f5f\",\"gridcolor\":\"white\",\"linecolor\":\"white\",\"minorgridcolor\":\"white\",\"startlinecolor\":\"#2a3f5f\"},\"type\":\"carpet\"}],\"table\":[{\"cells\":{\"fill\":{\"color\":\"#EBF0F8\"},\"line\":{\"color\":\"white\"}},\"header\":{\"fill\":{\"color\":\"#C8D4E3\"},\"line\":{\"color\":\"white\"}},\"type\":\"table\"}],\"barpolar\":[{\"marker\":{\"line\":{\"color\":\"#E5ECF6\",\"width\":0.5},\"pattern\":{\"fillmode\":\"overlay\",\"size\":10,\"solidity\":0.2}},\"type\":\"barpolar\"}],\"pie\":[{\"automargin\":true,\"type\":\"pie\"}]},\"layout\":{\"autotypenumbers\":\"strict\",\"colorway\":[\"#636efa\",\"#EF553B\",\"#00cc96\",\"#ab63fa\",\"#FFA15A\",\"#19d3f3\",\"#FF6692\",\"#B6E880\",\"#FF97FF\",\"#FECB52\"],\"font\":{\"color\":\"#2a3f5f\"},\"hovermode\":\"closest\",\"hoverlabel\":{\"align\":\"left\"},\"paper_bgcolor\":\"white\",\"plot_bgcolor\":\"#E5ECF6\",\"polar\":{\"bgcolor\":\"#E5ECF6\",\"angularaxis\":{\"gridcolor\":\"white\",\"linecolor\":\"white\",\"ticks\":\"\"},\"radialaxis\":{\"gridcolor\":\"white\",\"linecolor\":\"white\",\"ticks\":\"\"}},\"ternary\":{\"bgcolor\":\"#E5ECF6\",\"aaxis\":{\"gridcolor\":\"white\",\"linecolor\":\"white\",\"ticks\":\"\"},\"baxis\":{\"gridcolor\":\"white\",\"linecolor\":\"white\",\"ticks\":\"\"},\"caxis\":{\"gridcolor\":\"white\",\"linecolor\":\"white\",\"ticks\":\"\"}},\"coloraxis\":{\"colorbar\":{\"outlinewidth\":0,\"ticks\":\"\"}},\"colorscale\":{\"sequential\":[[0.0,\"#0d0887\"],[0.1111111111111111,\"#46039f\"],[0.2222222222222222,\"#7201a8\"],[0.3333333333333333,\"#9c179e\"],[0.4444444444444444,\"#bd3786\"],[0.5555555555555556,\"#d8576b\"],[0.6666666666666666,\"#ed7953\"],[0.7777777777777778,\"#fb9f3a\"],[0.8888888888888888,\"#fdca26\"],[1.0,\"#f0f921\"]],\"sequentialminus\":[[0.0,\"#0d0887\"],[0.1111111111111111,\"#46039f\"],[0.2222222222222222,\"#7201a8\"],[0.3333333333333333,\"#9c179e\"],[0.4444444444444444,\"#bd3786\"],[0.5555555555555556,\"#d8576b\"],[0.6666666666666666,\"#ed7953\"],[0.7777777777777778,\"#fb9f3a\"],[0.8888888888888888,\"#fdca26\"],[1.0,\"#f0f921\"]],\"diverging\":[[0,\"#8e0152\"],[0.1,\"#c51b7d\"],[0.2,\"#de77ae\"],[0.3,\"#f1b6da\"],[0.4,\"#fde0ef\"],[0.5,\"#f7f7f7\"],[0.6,\"#e6f5d0\"],[0.7,\"#b8e186\"],[0.8,\"#7fbc41\"],[0.9,\"#4d9221\"],[1,\"#276419\"]]},\"xaxis\":{\"gridcolor\":\"white\",\"linecolor\":\"white\",\"ticks\":\"\",\"title\":{\"standoff\":15},\"zerolinecolor\":\"white\",\"automargin\":true,\"zerolinewidth\":2},\"yaxis\":{\"gridcolor\":\"white\",\"linecolor\":\"white\",\"ticks\":\"\",\"title\":{\"standoff\":15},\"zerolinecolor\":\"white\",\"automargin\":true,\"zerolinewidth\":2},\"scene\":{\"xaxis\":{\"backgroundcolor\":\"#E5ECF6\",\"gridcolor\":\"white\",\"linecolor\":\"white\",\"showbackground\":true,\"ticks\":\"\",\"zerolinecolor\":\"white\",\"gridwidth\":2},\"yaxis\":{\"backgroundcolor\":\"#E5ECF6\",\"gridcolor\":\"white\",\"linecolor\":\"white\",\"showbackground\":true,\"ticks\":\"\",\"zerolinecolor\":\"white\",\"gridwidth\":2},\"zaxis\":{\"backgroundcolor\":\"#E5ECF6\",\"gridcolor\":\"white\",\"linecolor\":\"white\",\"showbackground\":true,\"ticks\":\"\",\"zerolinecolor\":\"white\",\"gridwidth\":2}},\"shapedefaults\":{\"line\":{\"color\":\"#2a3f5f\"}},\"annotationdefaults\":{\"arrowcolor\":\"#2a3f5f\",\"arrowhead\":0,\"arrowwidth\":1},\"geo\":{\"bgcolor\":\"white\",\"landcolor\":\"#E5ECF6\",\"subunitcolor\":\"white\",\"showland\":true,\"showlakes\":true,\"lakecolor\":\"white\"},\"title\":{\"x\":0.05},\"mapbox\":{\"style\":\"light\"}}},\"title\":{\"text\":\"t-SNE visualization of label embeddings with KMeans clustering\"},\"xaxis\":{\"title\":{\"text\":\"t-SNE component 1\"}},\"yaxis\":{\"title\":{\"text\":\"t-SNE component 2\"}},\"showlegend\":false},                        {\"responsive\": true}                    ).then(function(){\n",
              "                            \n",
              "var gd = document.getElementById('559a37e3-2265-4e4a-9ef6-4851acbfd942');\n",
              "var x = new MutationObserver(function (mutations, observer) {{\n",
              "        var display = window.getComputedStyle(gd).display;\n",
              "        if (!display || display === 'none') {{\n",
              "            console.log([gd, 'removed!']);\n",
              "            Plotly.purge(gd);\n",
              "            observer.disconnect();\n",
              "        }}\n",
              "}});\n",
              "\n",
              "// Listen for the removal of the full notebook cells\n",
              "var notebookContainer = gd.closest('#notebook-container');\n",
              "if (notebookContainer) {{\n",
              "    x.observe(notebookContainer, {childList: true});\n",
              "}}\n",
              "\n",
              "// Listen for the clearing of the current output cell\n",
              "var outputEl = gd.closest('.output');\n",
              "if (outputEl) {{\n",
              "    x.observe(outputEl, {childList: true});\n",
              "}}\n",
              "\n",
              "                        })                };                            </script>        </div>\n",
              "</body>\n",
              "</html>"
            ]
          },
          "metadata": {}
        }
      ]
    },
    {
      "cell_type": "code",
      "source": [
        "\n",
        "num_clusters = 15\n",
        "kmeans = KMeans(n_clusters=num_clusters, random_state=42)\n",
        "clusters = kmeans.fit_predict(label_embeddings_cpu)\n",
        "\n",
        "list_index_cluster = []\n",
        "for i in range(num_clusters):\n",
        "  list_index_cluster.append([])\n",
        "for index, element in enumerate(clusters):\n",
        "  list_index_cluster[element].append(index)\n"
      ],
      "metadata": {
        "id": "iYRLofdPdmKG"
      },
      "execution_count": 62,
      "outputs": []
    },
    {
      "cell_type": "code",
      "source": [
        "for i in range(num_clusters):\n",
        "  res = [num_to_emoji(j) for j in list_index_cluster[i]]\n",
        "  if len(res) < 7 and len(res) > 1:\n",
        "    print(res)"
      ],
      "metadata": {
        "colab": {
          "base_uri": "https://localhost:8080/"
        },
        "id": "MM5nAJt0fgCp",
        "outputId": "05b66728-40eb-4bef-9687-e95024eae954"
      },
      "execution_count": 64,
      "outputs": [
        {
          "output_type": "stream",
          "name": "stdout",
          "text": [
            "['😒', '😔', '😢']\n",
            "['🙌', '👍', '😌', '👌', '💪']\n",
            "['😋', '🤤']\n",
            "['😳', '🤦', '🙄', '🤡', '😱', '😡']\n",
            "['❤', '🙏', '\\U0001faf6', '🤍', '💋']\n",
            "['🥺', '🥲', '\\U0001f979', '😭']\n",
            "['🤔', '🧐']\n",
            "['😇', '🙃', '👀', '🌚']\n",
            "['🎉', '🥳']\n",
            "['😂', '😁', '😆', '🤣', '🤪']\n"
          ]
        }
      ]
    },
    {
      "cell_type": "code",
      "source": [
        "import torch\n",
        "from transformers import AutoTokenizer\n",
        "\n",
        "tokenizer = AutoTokenizer.from_pretrained(\"ai-forever/ru-en-RoSBERTa\")\n",
        "\n",
        "text = [\"Здравствуйте, как ваши дела?\",\n",
        "        \"Послушай песню которую я сам сочинил\",\n",
        "        \"Знания Сила\",\n",
        "        \"по выходным сплю дома целый день\",\n",
        "        \"Сегодня сдал экзамен\",\n",
        "        \"Сегодня завалил зачет\",\n",
        "        \"Я забыл сегодня поздравить Никиту\",\n",
        "        \"У меня очень хорошее настроение\",\n",
        "        \"Давай выпьем пива вечером\",\n",
        "        \"Огненное настроение\",\n",
        "        \"Ты крайне мила\",\n",
        "        \"Сегодня планирую работать всю ночь\"\n",
        "]\n",
        "\n",
        "inputs = tokenizer(text, return_tensors=\"pt\", padding=True, truncation=True).to(device)\n",
        "\n",
        "model.eval()\n",
        "\n",
        "with torch.no_grad():\n",
        "    outputs = model(**inputs)\n",
        "\n",
        "logits = outputs\n",
        "\n",
        "probabilities = torch.softmax(logits, dim=-1)\n",
        "\n",
        "predicted_class = torch.argmax(probabilities, dim=-1)\n",
        "for index in range(len(text)):\n",
        "  print(f\"Text: {text[index]} #### Predicted class: {num_to_emoji(predicted_class[index].item())}\")"
      ],
      "metadata": {
        "colab": {
          "base_uri": "https://localhost:8080/"
        },
        "id": "EEjirJqsjyIx",
        "outputId": "6f93b47f-24a0-4eea-9260-54745802eabd"
      },
      "execution_count": 95,
      "outputs": [
        {
          "output_type": "stream",
          "name": "stdout",
          "text": [
            "Text: Здравствуйте, как ваши дела? #### Predicted class: 😊\n",
            "Text: Послушай песню которую я сам сочинил #### Predicted class: 😎\n",
            "Text: Знания Сила #### Predicted class: 💪\n",
            "Text: по выходным сплю дома целый день #### Predicted class: 🥲\n",
            "Text: Сегодня сдал экзамен #### Predicted class: 😎\n",
            "Text: Сегодня завалил зачет #### Predicted class: 😭\n",
            "Text: Я забыл сегодня поздравить Никиту #### Predicted class: 😭\n",
            "Text: У меня очень хорошее настроение #### Predicted class: 🥰\n",
            "Text: Давай выпьем пива вечером #### Predicted class: 😉\n",
            "Text: Огненное настроение #### Predicted class: 🔥\n",
            "Text: Ты крайне мила #### Predicted class: ❤\n",
            "Text: Сегодня планирую работать всю ночь #### Predicted class: 🥲\n"
          ]
        }
      ]
    }
  ],
  "metadata": {
    "accelerator": "GPU",
    "colab": {
      "gpuType": "T4",
      "provenance": []
    },
    "kernelspec": {
      "display_name": "Python 3",
      "name": "python3"
    },
    "language_info": {
      "codemirror_mode": {
        "name": "ipython",
        "version": 3
      },
      "file_extension": ".py",
      "mimetype": "text/x-python",
      "name": "python",
      "nbconvert_exporter": "python",
      "pygments_lexer": "ipython3",
      "version": "3.12.0"
    },
    "widgets": {
      "application/vnd.jupyter.widget-state+json": {
        "d09b7932111a4430a16b36ac92f234db": {
          "model_module": "@jupyter-widgets/controls",
          "model_name": "HBoxModel",
          "model_module_version": "1.5.0",
          "state": {
            "_dom_classes": [],
            "_model_module": "@jupyter-widgets/controls",
            "_model_module_version": "1.5.0",
            "_model_name": "HBoxModel",
            "_view_count": null,
            "_view_module": "@jupyter-widgets/controls",
            "_view_module_version": "1.5.0",
            "_view_name": "HBoxView",
            "box_style": "",
            "children": [
              "IPY_MODEL_1b211b26cd454daca3e94f595d66570b",
              "IPY_MODEL_ea02064443d342dcbacfc1ca19ec908a",
              "IPY_MODEL_283818282a7445fbbc2889b3043af124"
            ],
            "layout": "IPY_MODEL_5b14922aaf2d4a6a8c3bb3c8c785185d"
          }
        },
        "1b211b26cd454daca3e94f595d66570b": {
          "model_module": "@jupyter-widgets/controls",
          "model_name": "HTMLModel",
          "model_module_version": "1.5.0",
          "state": {
            "_dom_classes": [],
            "_model_module": "@jupyter-widgets/controls",
            "_model_module_version": "1.5.0",
            "_model_name": "HTMLModel",
            "_view_count": null,
            "_view_module": "@jupyter-widgets/controls",
            "_view_module_version": "1.5.0",
            "_view_name": "HTMLView",
            "description": "",
            "description_tooltip": null,
            "layout": "IPY_MODEL_593682c05e314e3a85ce411f1094b966",
            "placeholder": "​",
            "style": "IPY_MODEL_f0f033fe47f847a786ed0194144058cd",
            "value": "config.json: 100%"
          }
        },
        "ea02064443d342dcbacfc1ca19ec908a": {
          "model_module": "@jupyter-widgets/controls",
          "model_name": "FloatProgressModel",
          "model_module_version": "1.5.0",
          "state": {
            "_dom_classes": [],
            "_model_module": "@jupyter-widgets/controls",
            "_model_module_version": "1.5.0",
            "_model_name": "FloatProgressModel",
            "_view_count": null,
            "_view_module": "@jupyter-widgets/controls",
            "_view_module_version": "1.5.0",
            "_view_name": "ProgressView",
            "bar_style": "success",
            "description": "",
            "description_tooltip": null,
            "layout": "IPY_MODEL_f0024bc213054b64ba13be1a66ddba9a",
            "max": 715,
            "min": 0,
            "orientation": "horizontal",
            "style": "IPY_MODEL_4592ddee3819447ca541c98db92aa220",
            "value": 715
          }
        },
        "283818282a7445fbbc2889b3043af124": {
          "model_module": "@jupyter-widgets/controls",
          "model_name": "HTMLModel",
          "model_module_version": "1.5.0",
          "state": {
            "_dom_classes": [],
            "_model_module": "@jupyter-widgets/controls",
            "_model_module_version": "1.5.0",
            "_model_name": "HTMLModel",
            "_view_count": null,
            "_view_module": "@jupyter-widgets/controls",
            "_view_module_version": "1.5.0",
            "_view_name": "HTMLView",
            "description": "",
            "description_tooltip": null,
            "layout": "IPY_MODEL_d86f4d0a8f8d483296b90b20c207f277",
            "placeholder": "​",
            "style": "IPY_MODEL_3c07759d5c0148ec9e3ce06b3e889241",
            "value": " 715/715 [00:00&lt;00:00, 17.8kB/s]"
          }
        },
        "5b14922aaf2d4a6a8c3bb3c8c785185d": {
          "model_module": "@jupyter-widgets/base",
          "model_name": "LayoutModel",
          "model_module_version": "1.2.0",
          "state": {
            "_model_module": "@jupyter-widgets/base",
            "_model_module_version": "1.2.0",
            "_model_name": "LayoutModel",
            "_view_count": null,
            "_view_module": "@jupyter-widgets/base",
            "_view_module_version": "1.2.0",
            "_view_name": "LayoutView",
            "align_content": null,
            "align_items": null,
            "align_self": null,
            "border": null,
            "bottom": null,
            "display": null,
            "flex": null,
            "flex_flow": null,
            "grid_area": null,
            "grid_auto_columns": null,
            "grid_auto_flow": null,
            "grid_auto_rows": null,
            "grid_column": null,
            "grid_gap": null,
            "grid_row": null,
            "grid_template_areas": null,
            "grid_template_columns": null,
            "grid_template_rows": null,
            "height": null,
            "justify_content": null,
            "justify_items": null,
            "left": null,
            "margin": null,
            "max_height": null,
            "max_width": null,
            "min_height": null,
            "min_width": null,
            "object_fit": null,
            "object_position": null,
            "order": null,
            "overflow": null,
            "overflow_x": null,
            "overflow_y": null,
            "padding": null,
            "right": null,
            "top": null,
            "visibility": null,
            "width": null
          }
        },
        "593682c05e314e3a85ce411f1094b966": {
          "model_module": "@jupyter-widgets/base",
          "model_name": "LayoutModel",
          "model_module_version": "1.2.0",
          "state": {
            "_model_module": "@jupyter-widgets/base",
            "_model_module_version": "1.2.0",
            "_model_name": "LayoutModel",
            "_view_count": null,
            "_view_module": "@jupyter-widgets/base",
            "_view_module_version": "1.2.0",
            "_view_name": "LayoutView",
            "align_content": null,
            "align_items": null,
            "align_self": null,
            "border": null,
            "bottom": null,
            "display": null,
            "flex": null,
            "flex_flow": null,
            "grid_area": null,
            "grid_auto_columns": null,
            "grid_auto_flow": null,
            "grid_auto_rows": null,
            "grid_column": null,
            "grid_gap": null,
            "grid_row": null,
            "grid_template_areas": null,
            "grid_template_columns": null,
            "grid_template_rows": null,
            "height": null,
            "justify_content": null,
            "justify_items": null,
            "left": null,
            "margin": null,
            "max_height": null,
            "max_width": null,
            "min_height": null,
            "min_width": null,
            "object_fit": null,
            "object_position": null,
            "order": null,
            "overflow": null,
            "overflow_x": null,
            "overflow_y": null,
            "padding": null,
            "right": null,
            "top": null,
            "visibility": null,
            "width": null
          }
        },
        "f0f033fe47f847a786ed0194144058cd": {
          "model_module": "@jupyter-widgets/controls",
          "model_name": "DescriptionStyleModel",
          "model_module_version": "1.5.0",
          "state": {
            "_model_module": "@jupyter-widgets/controls",
            "_model_module_version": "1.5.0",
            "_model_name": "DescriptionStyleModel",
            "_view_count": null,
            "_view_module": "@jupyter-widgets/base",
            "_view_module_version": "1.2.0",
            "_view_name": "StyleView",
            "description_width": ""
          }
        },
        "f0024bc213054b64ba13be1a66ddba9a": {
          "model_module": "@jupyter-widgets/base",
          "model_name": "LayoutModel",
          "model_module_version": "1.2.0",
          "state": {
            "_model_module": "@jupyter-widgets/base",
            "_model_module_version": "1.2.0",
            "_model_name": "LayoutModel",
            "_view_count": null,
            "_view_module": "@jupyter-widgets/base",
            "_view_module_version": "1.2.0",
            "_view_name": "LayoutView",
            "align_content": null,
            "align_items": null,
            "align_self": null,
            "border": null,
            "bottom": null,
            "display": null,
            "flex": null,
            "flex_flow": null,
            "grid_area": null,
            "grid_auto_columns": null,
            "grid_auto_flow": null,
            "grid_auto_rows": null,
            "grid_column": null,
            "grid_gap": null,
            "grid_row": null,
            "grid_template_areas": null,
            "grid_template_columns": null,
            "grid_template_rows": null,
            "height": null,
            "justify_content": null,
            "justify_items": null,
            "left": null,
            "margin": null,
            "max_height": null,
            "max_width": null,
            "min_height": null,
            "min_width": null,
            "object_fit": null,
            "object_position": null,
            "order": null,
            "overflow": null,
            "overflow_x": null,
            "overflow_y": null,
            "padding": null,
            "right": null,
            "top": null,
            "visibility": null,
            "width": null
          }
        },
        "4592ddee3819447ca541c98db92aa220": {
          "model_module": "@jupyter-widgets/controls",
          "model_name": "ProgressStyleModel",
          "model_module_version": "1.5.0",
          "state": {
            "_model_module": "@jupyter-widgets/controls",
            "_model_module_version": "1.5.0",
            "_model_name": "ProgressStyleModel",
            "_view_count": null,
            "_view_module": "@jupyter-widgets/base",
            "_view_module_version": "1.2.0",
            "_view_name": "StyleView",
            "bar_color": null,
            "description_width": ""
          }
        },
        "d86f4d0a8f8d483296b90b20c207f277": {
          "model_module": "@jupyter-widgets/base",
          "model_name": "LayoutModel",
          "model_module_version": "1.2.0",
          "state": {
            "_model_module": "@jupyter-widgets/base",
            "_model_module_version": "1.2.0",
            "_model_name": "LayoutModel",
            "_view_count": null,
            "_view_module": "@jupyter-widgets/base",
            "_view_module_version": "1.2.0",
            "_view_name": "LayoutView",
            "align_content": null,
            "align_items": null,
            "align_self": null,
            "border": null,
            "bottom": null,
            "display": null,
            "flex": null,
            "flex_flow": null,
            "grid_area": null,
            "grid_auto_columns": null,
            "grid_auto_flow": null,
            "grid_auto_rows": null,
            "grid_column": null,
            "grid_gap": null,
            "grid_row": null,
            "grid_template_areas": null,
            "grid_template_columns": null,
            "grid_template_rows": null,
            "height": null,
            "justify_content": null,
            "justify_items": null,
            "left": null,
            "margin": null,
            "max_height": null,
            "max_width": null,
            "min_height": null,
            "min_width": null,
            "object_fit": null,
            "object_position": null,
            "order": null,
            "overflow": null,
            "overflow_x": null,
            "overflow_y": null,
            "padding": null,
            "right": null,
            "top": null,
            "visibility": null,
            "width": null
          }
        },
        "3c07759d5c0148ec9e3ce06b3e889241": {
          "model_module": "@jupyter-widgets/controls",
          "model_name": "DescriptionStyleModel",
          "model_module_version": "1.5.0",
          "state": {
            "_model_module": "@jupyter-widgets/controls",
            "_model_module_version": "1.5.0",
            "_model_name": "DescriptionStyleModel",
            "_view_count": null,
            "_view_module": "@jupyter-widgets/base",
            "_view_module_version": "1.2.0",
            "_view_name": "StyleView",
            "description_width": ""
          }
        },
        "fb5200d6df904fc5bcdd3cc64232f4d5": {
          "model_module": "@jupyter-widgets/controls",
          "model_name": "HBoxModel",
          "model_module_version": "1.5.0",
          "state": {
            "_dom_classes": [],
            "_model_module": "@jupyter-widgets/controls",
            "_model_module_version": "1.5.0",
            "_model_name": "HBoxModel",
            "_view_count": null,
            "_view_module": "@jupyter-widgets/controls",
            "_view_module_version": "1.5.0",
            "_view_name": "HBoxView",
            "box_style": "",
            "children": [
              "IPY_MODEL_f5d2f462033a4b0ebd62536c94def45c",
              "IPY_MODEL_820c58f204d34cb5975b928a0221345e",
              "IPY_MODEL_92a8f2c0f30f411c8aef4b1643de8470"
            ],
            "layout": "IPY_MODEL_a46e276459854a18991a260f62fe4920"
          }
        },
        "f5d2f462033a4b0ebd62536c94def45c": {
          "model_module": "@jupyter-widgets/controls",
          "model_name": "HTMLModel",
          "model_module_version": "1.5.0",
          "state": {
            "_dom_classes": [],
            "_model_module": "@jupyter-widgets/controls",
            "_model_module_version": "1.5.0",
            "_model_name": "HTMLModel",
            "_view_count": null,
            "_view_module": "@jupyter-widgets/controls",
            "_view_module_version": "1.5.0",
            "_view_name": "HTMLView",
            "description": "",
            "description_tooltip": null,
            "layout": "IPY_MODEL_5e5734b4abf94677ace98587db0dd8ea",
            "placeholder": "​",
            "style": "IPY_MODEL_d50939d7b9b942a1bee1a55fa54ad161",
            "value": "model.safetensors: 100%"
          }
        },
        "820c58f204d34cb5975b928a0221345e": {
          "model_module": "@jupyter-widgets/controls",
          "model_name": "FloatProgressModel",
          "model_module_version": "1.5.0",
          "state": {
            "_dom_classes": [],
            "_model_module": "@jupyter-widgets/controls",
            "_model_module_version": "1.5.0",
            "_model_name": "FloatProgressModel",
            "_view_count": null,
            "_view_module": "@jupyter-widgets/controls",
            "_view_module_version": "1.5.0",
            "_view_name": "ProgressView",
            "bar_style": "success",
            "description": "",
            "description_tooltip": null,
            "layout": "IPY_MODEL_acc697a014f443f5903b338e0112dec1",
            "max": 1614876488,
            "min": 0,
            "orientation": "horizontal",
            "style": "IPY_MODEL_0cc844d24fd94cbfbc32dd8fff069f9c",
            "value": 1614876488
          }
        },
        "92a8f2c0f30f411c8aef4b1643de8470": {
          "model_module": "@jupyter-widgets/controls",
          "model_name": "HTMLModel",
          "model_module_version": "1.5.0",
          "state": {
            "_dom_classes": [],
            "_model_module": "@jupyter-widgets/controls",
            "_model_module_version": "1.5.0",
            "_model_name": "HTMLModel",
            "_view_count": null,
            "_view_module": "@jupyter-widgets/controls",
            "_view_module_version": "1.5.0",
            "_view_name": "HTMLView",
            "description": "",
            "description_tooltip": null,
            "layout": "IPY_MODEL_c26c3317f6924d7abe50200be89e8528",
            "placeholder": "​",
            "style": "IPY_MODEL_09549ba50d064153b33737932bdbc5f2",
            "value": " 1.61G/1.61G [00:18&lt;00:00, 144MB/s]"
          }
        },
        "a46e276459854a18991a260f62fe4920": {
          "model_module": "@jupyter-widgets/base",
          "model_name": "LayoutModel",
          "model_module_version": "1.2.0",
          "state": {
            "_model_module": "@jupyter-widgets/base",
            "_model_module_version": "1.2.0",
            "_model_name": "LayoutModel",
            "_view_count": null,
            "_view_module": "@jupyter-widgets/base",
            "_view_module_version": "1.2.0",
            "_view_name": "LayoutView",
            "align_content": null,
            "align_items": null,
            "align_self": null,
            "border": null,
            "bottom": null,
            "display": null,
            "flex": null,
            "flex_flow": null,
            "grid_area": null,
            "grid_auto_columns": null,
            "grid_auto_flow": null,
            "grid_auto_rows": null,
            "grid_column": null,
            "grid_gap": null,
            "grid_row": null,
            "grid_template_areas": null,
            "grid_template_columns": null,
            "grid_template_rows": null,
            "height": null,
            "justify_content": null,
            "justify_items": null,
            "left": null,
            "margin": null,
            "max_height": null,
            "max_width": null,
            "min_height": null,
            "min_width": null,
            "object_fit": null,
            "object_position": null,
            "order": null,
            "overflow": null,
            "overflow_x": null,
            "overflow_y": null,
            "padding": null,
            "right": null,
            "top": null,
            "visibility": null,
            "width": null
          }
        },
        "5e5734b4abf94677ace98587db0dd8ea": {
          "model_module": "@jupyter-widgets/base",
          "model_name": "LayoutModel",
          "model_module_version": "1.2.0",
          "state": {
            "_model_module": "@jupyter-widgets/base",
            "_model_module_version": "1.2.0",
            "_model_name": "LayoutModel",
            "_view_count": null,
            "_view_module": "@jupyter-widgets/base",
            "_view_module_version": "1.2.0",
            "_view_name": "LayoutView",
            "align_content": null,
            "align_items": null,
            "align_self": null,
            "border": null,
            "bottom": null,
            "display": null,
            "flex": null,
            "flex_flow": null,
            "grid_area": null,
            "grid_auto_columns": null,
            "grid_auto_flow": null,
            "grid_auto_rows": null,
            "grid_column": null,
            "grid_gap": null,
            "grid_row": null,
            "grid_template_areas": null,
            "grid_template_columns": null,
            "grid_template_rows": null,
            "height": null,
            "justify_content": null,
            "justify_items": null,
            "left": null,
            "margin": null,
            "max_height": null,
            "max_width": null,
            "min_height": null,
            "min_width": null,
            "object_fit": null,
            "object_position": null,
            "order": null,
            "overflow": null,
            "overflow_x": null,
            "overflow_y": null,
            "padding": null,
            "right": null,
            "top": null,
            "visibility": null,
            "width": null
          }
        },
        "d50939d7b9b942a1bee1a55fa54ad161": {
          "model_module": "@jupyter-widgets/controls",
          "model_name": "DescriptionStyleModel",
          "model_module_version": "1.5.0",
          "state": {
            "_model_module": "@jupyter-widgets/controls",
            "_model_module_version": "1.5.0",
            "_model_name": "DescriptionStyleModel",
            "_view_count": null,
            "_view_module": "@jupyter-widgets/base",
            "_view_module_version": "1.2.0",
            "_view_name": "StyleView",
            "description_width": ""
          }
        },
        "acc697a014f443f5903b338e0112dec1": {
          "model_module": "@jupyter-widgets/base",
          "model_name": "LayoutModel",
          "model_module_version": "1.2.0",
          "state": {
            "_model_module": "@jupyter-widgets/base",
            "_model_module_version": "1.2.0",
            "_model_name": "LayoutModel",
            "_view_count": null,
            "_view_module": "@jupyter-widgets/base",
            "_view_module_version": "1.2.0",
            "_view_name": "LayoutView",
            "align_content": null,
            "align_items": null,
            "align_self": null,
            "border": null,
            "bottom": null,
            "display": null,
            "flex": null,
            "flex_flow": null,
            "grid_area": null,
            "grid_auto_columns": null,
            "grid_auto_flow": null,
            "grid_auto_rows": null,
            "grid_column": null,
            "grid_gap": null,
            "grid_row": null,
            "grid_template_areas": null,
            "grid_template_columns": null,
            "grid_template_rows": null,
            "height": null,
            "justify_content": null,
            "justify_items": null,
            "left": null,
            "margin": null,
            "max_height": null,
            "max_width": null,
            "min_height": null,
            "min_width": null,
            "object_fit": null,
            "object_position": null,
            "order": null,
            "overflow": null,
            "overflow_x": null,
            "overflow_y": null,
            "padding": null,
            "right": null,
            "top": null,
            "visibility": null,
            "width": null
          }
        },
        "0cc844d24fd94cbfbc32dd8fff069f9c": {
          "model_module": "@jupyter-widgets/controls",
          "model_name": "ProgressStyleModel",
          "model_module_version": "1.5.0",
          "state": {
            "_model_module": "@jupyter-widgets/controls",
            "_model_module_version": "1.5.0",
            "_model_name": "ProgressStyleModel",
            "_view_count": null,
            "_view_module": "@jupyter-widgets/base",
            "_view_module_version": "1.2.0",
            "_view_name": "StyleView",
            "bar_color": null,
            "description_width": ""
          }
        },
        "c26c3317f6924d7abe50200be89e8528": {
          "model_module": "@jupyter-widgets/base",
          "model_name": "LayoutModel",
          "model_module_version": "1.2.0",
          "state": {
            "_model_module": "@jupyter-widgets/base",
            "_model_module_version": "1.2.0",
            "_model_name": "LayoutModel",
            "_view_count": null,
            "_view_module": "@jupyter-widgets/base",
            "_view_module_version": "1.2.0",
            "_view_name": "LayoutView",
            "align_content": null,
            "align_items": null,
            "align_self": null,
            "border": null,
            "bottom": null,
            "display": null,
            "flex": null,
            "flex_flow": null,
            "grid_area": null,
            "grid_auto_columns": null,
            "grid_auto_flow": null,
            "grid_auto_rows": null,
            "grid_column": null,
            "grid_gap": null,
            "grid_row": null,
            "grid_template_areas": null,
            "grid_template_columns": null,
            "grid_template_rows": null,
            "height": null,
            "justify_content": null,
            "justify_items": null,
            "left": null,
            "margin": null,
            "max_height": null,
            "max_width": null,
            "min_height": null,
            "min_width": null,
            "object_fit": null,
            "object_position": null,
            "order": null,
            "overflow": null,
            "overflow_x": null,
            "overflow_y": null,
            "padding": null,
            "right": null,
            "top": null,
            "visibility": null,
            "width": null
          }
        },
        "09549ba50d064153b33737932bdbc5f2": {
          "model_module": "@jupyter-widgets/controls",
          "model_name": "DescriptionStyleModel",
          "model_module_version": "1.5.0",
          "state": {
            "_model_module": "@jupyter-widgets/controls",
            "_model_module_version": "1.5.0",
            "_model_name": "DescriptionStyleModel",
            "_view_count": null,
            "_view_module": "@jupyter-widgets/base",
            "_view_module_version": "1.2.0",
            "_view_name": "StyleView",
            "description_width": ""
          }
        }
      }
    }
  },
  "nbformat": 4,
  "nbformat_minor": 0
}